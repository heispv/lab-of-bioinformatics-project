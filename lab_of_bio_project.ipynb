{
  "nbformat": 4,
  "nbformat_minor": 0,
  "metadata": {
    "colab": {
      "provenance": []
    },
    "kernelspec": {
      "name": "python3",
      "display_name": "Python 3"
    },
    "language_info": {
      "name": "python"
    }
  },
  "cells": [
    {
      "cell_type": "code",
      "source": [
        "!sudo apt-get update >/dev/null"
      ],
      "metadata": {
        "id": "23KIcJ_ULkjr"
      },
      "execution_count": 19,
      "outputs": []
    },
    {
      "cell_type": "code",
      "source": [
        "!sudo apt-get install ncbi-blast+"
      ],
      "metadata": {
        "id": "I_B1Yqe0LqQG"
      },
      "execution_count": null,
      "outputs": []
    },
    {
      "cell_type": "code",
      "execution_count": 3,
      "metadata": {
        "id": "CGAlpX0x9d0Y"
      },
      "outputs": [],
      "source": [
        "!mkdir data"
      ]
    },
    {
      "cell_type": "code",
      "source": [
        "%cd data"
      ],
      "metadata": {
        "colab": {
          "base_uri": "https://localhost:8080/"
        },
        "id": "Me4o31wz_Uoe",
        "outputId": "c5eae5c2-1c0d-4b2b-8e51-4a24dd31d14a"
      },
      "execution_count": 4,
      "outputs": [
        {
          "output_type": "stream",
          "name": "stdout",
          "text": [
            "/content/data\n"
          ]
        }
      ]
    },
    {
      "cell_type": "code",
      "source": [
        "!wget -O human_bpti.fasta.gz 'https://rest.uniprot.org/uniprotkb/stream?compressed=true&format=fasta&query=%28%28xref%3Apfam-PF00014%29%29+AND+%28reviewed%3Atrue%29+AND+%28model_organism%3A9606%29'"
      ],
      "metadata": {
        "id": "MkvjqYjjKQyg"
      },
      "execution_count": null,
      "outputs": []
    },
    {
      "cell_type": "code",
      "source": [
        "!zcat -f human_bpti.fasta.gz > human_bpti.fasta"
      ],
      "metadata": {
        "id": "maQiGhleKV6O"
      },
      "execution_count": 8,
      "outputs": []
    },
    {
      "cell_type": "code",
      "source": [
        "!grep \">\" human_bpti.fasta | wc"
      ],
      "metadata": {
        "colab": {
          "base_uri": "https://localhost:8080/"
        },
        "id": "N78LV5W_Ka5Q",
        "outputId": "33703891-8950-4edf-b899-e2f8360fc87e"
      },
      "execution_count": 10,
      "outputs": [
        {
          "output_type": "stream",
          "name": "stdout",
          "text": [
            "     18     203    1793\n"
          ]
        }
      ]
    },
    {
      "cell_type": "code",
      "source": [
        "!wget -O non_human_bpti.fasta.gz \"https://rest.uniprot.org/uniprotkb/stream?compressed=true&format=fasta&query=%28%28xref%3Apfam-PF00014%29+NOT+%28organism_id%3A9606%29%29+AND+%28reviewed%3Atrue%29\""
      ],
      "metadata": {
        "id": "wHNtqo3HKhkE"
      },
      "execution_count": null,
      "outputs": []
    },
    {
      "cell_type": "code",
      "source": [
        "!zcat -f non_human_bpti.fasta.gz > non_human_bpti.fasta"
      ],
      "metadata": {
        "id": "XzDvoh6CKoL-"
      },
      "execution_count": 13,
      "outputs": []
    },
    {
      "cell_type": "code",
      "source": [
        "!grep \">\" non_human_bpti.fasta | wc"
      ],
      "metadata": {
        "colab": {
          "base_uri": "https://localhost:8080/"
        },
        "id": "vXuSkEtDKsXV",
        "outputId": "037b59fe-7415-43b8-fa1d-4d998802aa96"
      },
      "execution_count": 14,
      "outputs": [
        {
          "output_type": "stream",
          "name": "stdout",
          "text": [
            "    373    3715   38651\n"
          ]
        }
      ]
    },
    {
      "cell_type": "code",
      "source": [
        "!wget -O human_not_bpti.fasta.gz \"https://rest.uniprot.org/uniprotkb/stream?compressed=true&format=fasta&query=%28%28organism_id%3A9606%29+NOT+%28xref%3Apfam-PF00014%29+AND+%28reviewed%3Atrue%29%29\""
      ],
      "metadata": {
        "id": "f5rQZbOAKvZE"
      },
      "execution_count": null,
      "outputs": []
    },
    {
      "cell_type": "code",
      "source": [
        "!zcat -f human_not_bpti.fasta.gz > human_not_bpti.fasta"
      ],
      "metadata": {
        "id": "ThtVJTZjLAtc"
      },
      "execution_count": 44,
      "outputs": []
    },
    {
      "cell_type": "code",
      "source": [
        "!grep \">\" human_not_bpti.fasta | wc"
      ],
      "metadata": {
        "colab": {
          "base_uri": "https://localhost:8080/"
        },
        "id": "F6QIGZeZLGmX",
        "outputId": "ade714e1-b76b-4ea3-b417-f524bdb89377"
      },
      "execution_count": 45,
      "outputs": [
        {
          "output_type": "stream",
          "name": "stdout",
          "text": [
            "  20416  223964 2052010\n"
          ]
        }
      ]
    },
    {
      "cell_type": "code",
      "source": [
        "!rm *.gz"
      ],
      "metadata": {
        "id": "U-Crs6KBLIaD"
      },
      "execution_count": 46,
      "outputs": []
    },
    {
      "cell_type": "code",
      "source": [
        "!makeblastdb -in human_bpti.fasta -dbtype prot"
      ],
      "metadata": {
        "colab": {
          "base_uri": "https://localhost:8080/"
        },
        "id": "LdgkJHpLLMgo",
        "outputId": "37b1cec2-9fe3-40ac-89f9-185098957d1b"
      },
      "execution_count": 22,
      "outputs": [
        {
          "output_type": "stream",
          "name": "stdout",
          "text": [
            "\n",
            "\n",
            "Building a new DB, current time: 04/09/2024 14:07:58\n",
            "New DB name:   /content/data/human_bpti.fasta\n",
            "New DB title:  human_bpti.fasta\n",
            "Sequence type: Protein\n",
            "Keep MBits: T\n",
            "Maximum file size: 1000000000B\n",
            "Adding sequences from FASTA; added 18 sequences in 0.00100303 seconds.\n",
            "\n",
            "\n"
          ]
        }
      ]
    },
    {
      "cell_type": "code",
      "source": [
        "!blastp -query non_human_bpti.fasta -db human_bpti.fasta -out non_human_bpti.blast -outfmt 7"
      ],
      "metadata": {
        "id": "JqrkiRL8L-Mq"
      },
      "execution_count": 23,
      "outputs": []
    },
    {
      "cell_type": "code",
      "source": [
        "!grep -v \"^#\" non_human_bpti.blast | head -n 10"
      ],
      "metadata": {
        "colab": {
          "base_uri": "https://localhost:8080/"
        },
        "id": "JRFWbRDeMIri",
        "outputId": "0adcb65a-118b-4bb9-910a-4b551bab1680"
      },
      "execution_count": 25,
      "outputs": [
        {
          "output_type": "stream",
          "name": "stdout",
          "text": [
            "sp|A0A1Z0YU59|MAMB1_DENAN\tsp|P10646|TFPI1_HUMAN\t43.636\t55\t31\t0\t1\t55\t121\t175\t2.98e-16\t61.2\n",
            "sp|A0A1Z0YU59|MAMB1_DENAN\tsp|P10646|TFPI1_HUMAN\t40.741\t54\t32\t0\t3\t56\t52\t105\t1.23e-14\t57.0\n",
            "sp|A0A1Z0YU59|MAMB1_DENAN\tsp|P10646|TFPI1_HUMAN\t40.741\t54\t32\t0\t2\t55\t214\t267\t4.03e-11\t47.0\n",
            "sp|A0A1Z0YU59|MAMB1_DENAN\tsp|Q02388|CO7A1_HUMAN\t46.296\t54\t26\t1\t5\t55\t2876\t2929\t8.17e-15\t57.8\n",
            "sp|A0A1Z0YU59|MAMB1_DENAN\tsp|P12111|CO6A3_HUMAN\t41.176\t51\t30\t0\t5\t55\t3112\t3162\t1.77e-14\t56.6\n",
            "sp|A0A1Z0YU59|MAMB1_DENAN\tsp|P48307|TFPI2_HUMAN\t45.283\t53\t29\t0\t3\t55\t34\t86\t3.12e-14\t55.5\n",
            "sp|A0A1Z0YU59|MAMB1_DENAN\tsp|P48307|TFPI2_HUMAN\t40.000\t50\t30\t0\t2\t51\t155\t204\t9.09e-10\t43.1\n",
            "sp|A0A1Z0YU59|MAMB1_DENAN\tsp|P48307|TFPI2_HUMAN\t29.310\t58\t38\t2\t2\t56\t93\t150\t0.005\t24.3\n",
            "sp|A0A1Z0YU59|MAMB1_DENAN\tsp|O95925|EPPI_HUMAN\t40.000\t55\t33\t0\t1\t55\t73\t127\t3.41e-14\t53.9\n",
            "sp|A0A1Z0YU59|MAMB1_DENAN\tsp|P49223|SPIT3_HUMAN\t38.889\t54\t33\t0\t2\t55\t33\t86\t4.53e-14\t52.4\n"
          ]
        }
      ]
    },
    {
      "cell_type": "code",
      "source": [
        "!grep -v \"^#\" non_human_bpti.blast | cut -f 1 | head -n 10"
      ],
      "metadata": {
        "colab": {
          "base_uri": "https://localhost:8080/"
        },
        "id": "s5dgTRMUMMRx",
        "outputId": "283330b7-31d4-499c-f6bb-4b691b18034e"
      },
      "execution_count": 28,
      "outputs": [
        {
          "output_type": "stream",
          "name": "stdout",
          "text": [
            "sp|A0A1Z0YU59|MAMB1_DENAN\n",
            "sp|A0A1Z0YU59|MAMB1_DENAN\n",
            "sp|A0A1Z0YU59|MAMB1_DENAN\n",
            "sp|A0A1Z0YU59|MAMB1_DENAN\n",
            "sp|A0A1Z0YU59|MAMB1_DENAN\n",
            "sp|A0A1Z0YU59|MAMB1_DENAN\n",
            "sp|A0A1Z0YU59|MAMB1_DENAN\n",
            "sp|A0A1Z0YU59|MAMB1_DENAN\n",
            "sp|A0A1Z0YU59|MAMB1_DENAN\n",
            "sp|A0A1Z0YU59|MAMB1_DENAN\n"
          ]
        }
      ]
    },
    {
      "cell_type": "code",
      "source": [
        "!grep -v \"^#\" non_human_bpti.blast | cut -f 1 | sort -u | cut -d \"|\" -f 2 > non_human_bpti.ids"
      ],
      "metadata": {
        "id": "CAwjfTH7MbLf"
      },
      "execution_count": 31,
      "outputs": []
    },
    {
      "cell_type": "code",
      "source": [
        "!cat non_human_bpti.ids | head -n 10"
      ],
      "metadata": {
        "colab": {
          "base_uri": "https://localhost:8080/"
        },
        "id": "JJI4KWHcNG-L",
        "outputId": "a07497cd-68ac-4a96-f9e7-b9f5da4ee980"
      },
      "execution_count": 33,
      "outputs": [
        {
          "output_type": "stream",
          "name": "stdout",
          "text": [
            "A0A1D0BND9\n",
            "A0A1Z0YU59\n",
            "A0A3G2FQK2\n",
            "A0A6B7FA07\n",
            "A0A6B7FBD3\n",
            "A0A6B7FEJ3\n",
            "A0A6P8HC43\n",
            "A5X2X1\n",
            "A6MFL1\n",
            "A6MFL2\n"
          ]
        }
      ]
    },
    {
      "cell_type": "code",
      "source": [
        "!wc non_human_bpti.ids"
      ],
      "metadata": {
        "colab": {
          "base_uri": "https://localhost:8080/"
        },
        "id": "KqipfLxWNYi3",
        "outputId": "18223603-bdb8-4efd-bf99-9ac8ebc27d81"
      },
      "execution_count": 34,
      "outputs": [
        {
          "output_type": "stream",
          "name": "stdout",
          "text": [
            " 373  373 2639 non_human_bpti.ids\n"
          ]
        }
      ]
    },
    {
      "cell_type": "code",
      "source": [
        "!for i in `cat non_human_bpti.ids`; do grep \"|\"$i\"|\" non_human_bpti.blast | grep -v \"^#\" | sort -gk 11 | head -n 1; done > non_human_bpti.match"
      ],
      "metadata": {
        "id": "V1xd7vYuOrJU"
      },
      "execution_count": 39,
      "outputs": []
    },
    {
      "cell_type": "code",
      "source": [
        "!cat non_human_bpti.match | head -n 10"
      ],
      "metadata": {
        "colab": {
          "base_uri": "https://localhost:8080/"
        },
        "id": "MzN_MzE1O7yC",
        "outputId": "b301ba2e-55b3-4ad1-a059-b0d581394940"
      },
      "execution_count": 40,
      "outputs": [
        {
          "output_type": "stream",
          "name": "stdout",
          "text": [
            "sp|A0A1D0BND9|TD1A_HADIN\tsp|P10646|TFPI1_HUMAN\t37.255\t102\t53\t1\t33\t123\t61\t162\t1.18e-18\t70.9\n",
            "sp|A0A1Z0YU59|MAMB1_DENAN\tsp|P10646|TFPI1_HUMAN\t43.636\t55\t31\t0\t1\t55\t121\t175\t2.98e-16\t61.2\n",
            "sp|A0A3G2FQK2|3DPD_HETMG\tsp|Q06481|APLP2_HUMAN\t55.556\t54\t24\t0\t19\t72\t309\t362\t2.69e-21\t76.6\n",
            "sp|A0A6B7FA07|VKT2J_HETCR\tsp|Q06481|APLP2_HUMAN\t55.556\t54\t24\t0\t19\t72\t309\t362\t3.33e-21\t76.6\n",
            "sp|A0A6B7FBD3|VKT2I_HETCR\tsp|Q06481|APLP2_HUMAN\t55.556\t54\t24\t0\t32\t85\t309\t362\t3.97e-21\t77.0\n",
            "sp|A0A6B7FEJ3|VKT2K_HETCR\tsp|Q06481|APLP2_HUMAN\t55.556\t54\t24\t0\t19\t72\t309\t362\t4.01e-21\t76.3\n",
            "sp|A0A6P8HC43|ATPI1_ACTTE\tsp|P10646|TFPI1_HUMAN\t34.746\t236\t131\t2\t69\t281\t32\t267\t5.59e-45\t146\n",
            "sp|A5X2X1|VKT_SISCA\tsp|P10646|TFPI1_HUMAN\t50.000\t62\t31\t0\t25\t86\t119\t180\t1.43e-17\t68.9\n",
            "sp|A6MFL1|VKT1_DEMVE\tsp|P12111|CO6A3_HUMAN\t42.593\t54\t31\t0\t29\t82\t3110\t3163\t5.71e-17\t65.1\n",
            "sp|A6MFL2|VKT2_DEMVE\tsp|P10646|TFPI1_HUMAN\t46.552\t58\t31\t0\t24\t81\t118\t175\t3.89e-16\t62.4\n"
          ]
        }
      ]
    },
    {
      "cell_type": "code",
      "source": [
        "!wc non_human_bpti.match"
      ],
      "metadata": {
        "colab": {
          "base_uri": "https://localhost:8080/"
        },
        "id": "w0s23l8JQV4c",
        "outputId": "eddbb1c6-bc57-42c0-c58f-86f8e70d444e"
      },
      "execution_count": 41,
      "outputs": [
        {
          "output_type": "stream",
          "name": "stdout",
          "text": [
            "  373  4476 32109 non_human_bpti.match\n"
          ]
        }
      ]
    },
    {
      "cell_type": "code",
      "source": [],
      "metadata": {
        "id": "lEKDM3rdQppk"
      },
      "execution_count": null,
      "outputs": []
    }
  ]
}