{
  "cells": [
    {
      "cell_type": "code",
      "execution_count": null,
      "metadata": {
        "id": "Q3MIABPajQ8e",
        "collapsed": true
      },
      "outputs": [],
      "source": [
        "# install hmmer library\n",
        "!sudo apt-get install hmmer\n",
        "!sudo apt-get install hmmer-doc\n",
        "!sudo apt-get install ncbi-blast+"
      ]
    },
    {
      "cell_type": "code",
      "execution_count": 2,
      "metadata": {
        "id": "OlkE7gYYO4x9"
      },
      "outputs": [],
      "source": [
        "import pandas as pd"
      ]
    },
    {
      "cell_type": "markdown",
      "source": [
        "## Get the 3D structure\n",
        "CSV files of PF00014 domains are based on two different queries.\n",
        "\n",
        "```\n",
        "( Identifier = \"PF00014\" AND Annotation Type = \"Pfam\" ) AND Data Collection Resolution < 3 AND Polymer Entity Sequence Length = [ 50 - 80 ] AND Polymer Entity Mutation Count < 10\n",
        "```\n",
        "and\n",
        "```\n",
        " ( Identifier = \"PF00014\" AND Annotation Type = \"Pfam\" ) AND Data Collection Resolution < 2 AND Polymer Entity Sequence Length = [ 50 - 80 ] AND Polymer Entity Mutation Count < 2\n",
        " ```\n",
        " the difference are the `Resolution(3Å vs 2Å)`, `Polymer Entity Mutation Count(10 vs 2)` and at the end `grouping the polymer entities with different sequence identity(100% vs 50%)`.\n",
        "\n",
        " The stricter criteria, with a resolution of 2Å, a mutation count of less than 2, and a sequence identity of 100%, may lead to a smaller sample size but potentially higher quality data, while the less strict criteria, with a resolution of 3Å, a mutation count of less than 10, and a sequence identity of 50%, could yield a larger sample size but with a risk of including lower quality data. With the stricter rules, we have obtained 14 samples, whereas with the less strict rule, we have collected 28 samples. Additionally, we aim to assess which set of criteria—either the more stringent or the less restrictive—ultimately yields superior results in terms of sample quality and relevance to our research objectives."
      ],
      "metadata": {
        "id": "xvIignZ9RR3f"
      }
    },
    {
      "cell_type": "markdown",
      "source": [
        "Now we can download the tabular CSV files which contain `Entity ID`, `Sequence`, `Auth Asym ID`"
      ],
      "metadata": {
        "id": "Xya4qG2nZlix"
      }
    },
    {
      "cell_type": "code",
      "source": [
        "!wget -O strict_seq.csv \"https://github.com/heispv/bioinformatics/raw/master/lab-of-bioinformatics/project_files/strict.csv\"\n",
        "!wget -O not_strict_seq.csv \"https://github.com/heispv/bioinformatics/raw/master/lab-of-bioinformatics/project_files/not_strict.csv\""
      ],
      "metadata": {
        "id": "NWtEkVIDpPuB"
      },
      "execution_count": null,
      "outputs": []
    },
    {
      "cell_type": "markdown",
      "metadata": {
        "id": "_8uMuFACnusb"
      },
      "source": [
        "## Clean csv file"
      ]
    },
    {
      "cell_type": "code",
      "execution_count": 4,
      "metadata": {
        "id": "jiGaKijcO9Ry"
      },
      "outputs": [],
      "source": [
        "def clean_csv_file(path: str, output_file_name: str, string_or_file: str = 'f', save_format: str = 'f') -> str or None:\n",
        "    \"\"\"\n",
        "    Reads and cleans a CSV file, providing options to return the cleaned data as a string or save it into a file.\n",
        "\n",
        "    Parameters:\n",
        "        path (str): The path to the CSV file to be cleaned.\n",
        "        output_file_name (str): The name of the output file. Defaults to \"output_seq\".\n",
        "        string_or_file (str): Determines whether to return the cleaned data as a string ('s') or save it into a file ('f'). Defaults to 'f'.\n",
        "        save_format (str): Determines the format for saving the data into a file. For keys ('k') or Fasta format ('f'). Defaults to 'f'.\n",
        "\n",
        "    Returns:\n",
        "        str or None: If the user chooses to get the results as a variable ('s'),\n",
        "        the cleaned data is returned as a string. If the user chooses to save the\n",
        "        results into a file ('f'), the cleaned data is saved into a file.\n",
        "    \"\"\"\n",
        "    df = pd.read_csv(path)\n",
        "    df = df.dropna(subset=['Entity ID'])\n",
        "    df['Entity ID'] = df['Entity ID'].str.split('_').str[0] + ':' + df['Auth Asym ID']\n",
        "    df = df.drop(columns=['Auth Asym ID'])\n",
        "    df = df.reset_index(drop=True)\n",
        "\n",
        "    # Save the output into a variable\n",
        "    if string_or_file == 's':\n",
        "        return '\\n'.join(df['Entity ID'].values)\n",
        "\n",
        "    # Save the output into a file\n",
        "    elif string_or_file == 'f':\n",
        "        if save_format == 'f':\n",
        "            with open(output_file_name + '.fasta', 'w') as file:\n",
        "                for idx, row in df.iterrows():\n",
        "                    file.write(f\"> {row['Entity ID']}\\n{row['Sequence']}\\n\")\n",
        "            print('Data saved to', output_file_name + '.fasta')\n",
        "        elif save_format == 'k':\n",
        "            with open(output_file_name + '.txt', 'w') as f:\n",
        "                f.write('\\n'.join(df['Entity ID'].values))\n",
        "            print('Data saved to', output_file_name + '.txt')\n"
      ]
    },
    {
      "cell_type": "code",
      "execution_count": 5,
      "metadata": {
        "colab": {
          "base_uri": "https://localhost:8080/"
        },
        "id": "aGiuiX3TPBpD",
        "outputId": "4912f950-fe84-4430-d09b-1d2dd4173b25"
      },
      "outputs": [
        {
          "output_type": "stream",
          "name": "stdout",
          "text": [
            "Data saved to strict_seqs.fasta\n"
          ]
        }
      ],
      "source": [
        "clean_csv_file(\n",
        "    path='strict_seq.csv',\n",
        "    output_file_name='strict_seqs',\n",
        "    string_or_file='f',\n",
        "    save_format='f'\n",
        "    )"
      ]
    },
    {
      "cell_type": "code",
      "source": [
        "clean_csv_file(\n",
        "    path='not_strict_seq.csv',\n",
        "    output_file_name='not_strict_seqs',\n",
        "    string_or_file='f',\n",
        "    save_format='f'\n",
        "    )"
      ],
      "metadata": {
        "colab": {
          "base_uri": "https://localhost:8080/"
        },
        "id": "NDvXKTaErmsF",
        "outputId": "9630014d-7999-463b-f693-b933ee185e9d"
      },
      "execution_count": 6,
      "outputs": [
        {
          "output_type": "stream",
          "name": "stdout",
          "text": [
            "Data saved to not_strict_seqs.fasta\n"
          ]
        }
      ]
    },
    {
      "cell_type": "code",
      "execution_count": 7,
      "metadata": {
        "id": "HeHArpBRV69-",
        "colab": {
          "base_uri": "https://localhost:8080/"
        },
        "outputId": "cbfcd5df-28f6-4a84-d631-b689af897f11"
      },
      "outputs": [
        {
          "output_type": "stream",
          "name": "stdout",
          "text": [
            "> 1AAP:A\n",
            "VREVCSEQAETGPCRAMISRWYFDVTEGKCAPFFYGGCGGNRNNFDTEEYCMAVCGSA\n",
            "> 1KTH:A\n",
            "ETDICKLPKDEGTCRDFILKWYYDPNTKSCARFWYGGCGGNENKFGSQKECEKVCAPV\n",
            "> 1ZR0:B\n",
            "PTGNNAEICLLPLDYGPCRALLLRYYYDRYTQSCRQFLYGGCEGNANNFYTWEACDDACWRIE\n",
            "> 3BYB:A\n",
            "KDRPDFCELPADTGPCRVRFPSFYYNPDEKKCLEFIYGGCEGNANNFITKEECESTCAA\n",
            "> 3M7Q:B\n",
            "EAEASICSEPKKVGRCKGYFPRFYFDSETGKCTPFIYGGCGGNGNNFETLHQCRAICRALG\n"
          ]
        }
      ],
      "source": [
        "!cat strict_seqs.fasta | head -n 10"
      ]
    },
    {
      "cell_type": "markdown",
      "source": [
        "We can use the same function which we used to clean the csv file, to only extract the ids of the sequences. these ids are going to be used as input files in the PDBeFold website to get Multiple Seqence Alignment based on Multiple Structure Alignemt."
      ],
      "metadata": {
        "id": "d1Neq1LVtnjB"
      }
    },
    {
      "cell_type": "code",
      "source": [
        "# Get sequence ids as .txt file for the PDBeFold input\n",
        "clean_csv_file(\n",
        "    path='strict_seq.csv',\n",
        "    output_file_name='strict_ids',\n",
        "    string_or_file='f',\n",
        "    save_format='k'\n",
        "    )"
      ],
      "metadata": {
        "colab": {
          "base_uri": "https://localhost:8080/"
        },
        "id": "Chk8dXA7svwC",
        "outputId": "578f6cea-89a6-4599-c809-da23d900ae43"
      },
      "execution_count": 8,
      "outputs": [
        {
          "output_type": "stream",
          "name": "stdout",
          "text": [
            "Data saved to strict_ids.txt\n"
          ]
        }
      ]
    },
    {
      "cell_type": "code",
      "source": [
        "# Get sequence ids as .txt file for the PDBeFold input\n",
        "clean_csv_file(\n",
        "    path='not_strict_seq.csv',\n",
        "    output_file_name='not_strict_ids',\n",
        "    string_or_file='f',\n",
        "    save_format='k'\n",
        "    )"
      ],
      "metadata": {
        "colab": {
          "base_uri": "https://localhost:8080/"
        },
        "id": "whvLS6YetVPS",
        "outputId": "3c185eb7-ff96-4e80-8eb8-12a0c5f07f9d"
      },
      "execution_count": 9,
      "outputs": [
        {
          "output_type": "stream",
          "name": "stdout",
          "text": [
            "Data saved to not_strict_ids.txt\n"
          ]
        }
      ]
    },
    {
      "cell_type": "markdown",
      "source": [
        "Files `strict_ids.txt` and `not_strict_ids.txt` are uploaded into the [PDBeFold](https://www.ebi.ac.uk/msd-srv/ssm/cgi-bin/ssmserver) and the results are saved in my Github repository."
      ],
      "metadata": {
        "id": "MKrKf9nqt8fi"
      }
    },
    {
      "cell_type": "code",
      "source": [
        "!rm not_strict_seq.csv strict_seq.csv"
      ],
      "metadata": {
        "id": "KozmCTcRr7i_"
      },
      "execution_count": null,
      "outputs": []
    },
    {
      "cell_type": "markdown",
      "metadata": {
        "id": "p171a3jTnzjb"
      },
      "source": [
        "## Get MSA"
      ]
    },
    {
      "cell_type": "code",
      "execution_count": null,
      "metadata": {
        "id": "aQ6OxMmjgppZ",
        "collapsed": true
      },
      "outputs": [],
      "source": [
        "# Getting the multiple sequence alignment from github repo\n",
        "!wget -O strict_msa.txt \"https://github.com/heispv/bioinformatics/raw/master/lab-of-bioinformatics/project_files/strict_msa.txt\""
      ]
    },
    {
      "cell_type": "code",
      "source": [
        "!wget -O not_strict_msa.txt \"https://github.com/heispv/bioinformatics/raw/master/lab-of-bioinformatics/project_files/not_strict_msa.txt\""
      ],
      "metadata": {
        "collapsed": true,
        "id": "ytZUSAr8wn_o"
      },
      "execution_count": null,
      "outputs": []
    },
    {
      "cell_type": "code",
      "source": [
        "!rm strict_ids.txt not_strict_ids.txt strict_seqs.fasta not_strict_seqs.fasta"
      ],
      "metadata": {
        "id": "GN6awguTz5yq"
      },
      "execution_count": 14,
      "outputs": []
    },
    {
      "cell_type": "markdown",
      "metadata": {
        "id": "HDphtcV1n3c8"
      },
      "source": [
        "### Build HMM based on the raw MSA"
      ]
    },
    {
      "cell_type": "code",
      "execution_count": null,
      "metadata": {
        "id": "I2fV858OjkKf",
        "collapsed": true
      },
      "outputs": [],
      "source": [
        "# Create an HMM model based on the strict_msa.txt file\n",
        "!hmmbuild strict_msa_not_clean.hmm strict_msa.txt"
      ]
    },
    {
      "cell_type": "code",
      "source": [
        "# Create an HMM model based on the not_strict_msa.txt file\n",
        "!hmmbuild not_strict_msa_not_clean.hmm not_strict_msa.txt"
      ],
      "metadata": {
        "collapsed": true,
        "id": "fW3sc21hxLFK"
      },
      "execution_count": null,
      "outputs": []
    },
    {
      "cell_type": "code",
      "execution_count": 17,
      "metadata": {
        "id": "hbLbFy9Gk0r6",
        "colab": {
          "base_uri": "https://localhost:8080/"
        },
        "outputId": "afe6149d-3048-42f6-90ce-2a395af65244"
      },
      "outputs": [
        {
          "output_type": "stream",
          "name": "stdout",
          "text": [
            "HMMER3/f [3.3.2 | Nov 2020]\n",
            "NAME  strict_msa\n",
            "LENG  57\n",
            "ALPH  amino\n",
            "RF    no\n",
            "MM    no\n",
            "CONS  yes\n",
            "CS    no\n",
            "MAP   yes\n",
            "DATE  Sun May 12 12:59:12 2024\n",
            "NSEQ  15\n",
            "EFFN  2.354736\n",
            "CKSUM 1225978556\n",
            "STATS LOCAL MSV       -8.8676  0.71902\n",
            "STATS LOCAL VITERBI   -9.0620  0.71902\n",
            "STATS LOCAL FORWARD   -4.0485  0.71902\n",
            "HMM          A        C        D        E        F        G        H        I        K        L        M        N        P        Q        R        S        T        V        W        Y   \n",
            "            m->m     m->i     m->d     i->m     i->i     d->m     d->d\n",
            "  COMPO   2.60263  2.73612  3.07114  2.69296  2.83763  2.63193  3.88604  3.41319  2.66892  3.03622  4.07894  2.70680  3.44272  3.07560  2.87241  2.77771  2.91062  3.13755  4.62504  2.85507\n",
            "          2.68622  4.42249  2.77475  2.73061  3.46378  2.40519  3.72518  3.29307  2.67748  2.69379  4.24714  2.90341  2.73739  3.18170  2.89777  2.37911  2.77518  2.98542  4.58501  3.61527\n",
            "          0.72401  0.99536  1.92687  0.72737  0.66006  0.00000        *\n",
            "      1   2.79049  5.22316  3.04887  2.12469  4.55881  3.55397  3.72323  4.01726  2.19577  3.51194  4.27356  2.66965  2.92656  2.83034  1.74342  2.76327  3.01677  3.12779  5.65072  4.27566      5 r - - -\n"
          ]
        }
      ],
      "source": [
        "!cat strict_msa_not_clean.hmm | head -n 22"
      ]
    },
    {
      "cell_type": "code",
      "source": [
        "!cat not_strict_msa_not_clean.hmm | head -n 22"
      ],
      "metadata": {
        "colab": {
          "base_uri": "https://localhost:8080/"
        },
        "id": "w2JGZL3axfmS",
        "outputId": "b4223298-a176-4634-8616-5f451ca742eb"
      },
      "execution_count": 18,
      "outputs": [
        {
          "output_type": "stream",
          "name": "stdout",
          "text": [
            "HMMER3/f [3.3.2 | Nov 2020]\n",
            "NAME  not_strict_msa\n",
            "LENG  59\n",
            "ALPH  amino\n",
            "RF    no\n",
            "MM    no\n",
            "CONS  yes\n",
            "CS    no\n",
            "MAP   yes\n",
            "DATE  Sun May 12 12:59:13 2024\n",
            "NSEQ  28\n",
            "EFFN  3.284668\n",
            "CKSUM 1929399890\n",
            "STATS LOCAL MSV       -8.9836  0.71896\n",
            "STATS LOCAL VITERBI   -9.1716  0.71896\n",
            "STATS LOCAL FORWARD   -4.2058  0.71896\n",
            "HMM          A        C        D        E        F        G        H        I        K        L        M        N        P        Q        R        S        T        V        W        Y   \n",
            "            m->m     m->i     m->d     i->m     i->i     d->m     d->d\n",
            "  COMPO   2.66045  2.92817  3.06444  2.66755  2.75405  2.64152  3.84570  3.40036  2.59333  3.03034  4.07046  2.68786  3.42610  3.06466  2.78686  2.80020  2.93294  3.20393  4.59062  2.86329\n",
            "          2.68661  4.42268  2.77530  2.73007  3.46397  2.40541  3.72365  3.29271  2.67756  2.69368  4.24660  2.90390  2.73730  3.18114  2.89805  2.37919  2.77491  2.98562  4.58371  3.61546\n",
            "          1.18984  1.11301  1.00195  1.14078  0.38503  0.00000        *\n",
            "      1   2.54629  5.21851  2.35429  2.29839  4.55912  3.48998  3.67937  4.04122  2.16020  3.16993  4.26098  2.68158  3.23191  2.24746  2.44821  2.68367  2.95102  3.60688  5.65277  4.24542     20 k - - -\n"
          ]
        }
      ]
    },
    {
      "cell_type": "markdown",
      "metadata": {
        "id": "2teyVJNOljwu"
      },
      "source": [
        "Based on the files above, we can observe that the `hmmbuild` command, applied to the `strict_msa.txt` file, cuts the first `5` characters in the sequence while when using the `not_strict_msa.txt` it cuts the first `20` character. This action is taken because there are not enough amino acids to build the Hidden Markov Model (HMM) for that part of the sequence. Therefore, we will trim each sequence and then reapply the `hmmbuild` command."
      ]
    },
    {
      "cell_type": "markdown",
      "metadata": {
        "id": "_tV4yFT9n9Gb"
      },
      "source": [
        "## Clean raw MSA"
      ]
    },
    {
      "cell_type": "code",
      "execution_count": 19,
      "metadata": {
        "id": "3jwmyr4ShxgI"
      },
      "outputs": [],
      "source": [
        "def clean_msa(path: str, first_clipping_num, output_file_name: str) -> None:\n",
        "    \"\"\"\n",
        "    Clean MSA file by removing specified number of characters from the beginning of each sequence.\n",
        "\n",
        "    Args:\n",
        "        path (str): Path to the input MSA file.\n",
        "        first_clipping_num (int): Number of characters to remove from the beginning of each sequence.\n",
        "        output_file_name (str): Name of the output file.\n",
        "\n",
        "    Returns:\n",
        "        None\n",
        "\n",
        "    This function reads a MSA file, extracts the sequence IDs and sequences, removes the specified\n",
        "    number of characters from the beginning of each sequence, and writes the cleaned sequences to a new file.\n",
        "    \"\"\"\n",
        "    with open(path) as f:\n",
        "        fastas = f.read().split('\\n\\n')\n",
        "\n",
        "    clean_list = []\n",
        "    for fasta in fastas:\n",
        "        id = fasta.split()[0]\n",
        "        sequence = ''.join(fasta.split('\\n')[1:])\n",
        "        clean_list.append((id, sequence))\n",
        "\n",
        "    with open(output_file_name + '.txt', 'w') as f:\n",
        "        for item in clean_list:\n",
        "            f.write(f\"{item[0]}\\n{item[1][first_clipping_num-1:]}\\n\")\n",
        "\n",
        "    print(f'Output saved in {output_file_name}.txt')"
      ]
    },
    {
      "cell_type": "code",
      "execution_count": 20,
      "metadata": {
        "id": "zIxZVxctiuub",
        "colab": {
          "base_uri": "https://localhost:8080/"
        },
        "outputId": "1e19929d-f1bf-48c0-ddfb-8b3f26b7a35d"
      },
      "outputs": [
        {
          "output_type": "stream",
          "name": "stdout",
          "text": [
            "Output saved in clean_strict_msa.txt\n"
          ]
        }
      ],
      "source": [
        "clean_msa(\n",
        "    path='strict_msa.txt',\n",
        "    first_clipping_num=5,\n",
        "    output_file_name='clean_strict_msa'\n",
        "    )"
      ]
    },
    {
      "cell_type": "code",
      "source": [
        "clean_msa(\n",
        "    path='not_strict_msa.txt',\n",
        "    first_clipping_num=20,\n",
        "    output_file_name='clean_not_strict_msa'\n",
        "    )"
      ],
      "metadata": {
        "colab": {
          "base_uri": "https://localhost:8080/"
        },
        "id": "82626ISayc_y",
        "outputId": "f0174656-dbf7-4254-e642-30f2e31d86b9"
      },
      "execution_count": 21,
      "outputs": [
        {
          "output_type": "stream",
          "name": "stdout",
          "text": [
            "Output saved in clean_not_strict_msa.txt\n"
          ]
        }
      ]
    },
    {
      "cell_type": "code",
      "execution_count": 22,
      "metadata": {
        "id": "HbO7jn3njnD-",
        "colab": {
          "base_uri": "https://localhost:8080/"
        },
        "outputId": "3fbc9b46-2761-40f8-a0cb-ba381930382a"
      },
      "outputs": [
        {
          "output_type": "stream",
          "name": "stdout",
          "text": [
            ">PDB:1aap:A\n",
            "vrevcseqaetgpcrAMISRWYFDVTEGKCAPFFYGGCGGNRNNFDTEEYCMAVCg---\n",
            ">PDB:1kth:A\n",
            "etdicklpkdegtcrDFILKWYYDPNTKSCARFWYGGCGGNENKFGSQKECEKVCapv-\n",
            ">PDB:1zr0:B\n",
            "naeicllpldygpcrALLLRYYYDRYTQSCRQFLYGGCEGNANNFYTWEACDDACwrie\n",
            ">PDB:3byb:A\n",
            "rpdfcelpadtgpcrVRFPSFYYNPDEKKCLEFIYGGCEGNANNFITKEECESTCa---\n",
            ">PDB:3m7q:B\n",
            "easicsepkkvgrckGYFPRFYFDSETGKCTPFIYGGCGGNGNNFETLHQCRAICralg\n",
            ">PDB:3wny:C\n",
            "rpafcleppyagpgkARIIRYFYNAKAGAAQAFVYGGVRAKRNNFASAADALAACaa--\n",
            ">PDB:4dtg:K\n",
            "kpdfcfleedpgicrGYITRYFYNNQTKQCERFKYGGCLGNMNNFETLEECKNICedgh\n",
            ">PDB:4ntw:B\n",
            "pafcyedppffqkcgAFVDSYYFNRSRITCVHFFYGQCDVNQNHFTTMSECNRVChg--\n",
            ">PDB:4u30:X\n",
            "--acanlpivrgpcrAFIQLWAFDAVKGKCVLFPYGGCQGNGNKFYSEKECREYCg---\n",
            ">PDB:4u32:X\n",
            "-hdfclvskvvgrcrASMPRWWYNVTDGSCQLFVYGGCDGNSNNYLTKEECLKKC----\n"
          ]
        }
      ],
      "source": [
        "# Check the strict_msa.tx file\n",
        "!cat clean_strict_msa.txt | head -n 20"
      ]
    },
    {
      "cell_type": "code",
      "execution_count": 23,
      "metadata": {
        "id": "EBfaMw91i8Ev",
        "colab": {
          "base_uri": "https://localhost:8080/"
        },
        "outputId": "9a0dc0a6-5b77-4699-b39e-a131e74a1950"
      },
      "outputs": [
        {
          "output_type": "stream",
          "name": "stdout",
          "text": [
            ">PDB:1aap:A\n",
            "-vrevcseqaetgpcrAMISRWYFDVTEGKCAPFFYGGcGG-NRNNFDTEEYCMAVCg---\n",
            ">PDB:1bun:B\n",
            "krhpdcdkppdtkicqTVVRAFYYKPSAKRCVQFRYGG-CNgNGNHFKSDHLCRCECleyr\n",
            ">PDB:1dtx:A\n",
            "prrklcilhrnpgrcyDKIPAFYYNQKKKQCERFDWSGcGG-NSNRFKTIEECRRTCig--\n",
            ">PDB:1fak:I\n",
            "-apdfcleppydgpcrALHLRYFYNAKAGLCQTFYYGGcLA-KRNNFESAEDCMRTC----\n",
            ">PDB:1g6x:A\n",
            "-rpdfcleppyagacrARIIRYFYNAKAGLCQTFVYGGcRA-KRNNFKSAEDCLRTCgga-\n",
            ">PDB:1kth:A\n",
            "-etdicklpkdegtcrDFILKWYYDPNTKSCARFWYGGcGG-NENKFGSQKECEKVCapv-\n",
            ">PDB:1tfx:C\n",
            "-kpdfcfleedpgicrGYITRYFYNNQTKQCERFKYGGcLG-NMNNFETLEECKNICedg-\n",
            ">PDB:1yc0:I\n",
            "qtedyclasnkvgrcrGSFPRWYYDPTEQICKSFVYGGcLG-NKNNYLREEECILACrgv-\n",
            ">PDB:1ylc:B\n",
            "-rpdfxleppytgpckARIIRYFYNAKAGLXQTFVYGGcRA-KRNNFKSAEDXMRTXg---\n",
            ">PDB:1yld:B\n",
            "-rpdfxleppytgpckARIIRYFYNAPDGLXQTFVYGGcRA-KRNNFKSAEDXMRTXg---\n"
          ]
        }
      ],
      "source": [
        "# Check the not_strict_msa.tx file\n",
        "!cat clean_not_strict_msa.txt | head -n 20"
      ]
    },
    {
      "cell_type": "code",
      "source": [
        "!rm not_strict_msa.txt not_strict_msa_not_clean.hmm strict_msa.txt strict_msa_not_clean.hmm"
      ],
      "metadata": {
        "id": "kya1I8aE42Uy"
      },
      "execution_count": 24,
      "outputs": []
    },
    {
      "cell_type": "markdown",
      "metadata": {
        "id": "HYFlGEFMoA87"
      },
      "source": [
        "### Build HMM based on clean MSA"
      ]
    },
    {
      "cell_type": "code",
      "execution_count": null,
      "metadata": {
        "id": "2VXkmCYDndvf",
        "collapsed": true
      },
      "outputs": [],
      "source": [
        "# Create an HMM model based on the clean_strict_msa.txt file\n",
        "!hmmbuild strict_msa.hmm clean_strict_msa.txt"
      ]
    },
    {
      "cell_type": "code",
      "source": [
        "# Create an HMM model based on the clean_not_strict_msa.txt file\n",
        "!hmmbuild not_strict_msa.hmm clean_not_strict_msa.txt"
      ],
      "metadata": {
        "collapsed": true,
        "id": "57XIiA5P5Jpi"
      },
      "execution_count": null,
      "outputs": []
    },
    {
      "cell_type": "code",
      "execution_count": 28,
      "metadata": {
        "id": "L4sSoDTPk8JF",
        "colab": {
          "base_uri": "https://localhost:8080/"
        },
        "outputId": "b526303c-7fc6-4fa6-abc1-419e668684b9"
      },
      "outputs": [
        {
          "output_type": "stream",
          "name": "stdout",
          "text": [
            "HMMER3/f [3.3.2 | Nov 2020]\n",
            "NAME  clean_strict_msa\n",
            "LENG  57\n",
            "ALPH  amino\n",
            "RF    no\n",
            "MM    no\n",
            "CONS  yes\n",
            "CS    no\n",
            "MAP   yes\n",
            "DATE  Sun May 12 13:01:29 2024\n",
            "NSEQ  15\n",
            "EFFN  2.354736\n",
            "CKSUM 1789090652\n",
            "STATS LOCAL MSV       -8.8676  0.71902\n",
            "STATS LOCAL VITERBI   -9.0620  0.71902\n",
            "STATS LOCAL FORWARD   -4.0485  0.71902\n",
            "HMM          A        C        D        E        F        G        H        I        K        L        M        N        P        Q        R        S        T        V        W        Y   \n",
            "            m->m     m->i     m->d     i->m     i->i     d->m     d->d\n",
            "  COMPO   2.60159  2.72559  3.07564  2.69248  2.83160  2.63525  3.88831  3.41485  2.66881  3.04155  4.07693  2.70448  3.45613  3.07429  2.87209  2.78410  2.91250  3.13968  4.62557  2.84818\n",
            "          2.68618  4.42225  2.77519  2.73123  3.46354  2.40513  3.72494  3.29354  2.67741  2.69355  4.24690  2.90347  2.73739  3.18146  2.89801  2.37887  2.77519  2.98518  4.58477  3.61503\n",
            "          0.16761  4.74272  1.92687  0.61958  0.77255  0.00000        *\n",
            "      1   2.79049  5.22316  3.04887  2.12469  4.55881  3.55397  3.72323  4.01726  2.19577  3.51194  4.27356  2.66965  2.92656  2.83034  1.74342  2.76327  3.01677  3.12779  5.65072  4.27566      1 r - - -\n"
          ]
        }
      ],
      "source": [
        "!cat strict_msa.hmm | head -n 22"
      ]
    },
    {
      "cell_type": "code",
      "source": [
        "!cat not_strict_msa.hmm | head -n 22"
      ],
      "metadata": {
        "colab": {
          "base_uri": "https://localhost:8080/"
        },
        "id": "a-LHcJsS5WQh",
        "outputId": "6ff31988-c285-4697-b83a-cbb909d8a07f"
      },
      "execution_count": 29,
      "outputs": [
        {
          "output_type": "stream",
          "name": "stdout",
          "text": [
            "HMMER3/f [3.3.2 | Nov 2020]\n",
            "NAME  clean_not_strict_msa\n",
            "LENG  59\n",
            "ALPH  amino\n",
            "RF    no\n",
            "MM    no\n",
            "CONS  yes\n",
            "CS    no\n",
            "MAP   yes\n",
            "DATE  Sun May 12 13:01:38 2024\n",
            "NSEQ  28\n",
            "EFFN  3.284668\n",
            "CKSUM 2283207759\n",
            "STATS LOCAL MSV       -8.9836  0.71896\n",
            "STATS LOCAL VITERBI   -9.1716  0.71896\n",
            "STATS LOCAL FORWARD   -4.2058  0.71896\n",
            "HMM          A        C        D        E        F        G        H        I        K        L        M        N        P        Q        R        S        T        V        W        Y   \n",
            "            m->m     m->i     m->d     i->m     i->i     d->m     d->d\n",
            "  COMPO   2.66000  2.91479  3.07028  2.66650  2.74526  2.64615  3.84796  3.40234  2.59193  3.03732  4.06766  2.68449  3.44347  3.06275  2.78503  2.80934  2.93592  3.20817  4.59074  2.85415\n",
            "          2.68618  4.42225  2.77519  2.73123  3.46354  2.40513  3.72494  3.29354  2.67741  2.69355  4.24690  2.90347  2.73739  3.18146  2.89801  2.37887  2.77519  2.98518  4.58477  3.61503\n",
            "          0.46826  4.99854  1.00195  0.61958  0.77255  0.00000        *\n",
            "      1   2.54629  5.21851  2.35429  2.29839  4.55912  3.48998  3.67937  4.04122  2.16020  3.16993  4.26098  2.68158  3.23191  2.24746  2.44821  2.68367  2.95102  3.60688  5.65277  4.24542      1 k - - -\n"
          ]
        }
      ]
    },
    {
      "cell_type": "markdown",
      "metadata": {
        "id": "L1AhdpqJlU1r"
      },
      "source": [
        "* In these new files, we can observe that the probabilities start from the first amino acid (AA), indicating that no cutting is performed by the `hmmbuild` command itself."
      ]
    },
    {
      "cell_type": "markdown",
      "metadata": {
        "id": "pt_2QpJumlhS"
      },
      "source": [
        "## Get the negative and postive data from NCBI"
      ]
    },
    {
      "cell_type": "code",
      "execution_count": null,
      "metadata": {
        "id": "tk_KQIkVoLVm"
      },
      "outputs": [],
      "source": [
        "!wget -O negative.fasta.gz \"https://rest.uniprot.org/uniprotkb/stream?compressed=true&format=fasta&query=%28%28reviewed%3Atrue%29+NOT+%28xref%3Apfam-PF00014%29%29\"\n",
        "!zcat -f negative.fasta.gz > negative.fasta\n",
        "!rm negative.fasta.gz"
      ]
    },
    {
      "cell_type": "code",
      "execution_count": null,
      "metadata": {
        "id": "jA0KSmhMoTsP"
      },
      "outputs": [],
      "source": [
        "!wget -O bpti_reviewd.fasta.gz \"https://rest.uniprot.org/uniprotkb/stream?compressed=true&format=fasta&query=%28%28xref%3Apfam-PF00014%29+AND+%28reviewed%3Atrue%29%29\"\n",
        "!zcat bpti_reviewd.fasta.gz > bpti_reviewd.fasta\n",
        "!rm bpti_reviewd.fasta.gz"
      ]
    },
    {
      "cell_type": "code",
      "execution_count": null,
      "metadata": {
        "id": "351B7ev0qary"
      },
      "outputs": [],
      "source": [
        "# Make blast dataset for the bpti_reviewd.fasta\n",
        "!makeblastdb -in bpti_reviewd.fasta -dbtype prot"
      ]
    },
    {
      "cell_type": "code",
      "source": [
        "!cat bpti_reviewd.fasta | wc"
      ],
      "metadata": {
        "colab": {
          "base_uri": "https://localhost:8080/"
        },
        "id": "Kpo4Qv8XRAOJ",
        "outputId": "0fe711fc-051d-4128-f02c-357eddc42e6e"
      },
      "execution_count": null,
      "outputs": [
        {
          "output_type": "stream",
          "name": "stdout",
          "text": [
            "   1860    5387  118161\n"
          ]
        }
      ]
    },
    {
      "cell_type": "markdown",
      "source": [
        "The line of the code below initiates a BLASTP search, a tool for comparing protein sequences. It takes protein sequences from \"output_seq.fasta\" as the query and compares them against a database specified in \"bpti_reviewd.fasta\". The results are saved in \"bpti_reviewd.blast\" using format 7, which is suitable for further analysis."
      ],
      "metadata": {
        "id": "qaUcBBU-GQph"
      }
    },
    {
      "cell_type": "code",
      "execution_count": null,
      "metadata": {
        "id": "Dqk8Qq_1qmkB"
      },
      "outputs": [],
      "source": [
        "!blastp -query output_seq.fasta -db bpti_reviewd.fasta -out bpti_reviewd.blast -outfmt 7"
      ]
    },
    {
      "cell_type": "markdown",
      "source": [
        "This command below filters a BLAST result file named \"bpti_reviewd.blast\". It removes comment lines (lines starting with # character), selects entries with sequence identity greater than 98%, and saves the unique identifiers of those entries into a file named \"remove.fasta\"."
      ],
      "metadata": {
        "id": "-buKcNfgGmDf"
      }
    },
    {
      "cell_type": "code",
      "source": [
        "!grep -v \"^#\" bpti_reviewd.blast | awk '{if ($3 > 98) {print $2}}' | sort -u > remove.fasta"
      ],
      "metadata": {
        "id": "DxqE2HOEF-of"
      },
      "execution_count": null,
      "outputs": []
    },
    {
      "cell_type": "code",
      "source": [
        "!cat remove.fasta | head -n 5"
      ],
      "metadata": {
        "colab": {
          "base_uri": "https://localhost:8080/"
        },
        "id": "yfzPq6auG6pA",
        "outputId": "047e5cc9-cf37-4365-abed-c3ab93ff0992"
      },
      "execution_count": null,
      "outputs": [
        {
          "output_type": "stream",
          "name": "stdout",
          "text": [
            "sp|G9I929|VKTA_MICTN\n",
            "sp|O43278|SPIT1_HUMAN\n",
            "sp|O43291|SPIT2_HUMAN\n",
            "sp|P00974|BPT1_BOVIN\n",
            "sp|P00980|VKTHA_DENAN\n"
          ]
        }
      ]
    },
    {
      "cell_type": "markdown",
      "source": [
        "We are only interested in the ids, to get the ids from the remove.fasta file, we should run the command below. the results would be saved in the `remove.ids` file."
      ],
      "metadata": {
        "id": "8OnsnACiHEmY"
      }
    },
    {
      "cell_type": "code",
      "source": [
        "!cat remove.fasta | cut -d \"|\" -f 2 > remove.ids"
      ],
      "metadata": {
        "id": "_YITBg2zG-ed"
      },
      "execution_count": null,
      "outputs": []
    },
    {
      "cell_type": "code",
      "source": [
        "!wc remove.ids"
      ],
      "metadata": {
        "colab": {
          "base_uri": "https://localhost:8080/"
        },
        "id": "cpJzae-4IEFm",
        "outputId": "9c815403-5c5f-4b49-8810-f56e8f5f4dbf"
      },
      "execution_count": null,
      "outputs": [
        {
          "output_type": "stream",
          "name": "stdout",
          "text": [
            " 27  27 189 remove.ids\n"
          ]
        }
      ]
    },
    {
      "cell_type": "markdown",
      "source": [
        "Based on the `remove.ids` file, there are 27 sequences which should be removed from the main data."
      ],
      "metadata": {
        "id": "bnU7sqOTIFaI"
      }
    },
    {
      "cell_type": "code",
      "source": [
        "def filter_sequences(seq_file_path, ids_file_path, output_file_path):\n",
        "    \"\"\"\n",
        "    Filters sequences from a FASTA file based on a list of excluded sequence IDs and save them in a file.\n",
        "\n",
        "    Parameters:\n",
        "    - seq_file_path (str): The file path to the input FASTA file containing sequences to filter.\n",
        "    - ids_file_path (str): The file path to the input file containing a list of sequence IDs to exclude.\n",
        "    - output_file_path (str): The file path to save the filtered sequences.\n",
        "\n",
        "    Returns:\n",
        "    - None\n",
        "    \"\"\"\n",
        "    # Open the file containing excluded sequence IDs and create a set to store them\n",
        "    with open(ids_file_path, 'r') as file:\n",
        "        excluded_ids = {line.strip() for line in file}\n",
        "\n",
        "    # Open the input FASTA file and extract sequences\n",
        "    with open(seq_file_path, 'r') as file:\n",
        "        content = file.read().strip()\n",
        "        sequences = content.split('>')[1:]\n",
        "\n",
        "    # Open the output file for writing filtered sequences\n",
        "    with open(output_file_path, 'w') as outfile:\n",
        "        for sequence in sequences:\n",
        "            header = sequence.split('\\n', 1)[0]\n",
        "            seq_id = header.split('|')[1]\n",
        "\n",
        "            if seq_id not in excluded_ids:\n",
        "                outfile.write(f'>{sequence}\\n')\n"
      ],
      "metadata": {
        "id": "5nKvR4QdIOGg"
      },
      "execution_count": null,
      "outputs": []
    },
    {
      "cell_type": "code",
      "source": [
        "filter_sequences('bpti_reviewd.fasta', 'remove.ids', 'pos_filtered.fasta')"
      ],
      "metadata": {
        "id": "krKplA0-Ilkx"
      },
      "execution_count": null,
      "outputs": []
    },
    {
      "cell_type": "code",
      "source": [
        "!cat pos_filtered.fasta | grep \">\" | wc"
      ],
      "metadata": {
        "colab": {
          "base_uri": "https://localhost:8080/"
        },
        "id": "L2YuXFngIsQh",
        "outputId": "adf0112e-40ba-4e34-f539-7497992d6ae5"
      },
      "execution_count": null,
      "outputs": [
        {
          "output_type": "stream",
          "name": "stdout",
          "text": [
            "    364    3628   37607\n"
          ]
        }
      ]
    },
    {
      "cell_type": "markdown",
      "source": [
        "We can see that now the number of the sequences are 364."
      ],
      "metadata": {
        "id": "tJvc1IyHIt5t"
      }
    },
    {
      "cell_type": "code",
      "source": [
        "!cat negative.fasta | grep \">\" | wc"
      ],
      "metadata": {
        "colab": {
          "base_uri": "https://localhost:8080/"
        },
        "id": "ewj7Fs3UIzB3",
        "outputId": "9975e506-8fc3-40b3-e69e-154ca7977a4b"
      },
      "execution_count": null,
      "outputs": [
        {
          "output_type": "stream",
          "name": "stdout",
          "text": [
            " 570891 8385714 74362141\n"
          ]
        }
      ]
    },
    {
      "cell_type": "code",
      "source": [],
      "metadata": {
        "id": "BKgDJ3TMI7OA"
      },
      "execution_count": null,
      "outputs": []
    }
  ],
  "metadata": {
    "colab": {
      "provenance": []
    },
    "kernelspec": {
      "display_name": "Python 3",
      "name": "python3"
    },
    "language_info": {
      "name": "python"
    }
  },
  "nbformat": 4,
  "nbformat_minor": 0
}