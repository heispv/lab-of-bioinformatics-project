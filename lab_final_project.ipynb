{
  "nbformat": 4,
  "nbformat_minor": 0,
  "metadata": {
    "colab": {
      "provenance": []
    },
    "kernelspec": {
      "name": "python3",
      "display_name": "Python 3"
    },
    "language_info": {
      "name": "python"
    }
  },
  "cells": [
    {
      "cell_type": "code",
      "source": [
        "# install hmmer library\n",
        "!sudo apt-get install hmmer\n",
        "!sudo apt-get install hmmer-doc\n",
        "!sudo apt-get install ncbi-blast+"
      ],
      "metadata": {
        "id": "Q3MIABPajQ8e"
      },
      "execution_count": null,
      "outputs": []
    },
    {
      "cell_type": "code",
      "execution_count": 15,
      "metadata": {
        "id": "OlkE7gYYO4x9"
      },
      "outputs": [],
      "source": [
        "import pandas as pd"
      ]
    },
    {
      "cell_type": "markdown",
      "source": [
        "## Clean csv file"
      ],
      "metadata": {
        "id": "_8uMuFACnusb"
      }
    },
    {
      "cell_type": "code",
      "source": [
        "def clean_csv_file(path: str) -> str or None:\n",
        "    \"\"\"\n",
        "    Reads and cleans a CSV file, providing options to return the cleaned data as a string or save it into a file.\n",
        "\n",
        "    Parameters:\n",
        "        path (str): The path to the CSV file to be cleaned.\n",
        "\n",
        "    Returns:\n",
        "        str or None: If the user chooses to get the results as a variable (1),\n",
        "        the cleaned data is returned as a string. If the user chooses to save the\n",
        "        results into a file (2), the cleaned data is saved into a file.\n",
        "\n",
        "    Usage:\n",
        "        1. `path` should be the path to the CSV file that needs to be cleaned.\n",
        "        2. The function interactively prompts the user to choose between getting\n",
        "           the results as a variable or saving them into a file.\n",
        "        3. If the user selects to save the results into a file, they are further\n",
        "           prompted to choose between saving only keys or in Fasta format.\n",
        "        4. If the user selects to save in Fasta format, the data is saved in a\n",
        "           '.fasta' file with each entry represented as a Fasta sequence.\n",
        "        5. If the user selects to save only keys, the data is saved in a '.txt'\n",
        "           file with each key on a separate line.\n",
        "\n",
        "    Notes:\n",
        "        - If the user does not provide a valid input for any prompt, they are\n",
        "          repeatedly prompted until a valid input is provided.\n",
        "        - If the user does not provide a file name when prompted for the output\n",
        "          file name, a default name \"output_seq\" is used.\n",
        "        - The function utilizes the Pandas library to read and manipulate CSV data.\n",
        "        - The function utilizes Python's built-in file handling capabilities to\n",
        "          save the data into text files.\n",
        "    \"\"\"\n",
        "    break_line = '\\n------------------------------\\n'\n",
        "    print('Reading the file...')\n",
        "    df = pd.read_csv(path)\n",
        "    print('Cleaning the CSV file...')\n",
        "    df = df.dropna(subset=['Entity ID'])\n",
        "    df = df.drop(columns=['Unnamed: 3'])\n",
        "    df['Entity ID'] = df['Entity ID'].str.split('_').str[0] + ':' + df['Auth Asym ID']\n",
        "    df = df.drop(columns=['Auth Asym ID'])\n",
        "    df = df.reset_index(drop=True)\n",
        "    print('Done!', break_line)\n",
        "\n",
        "    while True:\n",
        "        which_output = input('Do you want to get the results as variable(1) or file(2)?\\nOnly enter the corresponding number[1, 2]: ')\n",
        "        if which_output in ['1', '2']:\n",
        "            which_output = int(which_output)\n",
        "            break\n",
        "        else:\n",
        "            print('Invalid input. Please enter either 1 or 2.' + break_line)\n",
        "\n",
        "    # Save the output into a variable\n",
        "    if which_output == 1:\n",
        "        return '\\n'.join(df['Entity ID'].values)\n",
        "\n",
        "    # Save the output into a file\n",
        "    elif which_output == 2:\n",
        "        print(break_line)\n",
        "        output_file_name = input('Enter your output file name without extension (Press Enter for default \"output_seq\"): ')\n",
        "        output_file_name = output_file_name.strip()\n",
        "        if output_file_name == \"\":\n",
        "            output_file_name = \"output_seq\"\n",
        "\n",
        "        while True:\n",
        "            with_fasta = input('[1] Only keys \\\\ [2] As Fasta format: ')\n",
        "            if with_fasta in ['1', '2']:\n",
        "                with_fasta = int(with_fasta)\n",
        "                break\n",
        "            else:\n",
        "                print('Invalid input. Please enter either 1 or 2.' + break_line)\n",
        "        # Save as .fasta\n",
        "        if with_fasta == 2:\n",
        "            with open(output_file_name + '.fasta', 'w') as file:\n",
        "                for idx, row in df.iterrows():\n",
        "                    file.write(f\"> {row['Entity ID']}\\n{row['Sequence']}\\n\")\n",
        "            print(break_line, 'Data saved to', output_file_name + '.fasta')\n",
        "        # Save as .keys\n",
        "        elif with_fasta == 1:\n",
        "            with open(output_file_name + '.txt', 'w') as f:\n",
        "                f.write('\\n'.join(df['Entity ID'].values))\n",
        "            print(break_line, 'Data saved to', output_file_name + '.keys')\n"
      ],
      "metadata": {
        "id": "jiGaKijcO9Ry"
      },
      "execution_count": 26,
      "outputs": []
    },
    {
      "cell_type": "code",
      "source": [
        "!wget -O pdb_report.csv \"https://github.com/heispv/bioinformatics/raw/master/lab-of-bioinformatics/rcsb_pdb_custom_report_20240411062134.csv\""
      ],
      "metadata": {
        "id": "uRkov_HyO-e1",
        "colab": {
          "base_uri": "https://localhost:8080/"
        },
        "outputId": "3881ad16-1dd0-4a56-90f9-d8e1dc8fb20c"
      },
      "execution_count": 27,
      "outputs": [
        {
          "output_type": "stream",
          "name": "stdout",
          "text": [
            "--2024-05-07 14:44:49--  https://github.com/heispv/bioinformatics/raw/master/lab-of-bioinformatics/rcsb_pdb_custom_report_20240411062134.csv\n",
            "Resolving github.com (github.com)... 140.82.114.3\n",
            "Connecting to github.com (github.com)|140.82.114.3|:443... connected.\n",
            "HTTP request sent, awaiting response... 302 Found\n",
            "Location: https://raw.githubusercontent.com/heispv/bioinformatics/master/lab-of-bioinformatics/rcsb_pdb_custom_report_20240411062134.csv [following]\n",
            "--2024-05-07 14:44:49--  https://raw.githubusercontent.com/heispv/bioinformatics/master/lab-of-bioinformatics/rcsb_pdb_custom_report_20240411062134.csv\n",
            "Resolving raw.githubusercontent.com (raw.githubusercontent.com)... 185.199.108.133, 185.199.109.133, 185.199.110.133, ...\n",
            "Connecting to raw.githubusercontent.com (raw.githubusercontent.com)|185.199.108.133|:443... connected.\n",
            "HTTP request sent, awaiting response... 200 OK\n",
            "Length: 1611 (1.6K) [text/plain]\n",
            "Saving to: ‘pdb_report.csv’\n",
            "\n",
            "\rpdb_report.csv        0%[                    ]       0  --.-KB/s               \rpdb_report.csv      100%[===================>]   1.57K  --.-KB/s    in 0s      \n",
            "\n",
            "2024-05-07 14:44:49 (15.8 MB/s) - ‘pdb_report.csv’ saved [1611/1611]\n",
            "\n"
          ]
        }
      ]
    },
    {
      "cell_type": "code",
      "source": [
        "path = \"/content/pdb_report.csv\""
      ],
      "metadata": {
        "id": "Y9_g_EOCg3PE"
      },
      "execution_count": 28,
      "outputs": []
    },
    {
      "cell_type": "code",
      "source": [
        "# for default -> select (2 / default / 2)\n",
        "clean_csv_file(path)"
      ],
      "metadata": {
        "id": "aGiuiX3TPBpD",
        "colab": {
          "base_uri": "https://localhost:8080/"
        },
        "outputId": "bb10aa6d-37b3-4f1a-e875-61f54085c5e0"
      },
      "execution_count": 30,
      "outputs": [
        {
          "output_type": "stream",
          "name": "stdout",
          "text": [
            "Reading the file...\n",
            "Cleaning the CSV file...\n",
            "Done! \n",
            "------------------------------\n",
            "\n",
            "Do you want to get the results as variable(1) or file(2)?\n",
            "Only enter the corresponding number[1, 2]: 2\n",
            "\n",
            "------------------------------\n",
            "\n",
            "Enter your output file name without extension (Press Enter for default \"output_seq\"): \n",
            "[1] Only keys \\ [2] As Fasta format: 2\n",
            "\n",
            "------------------------------\n",
            " Data saved to output_seq.fasta\n"
          ]
        }
      ]
    },
    {
      "cell_type": "code",
      "source": [
        "!cat output_seq.fasta | head -n 30"
      ],
      "metadata": {
        "colab": {
          "base_uri": "https://localhost:8080/"
        },
        "id": "HeHArpBRV69-",
        "outputId": "7774e129-d3f7-4055-cb46-42cf99667495"
      },
      "execution_count": 31,
      "outputs": [
        {
          "output_type": "stream",
          "name": "stdout",
          "text": [
            "> 1AAP:A\n",
            "VREVCSEQAETGPCRAMISRWYFDVTEGKCAPFFYGGCGGNRNNFDTEEYCMAVCGSA\n",
            "> 1BUN:B\n",
            "RKRHPDCDKPPDTKICQTVVRAFYYKPSAKRCVQFRYGGCNGNGNHFKSDHLCRCECLEYR\n",
            "> 1DTX:A\n",
            "QPRRKLCILHRNPGRCYDKIPAFYYNQKKKQCERFDWSGCGGNSNRFKTIEECRRTCIG\n",
            "> 1FAK:I\n",
            "APDFCLEPPYDGPCRALHLRYFYNAKAGLCQTFYYGGCLAKRNNFESAEDCMRTC\n",
            "> 1KTH:A\n",
            "ETDICKLPKDEGTCRDFILKWYYDPNTKSCARFWYGGCGGNENKFGSQKECEKVCAPV\n",
            "> 1ZR0:B\n",
            "PTGNNAEICLLPLDYGPCRALLLRYYYDRYTQSCRQFLYGGCEGNANNFYTWEACDDACWRIE\n",
            "> 3BYB:A\n",
            "KDRPDFCELPADTGPCRVRFPSFYYNPDEKKCLEFIYGGCEGNANNFITKEECESTCAA\n",
            "> 3M7Q:B\n",
            "EAEASICSEPKKVGRCKGYFPRFYFDSETGKCTPFIYGGCGGNGNNFETLHQCRAICRALG\n",
            "> 4BQD:A\n",
            "DSEEDEEHTIITDTELPPLKLMHSFCAFKADDGPCKAIMKRFFFNIFTRQCEEFIYGGCEGNQNRFESLEECKKMCTRD\n",
            "> 4DTG:K\n",
            "QEKPDFCFLEEDPGICRGYITRYFYNNQTKQCERFKYGGCLGNMNNFETLEECKNICEDGHHHHHH\n",
            "> 4ISO:B\n",
            "QTEDYCLASNKVGRCRGSFPRWYYDPTEQICKSFVYGGCLGNKNNYLREEECILACRGVQ\n",
            "> 4NTW:B\n",
            "QIRPAFCYEDPPFFQKCGAFVDSYYFNRSRITCVHFFYGQCDVNQNHFTTMSECNRVCHG\n",
            "> 4U30:X\n",
            "TVAACANLPIVRGPCRAFIQLWAFDAVKGKCVLFPYGGCQGNGNKFYSEKECREYCGVP\n",
            "> 4U32:X\n",
            "IHDFCLVSKVVGRCRASMPRWWYNVTDGSCQLFVYGGCDGNSNNYLTKEECLKKC\n",
            "> 5M4V:A\n",
            "RPSFCNLPVKPGPCKAFFSAFYYSQKTNKCHSFTYGGCKGNANRFSTLEKCRRTCVG\n"
          ]
        }
      ]
    },
    {
      "cell_type": "markdown",
      "source": [
        "## Get MSA"
      ],
      "metadata": {
        "id": "p171a3jTnzjb"
      }
    },
    {
      "cell_type": "code",
      "source": [
        "# Getting the multiple sequence alignment is done in the PDBe website\n",
        "!wget -O fasta.txt \"https://github.com/heispv/bioinformatics/raw/master/lab-of-bioinformatics/fasta.txt\""
      ],
      "metadata": {
        "colab": {
          "base_uri": "https://localhost:8080/"
        },
        "id": "aQ6OxMmjgppZ",
        "outputId": "06052800-8185-4808-cfb9-cf6b9c0f9e5e"
      },
      "execution_count": 32,
      "outputs": [
        {
          "output_type": "stream",
          "name": "stdout",
          "text": [
            "--2024-05-07 14:48:31--  https://github.com/heispv/bioinformatics/raw/master/lab-of-bioinformatics/fasta.txt\n",
            "Resolving github.com (github.com)... 140.82.112.3\n",
            "Connecting to github.com (github.com)|140.82.112.3|:443... connected.\n",
            "HTTP request sent, awaiting response... 302 Found\n",
            "Location: https://raw.githubusercontent.com/heispv/bioinformatics/master/lab-of-bioinformatics/fasta.txt [following]\n",
            "--2024-05-07 14:48:31--  https://raw.githubusercontent.com/heispv/bioinformatics/master/lab-of-bioinformatics/fasta.txt\n",
            "Resolving raw.githubusercontent.com (raw.githubusercontent.com)... 185.199.108.133, 185.199.109.133, 185.199.110.133, ...\n",
            "Connecting to raw.githubusercontent.com (raw.githubusercontent.com)|185.199.108.133|:443... connected.\n",
            "HTTP request sent, awaiting response... 200 OK\n",
            "Length: 2888 (2.8K) [text/plain]\n",
            "Saving to: ‘fasta.txt’\n",
            "\n",
            "\rfasta.txt             0%[                    ]       0  --.-KB/s               \rfasta.txt           100%[===================>]   2.82K  --.-KB/s    in 0s      \n",
            "\n",
            "2024-05-07 14:48:31 (23.2 MB/s) - ‘fasta.txt’ saved [2888/2888]\n",
            "\n"
          ]
        }
      ]
    },
    {
      "cell_type": "markdown",
      "source": [
        "### Build HMM based on the raw MSA"
      ],
      "metadata": {
        "id": "HDphtcV1n3c8"
      }
    },
    {
      "cell_type": "code",
      "source": [
        "# Create an HMM model based on the fasta.txt file\n",
        "!hmmbuild msa_notclean.hmm fasta.txt"
      ],
      "metadata": {
        "colab": {
          "base_uri": "https://localhost:8080/"
        },
        "id": "I2fV858OjkKf",
        "outputId": "6ec4d9e9-322b-4746-9c80-af40aaaf5bae"
      },
      "execution_count": 54,
      "outputs": [
        {
          "output_type": "stream",
          "name": "stdout",
          "text": [
            "# hmmbuild :: profile HMM construction from multiple sequence alignments\n",
            "# HMMER 3.3.2 (Nov 2020); http://hmmer.org/\n",
            "# Copyright (C) 2020 Howard Hughes Medical Institute.\n",
            "# Freely distributed under the BSD open source license.\n",
            "# - - - - - - - - - - - - - - - - - - - - - - - - - - - - - - - - - - - -\n",
            "# input alignment file:             fasta.txt\n",
            "# output HMM file:                  msa_notclean.hmm\n",
            "# - - - - - - - - - - - - - - - - - - - - - - - - - - - - - - - - - - - -\n",
            "\n",
            "# idx name                  nseq  alen  mlen eff_nseq re/pos description\n",
            "#---- -------------------- ----- ----- ----- -------- ------ -----------\n",
            "1     fasta                   20    79    59     2.32  0.946 \n",
            "\n",
            "# CPU time: 0.03u 0.00s 00:00:00.03 Elapsed: 00:00:00.04\n"
          ]
        }
      ]
    },
    {
      "cell_type": "code",
      "source": [
        "!cat msa_notclean.hmm | head -n 30"
      ],
      "metadata": {
        "colab": {
          "base_uri": "https://localhost:8080/"
        },
        "id": "hbLbFy9Gk0r6",
        "outputId": "b3f6affa-ab07-4aab-ebc3-22272d40c87f"
      },
      "execution_count": 59,
      "outputs": [
        {
          "output_type": "stream",
          "name": "stdout",
          "text": [
            "HMMER3/f [3.3.2 | Nov 2020]\n",
            "NAME  fasta\n",
            "LENG  59\n",
            "ALPH  amino\n",
            "RF    no\n",
            "MM    no\n",
            "CONS  yes\n",
            "CS    no\n",
            "MAP   yes\n",
            "DATE  Tue May  7 15:03:18 2024\n",
            "NSEQ  20\n",
            "EFFN  2.319336\n",
            "CKSUM 1296990217\n",
            "STATS LOCAL MSV       -9.1071  0.71896\n",
            "STATS LOCAL VITERBI   -9.4408  0.71896\n",
            "STATS LOCAL FORWARD   -4.0823  0.71896\n",
            "HMM          A        C        D        E        F        G        H        I        K        L        M        N        P        Q        R        S        T        V        W        Y   \n",
            "            m->m     m->i     m->d     i->m     i->i     d->m     d->d\n",
            "  COMPO   2.71462  2.61835  3.05921  2.65138  2.83864  2.72225  3.80116  3.43208  2.58786  3.03883  4.06383  2.72587  3.50073  3.03111  2.84719  2.76261  2.91405  3.19865  4.56720  2.92438\n",
            "          2.68653  4.42260  2.77518  2.73006  3.46389  2.40534  3.72482  3.29276  2.67747  2.69356  4.24724  2.90381  2.73721  3.18181  2.89808  2.37909  2.77480  2.98553  4.58391  3.61538\n",
            "          0.80054  1.11950  1.49401  1.18203  0.36623  0.00000        *\n",
            "      1   2.53448  5.19984  2.39539  2.07422  4.53972  3.46974  3.66098  4.02197  2.20958  3.11819  4.24251  2.69823  3.31169  2.37469  2.53733  2.66478  2.93252  3.58782  5.63465  4.22673     20 e - - -\n",
            "          2.68618  4.42225  2.77519  2.73123  3.46354  2.40513  3.72494  3.29354  2.67741  2.69355  4.24690  2.90347  2.73739  3.18146  2.89801  2.37887  2.77519  2.98518  4.58477  3.61503\n",
            "          0.01693  4.48285  5.20520  0.61958  0.77255  0.52641  0.89336\n",
            "      2   2.57918  5.10045  3.05993  2.36817  4.38974  3.54208  3.73341  3.83534  2.33844  3.38039  3.53098  2.78262  2.86653  2.85290  1.93456  2.73873  2.46842  3.17691  5.56755  4.19739     21 r - - -\n",
            "          2.68618  4.42225  2.77519  2.73123  3.46354  2.40513  3.72494  3.29354  2.67741  2.69355  4.24690  2.90347  2.73739  3.18146  2.89801  2.37887  2.77519  2.98518  4.58477  3.61503\n",
            "          0.01468  4.62455  5.34689  0.61958  0.77255  0.56799  0.83624\n",
            "      3   2.19309  5.23500  2.64649  2.31488  4.55537  3.54166  2.65923  4.02417  2.50019  3.52968  4.28734  3.01922  2.10637  2.85816  2.56880  2.75723  3.01920  3.61345  5.68316  4.28645     22 p - - -\n",
            "          2.68618  4.42225  2.77519  2.73123  3.46354  2.40513  3.72494  3.29354  2.67741  2.69355  4.24690  2.90347  2.73739  3.18146  2.89801  2.37887  2.77519  2.98518  4.58477  3.61503\n",
            "          0.01412  4.66274  5.38509  0.61958  0.77255  0.48238  0.96053\n"
          ]
        }
      ]
    },
    {
      "cell_type": "markdown",
      "source": [
        "Based on the file above, we can observe that the `hmmbuild` command, applied to the `fasta.txt` file, cuts the first 20 characters in the sequence. This action is taken because there are not enough amino acids to build the Hidden Markov Model (HMM) for that part of the sequence. Therefore, we will trim the first 20 characters of each sequence and then reapply the `hmmbuild` command."
      ],
      "metadata": {
        "id": "2teyVJNOljwu"
      }
    },
    {
      "cell_type": "markdown",
      "source": [
        "## Clean raw MSA"
      ],
      "metadata": {
        "id": "_tV4yFT9n9Gb"
      }
    },
    {
      "cell_type": "code",
      "source": [
        "def clean_fasta(path: str, first_clipping_num, output_file_name: str) -> None:\n",
        "    \"\"\"\n",
        "    Clean FASTA file by removing specified number of characters from the beginning of each sequence.\n",
        "\n",
        "    Args:\n",
        "        path (str): Path to the input FASTA file.\n",
        "        first_clipping_num (int): Number of characters to remove from the beginning of each sequence.\n",
        "        output_file_name (str): Name of the output file.\n",
        "\n",
        "    Returns:\n",
        "        None\n",
        "\n",
        "    This function reads a FASTA file, extracts the sequence IDs and sequences, removes the specified\n",
        "    number of characters from the beginning of each sequence, and writes the cleaned sequences to a new file.\n",
        "    \"\"\"\n",
        "    with open(path) as f:\n",
        "        fastas = f.read().split('\\n\\n')\n",
        "\n",
        "    clean_list = []\n",
        "    for fasta in fastas:\n",
        "        id = fasta.split()[0]\n",
        "        sequence = ''.join(fasta.split('\\n')[1:])\n",
        "        clean_list.append((id, sequence))\n",
        "\n",
        "    with open(output_file_name + '.txt', 'w') as f:\n",
        "        for item in clean_list:\n",
        "            f.write(f\"{item[0]}\\n{item[1][first_clipping_num-1:]}\\n\")\n",
        "\n",
        "    print(f'Output saved in {output_file_name}.txt')"
      ],
      "metadata": {
        "id": "3jwmyr4ShxgI"
      },
      "execution_count": 61,
      "outputs": []
    },
    {
      "cell_type": "code",
      "source": [
        "clean_fasta(\"/content/fasta.txt\", 20, \"clean_fasta\")"
      ],
      "metadata": {
        "colab": {
          "base_uri": "https://localhost:8080/"
        },
        "id": "zIxZVxctiuub",
        "outputId": "5514a224-c947-44a4-9fa3-f84b6bf3bb7a"
      },
      "execution_count": 66,
      "outputs": [
        {
          "output_type": "stream",
          "name": "stdout",
          "text": [
            "Output saved in clean_fasta.txt\n"
          ]
        }
      ]
    },
    {
      "cell_type": "code",
      "source": [
        "# Check the fasta file before the cleaning\n",
        "!cat fasta.txt | head -n 20"
      ],
      "metadata": {
        "colab": {
          "base_uri": "https://localhost:8080/"
        },
        "id": "HbO7jn3njnD-",
        "outputId": "500ad43c-9dec-4e84-c94e-83d32b403724"
      },
      "execution_count": 63,
      "outputs": [
        {
          "output_type": "stream",
          "name": "stdout",
          "text": [
            ">PDB:1aap:A X-RAY CRYSTAL STRUCTURE OF THE PROTEASE INHIBITOR \n",
            "--------------------vrevcseqaetgpcrAmISRWYFDVTEGKCAPFFYGGCGGNRNNFDTEEY\n",
            "CMAVCg---\n",
            "\n",
            ">PDB:1bun:B STRUCTURE OF BETA2-BUNGAROTOXIN: POTASSIUM CHANNEL\n",
            "------------------rkrhpdcdkppdtkicqTvVRAFYYKPSAKRCVQFRYGGCNGNGNHFKSDHL\n",
            "CRCECleyr\n",
            "\n",
            ">PDB:1dtx:A CRYSTAL STRUCTURE OF ALPHA-DENDROTOXIN FROM THE GR\n",
            "------------------eprrklcilhrnpgrcyDkIPAFYYNQKKKQCERFDWSGCGGNSNRFKTIEE\n",
            "CRRTCig--\n",
            "\n",
            ">PDB:1fak:I HUMAN TISSUE FACTOR COMPLEXED WITH COAGULATION FAC\n",
            "--------------------apdfcleppydgpcrAlHLRYFYNAKAGLCQTFYYGGCLAKRNNFESAED\n",
            "CMRTC----\n",
            "\n",
            ">PDB:1kth:A THE ANISOTROPIC REFINEMENT OF KUNITZ TYPE DOMAIN C\n",
            "-------------------etdicklpkdegtcrdF-ILKWYYDPNTKSCARFWYGGCGGNENKFGSQKE\n",
            "CEKVCapv-\n",
            "\n"
          ]
        }
      ]
    },
    {
      "cell_type": "code",
      "source": [
        "# Check the clean_fasta.txt file\n",
        "!cat clean_fasta.txt | head -n 20"
      ],
      "metadata": {
        "colab": {
          "base_uri": "https://localhost:8080/"
        },
        "id": "EBfaMw91i8Ev",
        "outputId": "19369974-82d4-46c9-c334-480874584f05"
      },
      "execution_count": 64,
      "outputs": [
        {
          "output_type": "stream",
          "name": "stdout",
          "text": [
            ">PDB:1aap:A\n",
            "-vrevcseqaetgpcrAmISRWYFDVTEGKCAPFFYGGCGGNRNNFDTEEYCMAVCg---\n",
            ">PDB:1bun:B\n",
            "krhpdcdkppdtkicqTvVRAFYYKPSAKRCVQFRYGGCNGNGNHFKSDHLCRCECleyr\n",
            ">PDB:1dtx:A\n",
            "prrklcilhrnpgrcyDkIPAFYYNQKKKQCERFDWSGCGGNSNRFKTIEECRRTCig--\n",
            ">PDB:1fak:I\n",
            "-apdfcleppydgpcrAlHLRYFYNAKAGLCQTFYYGGCLAKRNNFESAEDCMRTC----\n",
            ">PDB:1kth:A\n",
            "etdicklpkdegtcrdF-ILKWYYDPNTKSCARFWYGGCGGNENKFGSQKECEKVCapv-\n",
            ">PDB:1zr0:B\n",
            "nnaeicllpldygpcrAlLLRYYYDRYTQSCRQFLYGGCEGNANNFYTWEACDDACwrie\n",
            ">PDB:3byb:A\n",
            "drpdfcelpadtgpcrVrFPSFYYNPDEKKCLEFIYGGCEGNANNFITKEECESTCa---\n",
            ">PDB:3m7q:B\n",
            "aeasicsepkkvgrckGyFPRFYFDSETGKCTPFIYGGCGGNGNNFETLHQCRAICralg\n",
            ">PDB:4bqd:A\n",
            "lmhsfcafkaddgpckAiMKRFFFNIFTRQCEEFIYGGCEGNQNRFESLEECKKMCtrd-\n",
            ">PDB:4dtg:K\n",
            "ekpdfcfleedpgicrGyITRYFYNNQTKQCERFKYGGCLGNMNNFETLEECKNICedgh\n"
          ]
        }
      ]
    },
    {
      "cell_type": "markdown",
      "source": [
        "### Build HMM based on clean MSA"
      ],
      "metadata": {
        "id": "HYFlGEFMoA87"
      }
    },
    {
      "cell_type": "code",
      "source": [
        "# Create an HMM model based on the clean_fasta.txt file\n",
        "!hmmbuild msa.hmm clean_fasta.txt"
      ],
      "metadata": {
        "colab": {
          "base_uri": "https://localhost:8080/"
        },
        "id": "2VXkmCYDndvf",
        "outputId": "bd84582b-3371-4009-8826-4e89b5a91b06"
      },
      "execution_count": 68,
      "outputs": [
        {
          "output_type": "stream",
          "name": "stdout",
          "text": [
            "# hmmbuild :: profile HMM construction from multiple sequence alignments\n",
            "# HMMER 3.3.2 (Nov 2020); http://hmmer.org/\n",
            "# Copyright (C) 2020 Howard Hughes Medical Institute.\n",
            "# Freely distributed under the BSD open source license.\n",
            "# - - - - - - - - - - - - - - - - - - - - - - - - - - - - - - - - - - - -\n",
            "# input alignment file:             clean_fasta.txt\n",
            "# output HMM file:                  msa.hmm\n",
            "# - - - - - - - - - - - - - - - - - - - - - - - - - - - - - - - - - - - -\n",
            "\n",
            "# idx name                  nseq  alen  mlen eff_nseq re/pos description\n",
            "#---- -------------------- ----- ----- ----- -------- ------ -----------\n",
            "1     clean_fasta             20    60    59     2.32  0.946 \n",
            "\n",
            "# CPU time: 0.03u 0.00s 00:00:00.03 Elapsed: 00:00:00.04\n"
          ]
        }
      ]
    },
    {
      "cell_type": "code",
      "source": [
        "!cat msa.hmm | head -n 30"
      ],
      "metadata": {
        "colab": {
          "base_uri": "https://localhost:8080/"
        },
        "id": "L4sSoDTPk8JF",
        "outputId": "dbd1bd63-1ace-42d2-d543-8dc3eb331591"
      },
      "execution_count": 69,
      "outputs": [
        {
          "output_type": "stream",
          "name": "stdout",
          "text": [
            "HMMER3/f [3.3.2 | Nov 2020]\n",
            "NAME  clean_fasta\n",
            "LENG  59\n",
            "ALPH  amino\n",
            "RF    no\n",
            "MM    no\n",
            "CONS  yes\n",
            "CS    no\n",
            "MAP   yes\n",
            "DATE  Tue May  7 15:13:33 2024\n",
            "NSEQ  20\n",
            "EFFN  2.319336\n",
            "CKSUM 3245897423\n",
            "STATS LOCAL MSV       -9.1071  0.71896\n",
            "STATS LOCAL VITERBI   -9.4408  0.71896\n",
            "STATS LOCAL FORWARD   -4.0823  0.71896\n",
            "HMM          A        C        D        E        F        G        H        I        K        L        M        N        P        Q        R        S        T        V        W        Y   \n",
            "            m->m     m->i     m->d     i->m     i->i     d->m     d->d\n",
            "  COMPO   2.71513  2.60360  3.06507  2.65003  2.83041  2.72890  3.80257  3.43475  2.58634  3.04619  4.06086  2.72298  3.52132  3.02863  2.84631  2.77096  2.91671  3.20289  4.56690  2.91555\n",
            "          2.68618  4.42225  2.77519  2.73123  3.46354  2.40513  3.72494  3.29354  2.67741  2.69355  4.24690  2.90347  2.73739  3.18146  2.89801  2.37887  2.77519  2.98518  4.58477  3.61503\n",
            "          0.26564  4.73156  1.49401  0.61958  0.77255  0.00000        *\n",
            "      1   2.53448  5.19984  2.39539  2.07422  4.53972  3.46974  3.66098  4.02197  2.20958  3.11819  4.24251  2.69823  3.31169  2.37469  2.53733  2.66478  2.93252  3.58782  5.63465  4.22673      1 e - - -\n",
            "          2.68618  4.42225  2.77519  2.73123  3.46354  2.40513  3.72494  3.29354  2.67741  2.69355  4.24690  2.90347  2.73739  3.18146  2.89801  2.37887  2.77519  2.98518  4.58477  3.61503\n",
            "          0.01693  4.48285  5.20520  0.61958  0.77255  0.52641  0.89336\n",
            "      2   2.57918  5.10045  3.05993  2.36817  4.38974  3.54208  3.73341  3.83534  2.33844  3.38039  3.53098  2.78262  2.86653  2.85290  1.93456  2.73873  2.46842  3.17691  5.56755  4.19739      2 r - - -\n",
            "          2.68618  4.42225  2.77519  2.73123  3.46354  2.40513  3.72494  3.29354  2.67741  2.69355  4.24690  2.90347  2.73739  3.18146  2.89801  2.37887  2.77519  2.98518  4.58477  3.61503\n",
            "          0.01468  4.62455  5.34689  0.61958  0.77255  0.56799  0.83624\n",
            "      3   2.19309  5.23500  2.64649  2.31488  4.55537  3.54166  2.65923  4.02417  2.50019  3.52968  4.28734  3.01922  2.10637  2.85816  2.56880  2.75723  3.01920  3.61345  5.68316  4.28645      3 p - - -\n",
            "          2.68618  4.42225  2.77519  2.73123  3.46354  2.40513  3.72494  3.29354  2.67741  2.69355  4.24690  2.90347  2.73739  3.18146  2.89801  2.37887  2.77519  2.98518  4.58477  3.61503\n",
            "          0.01412  4.66274  5.38509  0.61958  0.77255  0.48238  0.96053\n"
          ]
        }
      ]
    },
    {
      "cell_type": "markdown",
      "source": [
        "* In this new file, we can observe that the probabilities start from the first amino acid (AA), indicating that no cutting is performed by the `hmmbuild` command itself."
      ],
      "metadata": {
        "id": "L1AhdpqJlU1r"
      }
    },
    {
      "cell_type": "markdown",
      "source": [
        "## Get the negative and postive data from NCBI"
      ],
      "metadata": {
        "id": "pt_2QpJumlhS"
      }
    },
    {
      "cell_type": "code",
      "source": [
        "!wget -O negative.fasta.gz \"https://rest.uniprot.org/uniprotkb/stream?compressed=true&format=fasta&query=%28%28reviewed%3Atrue%29+NOT+%28xref%3Apfam-PF00014%29%29\"\n",
        "!zcat -f negative.fasta.gz > negative.fasta\n",
        "!rm negative.fasta.gz"
      ],
      "metadata": {
        "colab": {
          "base_uri": "https://localhost:8080/"
        },
        "id": "tk_KQIkVoLVm",
        "outputId": "046a4b1e-2b2c-4679-88df-ae1755c3ee75"
      },
      "execution_count": 71,
      "outputs": [
        {
          "output_type": "stream",
          "name": "stdout",
          "text": [
            "--2024-05-07 15:17:04--  https://rest.uniprot.org/uniprotkb/stream?compressed=true&format=fasta&query=%28%28reviewed%3Atrue%29+NOT+%28xref%3Apfam-PF00014%29%29\n",
            "Resolving rest.uniprot.org (rest.uniprot.org)... 193.62.193.81\n",
            "Connecting to rest.uniprot.org (rest.uniprot.org)|193.62.193.81|:443... connected.\n",
            "HTTP request sent, awaiting response... 200 \n",
            "Length: unspecified [text/plain]\n",
            "Saving to: ‘negative.fasta.gz’\n",
            "\n",
            "negative.fasta.gz       [    <=>             ] 134.34M   422KB/s    in 5m 13s  \n",
            "\n",
            "2024-05-07 15:22:18 (440 KB/s) - ‘negative.fasta.gz’ saved [140864598]\n",
            "\n"
          ]
        }
      ]
    },
    {
      "cell_type": "code",
      "source": [
        "!wget -O bpti_reviewd.fasta.gz \"https://rest.uniprot.org/uniprotkb/stream?compressed=true&format=fasta&query=%28%28xref%3Apfam-PF00014%29+AND+%28reviewed%3Atrue%29%29\"\n",
        "!zcat bpti_reviewd.fasta.gz > bpti_reviewd.fasta\n",
        "!rm bpti_reviewd.fasta.gz"
      ],
      "metadata": {
        "colab": {
          "base_uri": "https://localhost:8080/"
        },
        "id": "jA0KSmhMoTsP",
        "outputId": "899aee08-e8dc-4f01-a2c3-5e0e8b2e5df1"
      },
      "execution_count": 72,
      "outputs": [
        {
          "output_type": "stream",
          "name": "stdout",
          "text": [
            "--2024-05-07 15:25:57--  https://rest.uniprot.org/uniprotkb/stream?compressed=true&format=fasta&query=%28%28xref%3Apfam-PF00014%29+AND+%28reviewed%3Atrue%29%29\n",
            "Resolving rest.uniprot.org (rest.uniprot.org)... 193.62.193.81\n",
            "Connecting to rest.uniprot.org (rest.uniprot.org)|193.62.193.81|:443... connected.\n",
            "HTTP request sent, awaiting response... 200 \n",
            "Length: unspecified [text/plain]\n",
            "Saving to: ‘bpti_reviewd.fasta.gz’\n",
            "\n",
            "bpti_reviewd.fasta.     [ <=>                ]  41.28K  --.-KB/s    in 0.08s   \n",
            "\n",
            "2024-05-07 15:25:57 (509 KB/s) - ‘bpti_reviewd.fasta.gz’ saved [42270]\n",
            "\n"
          ]
        }
      ]
    },
    {
      "cell_type": "code",
      "source": [
        "# Make blast dataset for the bpti_reviewd.fasta\n",
        "!makeblastdb -in bpti_reviewd.fasta -dbtype prot"
      ],
      "metadata": {
        "colab": {
          "base_uri": "https://localhost:8080/"
        },
        "id": "351B7ev0qary",
        "outputId": "4657b3f6-0415-41c7-b99a-3151cbfa47bc"
      },
      "execution_count": 76,
      "outputs": [
        {
          "output_type": "stream",
          "name": "stdout",
          "text": [
            "\n",
            "\n",
            "Building a new DB, current time: 05/07/2024 15:27:30\n",
            "New DB name:   /content/bpti_reviewd.fasta\n",
            "New DB title:  bpti_reviewd.fasta\n",
            "Sequence type: Protein\n",
            "Keep MBits: T\n",
            "Maximum file size: 1000000000B\n",
            "Adding sequences from FASTA; added 391 sequences in 0.00923395 seconds.\n",
            "\n",
            "\n"
          ]
        }
      ]
    },
    {
      "cell_type": "code",
      "source": [],
      "metadata": {
        "id": "Dqk8Qq_1qmkB"
      },
      "execution_count": null,
      "outputs": []
    }
  ]
}