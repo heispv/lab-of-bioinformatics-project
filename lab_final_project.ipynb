{
  "nbformat": 4,
  "nbformat_minor": 0,
  "metadata": {
    "colab": {
      "provenance": []
    },
    "kernelspec": {
      "name": "python3",
      "display_name": "Python 3"
    },
    "language_info": {
      "name": "python"
    }
  },
  "cells": [
    {
      "cell_type": "code",
      "execution_count": 1,
      "metadata": {
        "id": "OlkE7gYYO4x9"
      },
      "outputs": [],
      "source": [
        "import pandas as pd"
      ]
    },
    {
      "cell_type": "code",
      "source": [
        "def clean_csv_file(path: str) -> str or None:\n",
        "    \"\"\"\n",
        "    Reads and cleans a CSV file, providing options to return the cleaned data as a string or save it into a file.\n",
        "\n",
        "    Parameters:\n",
        "        path (str): The path to the CSV file to be cleaned.\n",
        "\n",
        "    Returns:\n",
        "        str or None: If the user chooses to get the results as a variable (1),\n",
        "        the cleaned data is returned as a string. If the user chooses to save the\n",
        "        results into a file (2), the cleaned data is saved into a file.\n",
        "\n",
        "    Usage:\n",
        "        1. `path` should be the path to the CSV file that needs to be cleaned.\n",
        "        2. The function interactively prompts the user to choose between getting\n",
        "           the results as a variable or saving them into a file.\n",
        "        3. If the user selects to save the results into a file, they are further\n",
        "           prompted to choose between saving only keys or in Fasta format.\n",
        "        4. If the user selects to save in Fasta format, the data is saved in a\n",
        "           '.fasta' file with each entry represented as a Fasta sequence.\n",
        "        5. If the user selects to save only keys, the data is saved in a '.txt'\n",
        "           file with each key on a separate line.\n",
        "\n",
        "    Notes:\n",
        "        - If the user does not provide a valid input for any prompt, they are\n",
        "          repeatedly prompted until a valid input is provided.\n",
        "        - If the user does not provide a file name when prompted for the output\n",
        "          file name, a default name \"output_seq\" is used.\n",
        "        - The function utilizes the Pandas library to read and manipulate CSV data.\n",
        "        - The function utilizes Python's built-in file handling capabilities to\n",
        "          save the data into text files.\n",
        "    \"\"\"\n",
        "    break_line = '\\n------------------------------\\n'\n",
        "    print('Reading the file...')\n",
        "    df = pd.read_csv(path)\n",
        "    print('Cleaning the CSV file...')\n",
        "    df = df.dropna(subset=['Entity ID'])\n",
        "    df = df.drop(columns=['Unnamed: 3'])\n",
        "    df['Entity ID'] = df['Entity ID'].str.split('_').str[0] + ':' + df['Auth Asym ID']\n",
        "    df = df.drop(columns=['Auth Asym ID'])\n",
        "    df = df.reset_index(drop=True)\n",
        "    print('Done!', break_line)\n",
        "\n",
        "    while True:\n",
        "        which_output = input('Do you want to get the results as variable(1) or file(2)?\\nOnly enter the corresponding number[1, 2]: ')\n",
        "        if which_output in ['1', '2']:\n",
        "            which_output = int(which_output)\n",
        "            break\n",
        "        else:\n",
        "            print('Invalid input. Please enter either 1 or 2.' + break_line)\n",
        "\n",
        "    # Save the output into a variable\n",
        "    if which_output == 1:\n",
        "        return '\\n'.join(df['Entity ID'].values)\n",
        "\n",
        "    # Save the output into a file\n",
        "    elif which_output == 2:\n",
        "        print(break_line)\n",
        "        output_file_name = input('Enter your output file name without extension (Press Enter for default \"output_seq\"): ')\n",
        "        output_file_name = output_file_name.strip()\n",
        "        if output_file_name == \"\":\n",
        "            output_file_name = \"output_seq\"\n",
        "\n",
        "        while True:\n",
        "            with_fasta = input('[1] Only keys \\\\ [2] As Fasta format: ')\n",
        "            if with_fasta in ['1', '2']:\n",
        "                with_fasta = int(with_fasta)\n",
        "                break\n",
        "            else:\n",
        "                print('Invalid input. Please enter either 1 or 2.' + break_line)\n",
        "        # Save as .fasta\n",
        "        if with_fasta == 2:\n",
        "            with open(output_file_name + '.fasta', 'w') as file:\n",
        "                for idx, row in df.iterrows():\n",
        "                    file.write(f\"> {row['Entity ID']}\\n{row['Sequence']}\\n\")\n",
        "            print(break_line, 'Data saved to', output_file_name + '.fasta')\n",
        "        # Save as .keys\n",
        "        elif with_fasta == 1:\n",
        "            with open(output_file_name + '.txt', 'w') as f:\n",
        "                f.write('\\n'.join(df['Entity ID'].values))\n",
        "            print(break_line, 'Data saved to', output_file_name + '.keys')\n"
      ],
      "metadata": {
        "id": "jiGaKijcO9Ry"
      },
      "execution_count": 2,
      "outputs": []
    },
    {
      "cell_type": "code",
      "source": [
        "path = '/content/rcsb_pdb_custom_report_20240411062134.csv'"
      ],
      "metadata": {
        "id": "uRkov_HyO-e1"
      },
      "execution_count": null,
      "outputs": []
    },
    {
      "cell_type": "code",
      "source": [
        "clean_csv_file()"
      ],
      "metadata": {
        "id": "aGiuiX3TPBpD"
      },
      "execution_count": null,
      "outputs": []
    }
  ]
}