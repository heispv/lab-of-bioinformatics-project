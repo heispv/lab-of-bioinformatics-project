{
  "cells": [
    {
      "cell_type": "code",
      "execution_count": 1,
      "metadata": {
        "colab": {
          "base_uri": "https://localhost:8080/"
        },
        "id": "Q3MIABPajQ8e",
        "outputId": "6e17d6bd-df6d-460b-e789-6b6dfd20bb5b"
      },
      "outputs": [
        {
          "output_type": "stream",
          "name": "stdout",
          "text": [
            "Reading package lists... Done\n",
            "Building dependency tree... Done\n",
            "Reading state information... Done\n",
            "hmmer is already the newest version (3.3.2+dfsg-1).\n",
            "0 upgraded, 0 newly installed, 0 to remove and 45 not upgraded.\n",
            "Reading package lists... Done\n",
            "Building dependency tree... Done\n",
            "Reading state information... Done\n",
            "hmmer-doc is already the newest version (3.3.2+dfsg-1).\n",
            "0 upgraded, 0 newly installed, 0 to remove and 45 not upgraded.\n",
            "Reading package lists... Done\n",
            "Building dependency tree... Done\n",
            "Reading state information... Done\n",
            "ncbi-blast+ is already the newest version (2.12.0+ds-3build1).\n",
            "0 upgraded, 0 newly installed, 0 to remove and 45 not upgraded.\n"
          ]
        }
      ],
      "source": [
        "# install hmmer library\n",
        "!sudo apt-get install hmmer\n",
        "!sudo apt-get install hmmer-doc\n",
        "!sudo apt-get install ncbi-blast+"
      ]
    },
    {
      "cell_type": "code",
      "execution_count": 2,
      "metadata": {
        "id": "OlkE7gYYO4x9"
      },
      "outputs": [],
      "source": [
        "import pandas as pd"
      ]
    },
    {
      "cell_type": "markdown",
      "source": [
        "## Get the 3D structure\n",
        "CSV files of PF00014 domains are based on two different queries.\n",
        "\n",
        "```b\n",
        "( Identifier = \"PF00014\" AND Annotation Type = \"Pfam\" ) AND Data Collection Resolution < 3 AND Polymer Entity Sequence Length = [ 50 - 80 ] AND Polymer Entity Mutation Count < 10\n",
        "```\n",
        "and\n",
        "```b\n",
        " ( Identifier = \"PF00014\" AND Annotation Type = \"Pfam\" ) AND Data Collection Resolution < 2 AND Polymer Entity Sequence Length = [ 50 - 80 ] AND Polymer Entity Mutation Count < 2\n",
        " ```\n",
        " the difference are the `Resolution(3Å vs 2Å)`, `Polymer Entity Mutation Count(10 vs 2)` and at the end `grouping the polymer entities with different sequence identity(100% vs 50%)`.\n",
        "\n",
        " The stricter criteria, with a resolution of 2Å, a mutation count of less than 2, and a sequence identity of 100%, may lead to a smaller sample size but potentially higher quality data, while the less strict criteria, with a resolution of 3Å, a mutation count of less than 10, and a sequence identity of 50%, could yield a larger sample size but with a risk of including lower quality data. With the stricter rules, we have obtained 14 samples, whereas with the less strict rule, we have collected 28 samples. Additionally, we aim to assess which set of criteria—either the more stringent or the less restrictive—ultimately yields superior results in terms of sample quality and relevance to our research objectives."
      ],
      "metadata": {
        "id": "xvIignZ9RR3f"
      }
    },
    {
      "cell_type": "code",
      "source": [],
      "metadata": {
        "id": "Xya4qG2nZlix"
      },
      "execution_count": null,
      "outputs": []
    },
    {
      "cell_type": "markdown",
      "metadata": {
        "id": "_8uMuFACnusb"
      },
      "source": [
        "## Clean csv file"
      ]
    },
    {
      "cell_type": "code",
      "execution_count": 3,
      "metadata": {
        "id": "jiGaKijcO9Ry"
      },
      "outputs": [],
      "source": [
        "def clean_csv_file(path: str) -> str or None:\n",
        "    \"\"\"\n",
        "    Reads and cleans a CSV file, providing options to return the cleaned data as a string or save it into a file.\n",
        "\n",
        "    Parameters:\n",
        "        path (str): The path to the CSV file to be cleaned.\n",
        "\n",
        "    Returns:\n",
        "        str or None: If the user chooses to get the results as a variable (1),\n",
        "        the cleaned data is returned as a string. If the user chooses to save the\n",
        "        results into a file (2), the cleaned data is saved into a file.\n",
        "\n",
        "    Usage:\n",
        "        1. `path` should be the path to the CSV file that needs to be cleaned.\n",
        "        2. The function interactively prompts the user to choose between getting\n",
        "           the results as a variable or saving them into a file.\n",
        "        3. If the user selects to save the results into a file, they are further\n",
        "           prompted to choose between saving only keys or in Fasta format.\n",
        "        4. If the user selects to save in Fasta format, the data is saved in a\n",
        "           '.fasta' file with each entry represented as a Fasta sequence.\n",
        "        5. If the user selects to save only keys, the data is saved in a '.txt'\n",
        "           file with each key on a separate line.\n",
        "\n",
        "    Notes:\n",
        "        - If the user does not provide a valid input for any prompt, they are\n",
        "          repeatedly prompted until a valid input is provided.\n",
        "        - If the user does not provide a file name when prompted for the output\n",
        "          file name, a default name \"output_seq\" is used.\n",
        "        - The function utilizes the Pandas library to read and manipulate CSV data.\n",
        "        - The function utilizes Python's built-in file handling capabilities to\n",
        "          save the data into text files.\n",
        "    \"\"\"\n",
        "    break_line = '\\n------------------------------\\n'\n",
        "    print('Reading the file...')\n",
        "    df = pd.read_csv(path)\n",
        "    print('Cleaning the CSV file...')\n",
        "    df = df.dropna(subset=['Entity ID'])\n",
        "    df = df.drop(columns=['Unnamed: 3'])\n",
        "    df['Entity ID'] = df['Entity ID'].str.split('_').str[0] + ':' + df['Auth Asym ID']\n",
        "    df = df.drop(columns=['Auth Asym ID'])\n",
        "    df = df.reset_index(drop=True)\n",
        "    print('Done!', break_line)\n",
        "\n",
        "    while True:\n",
        "        which_output = input('Do you want to get the results as variable(1) or file(2)?\\nOnly enter the corresponding number[1, 2]: ')\n",
        "        if which_output in ['1', '2']:\n",
        "            which_output = int(which_output)\n",
        "            break\n",
        "        else:\n",
        "            print('Invalid input. Please enter either 1 or 2.' + break_line)\n",
        "\n",
        "    # Save the output into a variable\n",
        "    if which_output == 1:\n",
        "        return '\\n'.join(df['Entity ID'].values)\n",
        "\n",
        "    # Save the output into a file\n",
        "    elif which_output == 2:\n",
        "        print(break_line)\n",
        "        output_file_name = input('Enter your output file name without extension (Press Enter for default \"output_seq\"): ')\n",
        "        output_file_name = output_file_name.strip()\n",
        "        if output_file_name == \"\":\n",
        "            output_file_name = \"output_seq\"\n",
        "\n",
        "        while True:\n",
        "            with_fasta = input('[1] Only keys \\\\ [2] As Fasta format: ')\n",
        "            if with_fasta in ['1', '2']:\n",
        "                with_fasta = int(with_fasta)\n",
        "                break\n",
        "            else:\n",
        "                print('Invalid input. Please enter either 1 or 2.' + break_line)\n",
        "        # Save as .fasta\n",
        "        if with_fasta == 2:\n",
        "            with open(output_file_name + '.fasta', 'w') as file:\n",
        "                for idx, row in df.iterrows():\n",
        "                    file.write(f\"> {row['Entity ID']}\\n{row['Sequence']}\\n\")\n",
        "            print(break_line, 'Data saved to', output_file_name + '.fasta')\n",
        "        # Save as .keys\n",
        "        elif with_fasta == 1:\n",
        "            with open(output_file_name + '.txt', 'w') as f:\n",
        "                f.write('\\n'.join(df['Entity ID'].values))\n",
        "            print(break_line, 'Data saved to', output_file_name + '.keys')\n"
      ]
    },
    {
      "cell_type": "code",
      "execution_count": 4,
      "metadata": {
        "colab": {
          "base_uri": "https://localhost:8080/"
        },
        "id": "uRkov_HyO-e1",
        "outputId": "f1fff0a8-e526-4f54-e5a1-51d5c1edb122"
      },
      "outputs": [
        {
          "output_type": "stream",
          "name": "stdout",
          "text": [
            "--2024-05-11 19:27:34--  https://github.com/heispv/bioinformatics/raw/master/lab-of-bioinformatics/rcsb_pdb_custom_report_20240411062134.csv\n",
            "Resolving github.com (github.com)... 140.82.112.3\n",
            "Connecting to github.com (github.com)|140.82.112.3|:443... connected.\n",
            "HTTP request sent, awaiting response... 302 Found\n",
            "Location: https://raw.githubusercontent.com/heispv/bioinformatics/master/lab-of-bioinformatics/rcsb_pdb_custom_report_20240411062134.csv [following]\n",
            "--2024-05-11 19:27:35--  https://raw.githubusercontent.com/heispv/bioinformatics/master/lab-of-bioinformatics/rcsb_pdb_custom_report_20240411062134.csv\n",
            "Resolving raw.githubusercontent.com (raw.githubusercontent.com)... 185.199.108.133, 185.199.109.133, 185.199.110.133, ...\n",
            "Connecting to raw.githubusercontent.com (raw.githubusercontent.com)|185.199.108.133|:443... connected.\n",
            "HTTP request sent, awaiting response... 200 OK\n",
            "Length: 1611 (1.6K) [text/plain]\n",
            "Saving to: ‘pdb_report.csv’\n",
            "\n",
            "\rpdb_report.csv        0%[                    ]       0  --.-KB/s               \rpdb_report.csv      100%[===================>]   1.57K  --.-KB/s    in 0s      \n",
            "\n",
            "2024-05-11 19:27:35 (13.3 MB/s) - ‘pdb_report.csv’ saved [1611/1611]\n",
            "\n"
          ]
        }
      ],
      "source": [
        "!wget -O pdb_report.csv \"https://github.com/heispv/bioinformatics/raw/master/lab-of-bioinformatics/rcsb_pdb_custom_report_20240411062134.csv\""
      ]
    },
    {
      "cell_type": "code",
      "execution_count": 5,
      "metadata": {
        "id": "Y9_g_EOCg3PE"
      },
      "outputs": [],
      "source": [
        "path = \"/content/pdb_report.csv\""
      ]
    },
    {
      "cell_type": "code",
      "execution_count": 6,
      "metadata": {
        "colab": {
          "base_uri": "https://localhost:8080/",
          "height": 391
        },
        "id": "aGiuiX3TPBpD",
        "outputId": "8dbbc3a3-8ac5-4d6b-cf1b-65bd563ee8b5"
      },
      "outputs": [
        {
          "output_type": "stream",
          "name": "stdout",
          "text": [
            "Reading the file...\n",
            "Cleaning the CSV file...\n",
            "Done! \n",
            "------------------------------\n",
            "\n"
          ]
        },
        {
          "output_type": "error",
          "ename": "KeyboardInterrupt",
          "evalue": "Interrupted by user",
          "traceback": [
            "\u001b[0;31m---------------------------------------------------------------------------\u001b[0m",
            "\u001b[0;31mKeyboardInterrupt\u001b[0m                         Traceback (most recent call last)",
            "\u001b[0;32m<ipython-input-6-83545ddd011d>\u001b[0m in \u001b[0;36m<cell line: 2>\u001b[0;34m()\u001b[0m\n\u001b[1;32m      1\u001b[0m \u001b[0;31m# for default -> select (2 / default / 2)\u001b[0m\u001b[0;34m\u001b[0m\u001b[0;34m\u001b[0m\u001b[0m\n\u001b[0;32m----> 2\u001b[0;31m \u001b[0mclean_csv_file\u001b[0m\u001b[0;34m(\u001b[0m\u001b[0mpath\u001b[0m\u001b[0;34m)\u001b[0m\u001b[0;34m\u001b[0m\u001b[0;34m\u001b[0m\u001b[0m\n\u001b[0m",
            "\u001b[0;32m<ipython-input-3-3bdc0a5bff1f>\u001b[0m in \u001b[0;36mclean_csv_file\u001b[0;34m(path)\u001b[0m\n\u001b[1;32m     43\u001b[0m \u001b[0;34m\u001b[0m\u001b[0m\n\u001b[1;32m     44\u001b[0m     \u001b[0;32mwhile\u001b[0m \u001b[0;32mTrue\u001b[0m\u001b[0;34m:\u001b[0m\u001b[0;34m\u001b[0m\u001b[0;34m\u001b[0m\u001b[0m\n\u001b[0;32m---> 45\u001b[0;31m         \u001b[0mwhich_output\u001b[0m \u001b[0;34m=\u001b[0m \u001b[0minput\u001b[0m\u001b[0;34m(\u001b[0m\u001b[0;34m'Do you want to get the results as variable(1) or file(2)?\\nOnly enter the corresponding number[1, 2]: '\u001b[0m\u001b[0;34m)\u001b[0m\u001b[0;34m\u001b[0m\u001b[0;34m\u001b[0m\u001b[0m\n\u001b[0m\u001b[1;32m     46\u001b[0m         \u001b[0;32mif\u001b[0m \u001b[0mwhich_output\u001b[0m \u001b[0;32min\u001b[0m \u001b[0;34m[\u001b[0m\u001b[0;34m'1'\u001b[0m\u001b[0;34m,\u001b[0m \u001b[0;34m'2'\u001b[0m\u001b[0;34m]\u001b[0m\u001b[0;34m:\u001b[0m\u001b[0;34m\u001b[0m\u001b[0;34m\u001b[0m\u001b[0m\n\u001b[1;32m     47\u001b[0m             \u001b[0mwhich_output\u001b[0m \u001b[0;34m=\u001b[0m \u001b[0mint\u001b[0m\u001b[0;34m(\u001b[0m\u001b[0mwhich_output\u001b[0m\u001b[0;34m)\u001b[0m\u001b[0;34m\u001b[0m\u001b[0;34m\u001b[0m\u001b[0m\n",
            "\u001b[0;32m/usr/local/lib/python3.10/dist-packages/ipykernel/kernelbase.py\u001b[0m in \u001b[0;36mraw_input\u001b[0;34m(self, prompt)\u001b[0m\n\u001b[1;32m    849\u001b[0m                 \u001b[0;34m\"raw_input was called, but this frontend does not support input requests.\"\u001b[0m\u001b[0;34m\u001b[0m\u001b[0;34m\u001b[0m\u001b[0m\n\u001b[1;32m    850\u001b[0m             )\n\u001b[0;32m--> 851\u001b[0;31m         return self._input_request(str(prompt),\n\u001b[0m\u001b[1;32m    852\u001b[0m             \u001b[0mself\u001b[0m\u001b[0;34m.\u001b[0m\u001b[0m_parent_ident\u001b[0m\u001b[0;34m,\u001b[0m\u001b[0;34m\u001b[0m\u001b[0;34m\u001b[0m\u001b[0m\n\u001b[1;32m    853\u001b[0m             \u001b[0mself\u001b[0m\u001b[0;34m.\u001b[0m\u001b[0m_parent_header\u001b[0m\u001b[0;34m,\u001b[0m\u001b[0;34m\u001b[0m\u001b[0;34m\u001b[0m\u001b[0m\n",
            "\u001b[0;32m/usr/local/lib/python3.10/dist-packages/ipykernel/kernelbase.py\u001b[0m in \u001b[0;36m_input_request\u001b[0;34m(self, prompt, ident, parent, password)\u001b[0m\n\u001b[1;32m    893\u001b[0m             \u001b[0;32mexcept\u001b[0m \u001b[0mKeyboardInterrupt\u001b[0m\u001b[0;34m:\u001b[0m\u001b[0;34m\u001b[0m\u001b[0;34m\u001b[0m\u001b[0m\n\u001b[1;32m    894\u001b[0m                 \u001b[0;31m# re-raise KeyboardInterrupt, to truncate traceback\u001b[0m\u001b[0;34m\u001b[0m\u001b[0;34m\u001b[0m\u001b[0m\n\u001b[0;32m--> 895\u001b[0;31m                 \u001b[0;32mraise\u001b[0m \u001b[0mKeyboardInterrupt\u001b[0m\u001b[0;34m(\u001b[0m\u001b[0;34m\"Interrupted by user\"\u001b[0m\u001b[0;34m)\u001b[0m \u001b[0;32mfrom\u001b[0m \u001b[0;32mNone\u001b[0m\u001b[0;34m\u001b[0m\u001b[0;34m\u001b[0m\u001b[0m\n\u001b[0m\u001b[1;32m    896\u001b[0m             \u001b[0;32mexcept\u001b[0m \u001b[0mException\u001b[0m \u001b[0;32mas\u001b[0m \u001b[0me\u001b[0m\u001b[0;34m:\u001b[0m\u001b[0;34m\u001b[0m\u001b[0;34m\u001b[0m\u001b[0m\n\u001b[1;32m    897\u001b[0m                 \u001b[0mself\u001b[0m\u001b[0;34m.\u001b[0m\u001b[0mlog\u001b[0m\u001b[0;34m.\u001b[0m\u001b[0mwarning\u001b[0m\u001b[0;34m(\u001b[0m\u001b[0;34m\"Invalid Message:\"\u001b[0m\u001b[0;34m,\u001b[0m \u001b[0mexc_info\u001b[0m\u001b[0;34m=\u001b[0m\u001b[0;32mTrue\u001b[0m\u001b[0;34m)\u001b[0m\u001b[0;34m\u001b[0m\u001b[0;34m\u001b[0m\u001b[0m\n",
            "\u001b[0;31mKeyboardInterrupt\u001b[0m: Interrupted by user"
          ]
        }
      ],
      "source": [
        "# for default -> select (2 / default / 2)\n",
        "clean_csv_file(path)"
      ]
    },
    {
      "cell_type": "code",
      "execution_count": null,
      "metadata": {
        "id": "HeHArpBRV69-"
      },
      "outputs": [],
      "source": [
        "!cat output_seq.fasta | head -n 30"
      ]
    },
    {
      "cell_type": "markdown",
      "metadata": {
        "id": "p171a3jTnzjb"
      },
      "source": [
        "## Get MSA"
      ]
    },
    {
      "cell_type": "code",
      "execution_count": null,
      "metadata": {
        "id": "aQ6OxMmjgppZ"
      },
      "outputs": [],
      "source": [
        "# Getting the multiple sequence alignment is done in the PDBe website\n",
        "!wget -O fasta.txt \"https://github.com/heispv/bioinformatics/raw/master/lab-of-bioinformatics/fasta.txt\""
      ]
    },
    {
      "cell_type": "markdown",
      "metadata": {
        "id": "HDphtcV1n3c8"
      },
      "source": [
        "### Build HMM based on the raw MSA"
      ]
    },
    {
      "cell_type": "code",
      "execution_count": null,
      "metadata": {
        "id": "I2fV858OjkKf"
      },
      "outputs": [],
      "source": [
        "# Create an HMM model based on the fasta.txt file\n",
        "!hmmbuild msa_notclean.hmm fasta.txt"
      ]
    },
    {
      "cell_type": "code",
      "execution_count": null,
      "metadata": {
        "id": "hbLbFy9Gk0r6"
      },
      "outputs": [],
      "source": [
        "!cat msa_notclean.hmm | head -n 30"
      ]
    },
    {
      "cell_type": "markdown",
      "metadata": {
        "id": "2teyVJNOljwu"
      },
      "source": [
        "Based on the file above, we can observe that the `hmmbuild` command, applied to the `fasta.txt` file, cuts the first 20 characters in the sequence. This action is taken because there are not enough amino acids to build the Hidden Markov Model (HMM) for that part of the sequence. Therefore, we will trim the first 20 characters of each sequence and then reapply the `hmmbuild` command."
      ]
    },
    {
      "cell_type": "markdown",
      "metadata": {
        "id": "_tV4yFT9n9Gb"
      },
      "source": [
        "## Clean raw MSA"
      ]
    },
    {
      "cell_type": "code",
      "execution_count": null,
      "metadata": {
        "id": "3jwmyr4ShxgI"
      },
      "outputs": [],
      "source": [
        "def clean_fasta(path: str, first_clipping_num, output_file_name: str) -> None:\n",
        "    \"\"\"\n",
        "    Clean FASTA file by removing specified number of characters from the beginning of each sequence.\n",
        "\n",
        "    Args:\n",
        "        path (str): Path to the input FASTA file.\n",
        "        first_clipping_num (int): Number of characters to remove from the beginning of each sequence.\n",
        "        output_file_name (str): Name of the output file.\n",
        "\n",
        "    Returns:\n",
        "        None\n",
        "\n",
        "    This function reads a FASTA file, extracts the sequence IDs and sequences, removes the specified\n",
        "    number of characters from the beginning of each sequence, and writes the cleaned sequences to a new file.\n",
        "    \"\"\"\n",
        "    with open(path) as f:\n",
        "        fastas = f.read().split('\\n\\n')\n",
        "\n",
        "    clean_list = []\n",
        "    for fasta in fastas:\n",
        "        id = fasta.split()[0]\n",
        "        sequence = ''.join(fasta.split('\\n')[1:])\n",
        "        clean_list.append((id, sequence))\n",
        "\n",
        "    with open(output_file_name + '.txt', 'w') as f:\n",
        "        for item in clean_list:\n",
        "            f.write(f\"{item[0]}\\n{item[1][first_clipping_num-1:]}\\n\")\n",
        "\n",
        "    print(f'Output saved in {output_file_name}.txt')"
      ]
    },
    {
      "cell_type": "code",
      "execution_count": null,
      "metadata": {
        "id": "zIxZVxctiuub"
      },
      "outputs": [],
      "source": [
        "clean_fasta(\"/content/fasta.txt\", 20, \"clean_fasta\")"
      ]
    },
    {
      "cell_type": "code",
      "execution_count": null,
      "metadata": {
        "id": "HbO7jn3njnD-"
      },
      "outputs": [],
      "source": [
        "# Check the fasta file before the cleaning\n",
        "!cat fasta.txt | head -n 20"
      ]
    },
    {
      "cell_type": "code",
      "execution_count": null,
      "metadata": {
        "id": "EBfaMw91i8Ev"
      },
      "outputs": [],
      "source": [
        "# Check the clean_fasta.txt file\n",
        "!cat clean_fasta.txt | head -n 20"
      ]
    },
    {
      "cell_type": "markdown",
      "metadata": {
        "id": "HYFlGEFMoA87"
      },
      "source": [
        "### Build HMM based on clean MSA"
      ]
    },
    {
      "cell_type": "code",
      "execution_count": null,
      "metadata": {
        "id": "2VXkmCYDndvf"
      },
      "outputs": [],
      "source": [
        "# Create an HMM model based on the clean_fasta.txt file\n",
        "!hmmbuild msa.hmm clean_fasta.txt"
      ]
    },
    {
      "cell_type": "code",
      "execution_count": null,
      "metadata": {
        "id": "L4sSoDTPk8JF"
      },
      "outputs": [],
      "source": [
        "!cat msa.hmm | head -n 30"
      ]
    },
    {
      "cell_type": "markdown",
      "metadata": {
        "id": "L1AhdpqJlU1r"
      },
      "source": [
        "* In this new file, we can observe that the probabilities start from the first amino acid (AA), indicating that no cutting is performed by the `hmmbuild` command itself."
      ]
    },
    {
      "cell_type": "markdown",
      "metadata": {
        "id": "pt_2QpJumlhS"
      },
      "source": [
        "## Get the negative and postive data from NCBI"
      ]
    },
    {
      "cell_type": "code",
      "execution_count": null,
      "metadata": {
        "id": "tk_KQIkVoLVm"
      },
      "outputs": [],
      "source": [
        "!wget -O negative.fasta.gz \"https://rest.uniprot.org/uniprotkb/stream?compressed=true&format=fasta&query=%28%28reviewed%3Atrue%29+NOT+%28xref%3Apfam-PF00014%29%29\"\n",
        "!zcat -f negative.fasta.gz > negative.fasta\n",
        "!rm negative.fasta.gz"
      ]
    },
    {
      "cell_type": "code",
      "execution_count": null,
      "metadata": {
        "id": "jA0KSmhMoTsP"
      },
      "outputs": [],
      "source": [
        "!wget -O bpti_reviewd.fasta.gz \"https://rest.uniprot.org/uniprotkb/stream?compressed=true&format=fasta&query=%28%28xref%3Apfam-PF00014%29+AND+%28reviewed%3Atrue%29%29\"\n",
        "!zcat bpti_reviewd.fasta.gz > bpti_reviewd.fasta\n",
        "!rm bpti_reviewd.fasta.gz"
      ]
    },
    {
      "cell_type": "code",
      "execution_count": null,
      "metadata": {
        "id": "351B7ev0qary"
      },
      "outputs": [],
      "source": [
        "# Make blast dataset for the bpti_reviewd.fasta\n",
        "!makeblastdb -in bpti_reviewd.fasta -dbtype prot"
      ]
    },
    {
      "cell_type": "code",
      "source": [
        "!cat bpti_reviewd.fasta | wc"
      ],
      "metadata": {
        "colab": {
          "base_uri": "https://localhost:8080/"
        },
        "id": "Kpo4Qv8XRAOJ",
        "outputId": "0fe711fc-051d-4128-f02c-357eddc42e6e"
      },
      "execution_count": 17,
      "outputs": [
        {
          "output_type": "stream",
          "name": "stdout",
          "text": [
            "   1860    5387  118161\n"
          ]
        }
      ]
    },
    {
      "cell_type": "markdown",
      "source": [
        "The line of the code below initiates a BLASTP search, a tool for comparing protein sequences. It takes protein sequences from \"output_seq.fasta\" as the query and compares them against a database specified in \"bpti_reviewd.fasta\". The results are saved in \"bpti_reviewd.blast\" using format 7, which is suitable for further analysis."
      ],
      "metadata": {
        "id": "qaUcBBU-GQph"
      }
    },
    {
      "cell_type": "code",
      "execution_count": null,
      "metadata": {
        "id": "Dqk8Qq_1qmkB"
      },
      "outputs": [],
      "source": [
        "!blastp -query output_seq.fasta -db bpti_reviewd.fasta -out bpti_reviewd.blast -outfmt 7"
      ]
    },
    {
      "cell_type": "markdown",
      "source": [
        "This command below filters a BLAST result file named \"bpti_reviewd.blast\". It removes comment lines (lines starting with # character), selects entries with sequence identity greater than 98%, and saves the unique identifiers of those entries into a file named \"remove.fasta\"."
      ],
      "metadata": {
        "id": "-buKcNfgGmDf"
      }
    },
    {
      "cell_type": "code",
      "source": [
        "!grep -v \"^#\" bpti_reviewd.blast | awk '{if ($3 > 98) {print $2}}' | sort -u > remove.fasta"
      ],
      "metadata": {
        "id": "DxqE2HOEF-of"
      },
      "execution_count": 7,
      "outputs": []
    },
    {
      "cell_type": "code",
      "source": [
        "!cat remove.fasta | head -n 5"
      ],
      "metadata": {
        "colab": {
          "base_uri": "https://localhost:8080/"
        },
        "id": "yfzPq6auG6pA",
        "outputId": "047e5cc9-cf37-4365-abed-c3ab93ff0992"
      },
      "execution_count": 8,
      "outputs": [
        {
          "output_type": "stream",
          "name": "stdout",
          "text": [
            "sp|G9I929|VKTA_MICTN\n",
            "sp|O43278|SPIT1_HUMAN\n",
            "sp|O43291|SPIT2_HUMAN\n",
            "sp|P00974|BPT1_BOVIN\n",
            "sp|P00980|VKTHA_DENAN\n"
          ]
        }
      ]
    },
    {
      "cell_type": "markdown",
      "source": [
        "We are only interested in the ids, to get the ids from the remove.fasta file, we should run the command below. the results would be saved in the `remove.ids` file."
      ],
      "metadata": {
        "id": "8OnsnACiHEmY"
      }
    },
    {
      "cell_type": "code",
      "source": [
        "!cat remove.fasta | cut -d \"|\" -f 2 > remove.ids"
      ],
      "metadata": {
        "id": "_YITBg2zG-ed"
      },
      "execution_count": 9,
      "outputs": []
    },
    {
      "cell_type": "code",
      "source": [
        "!wc remove.ids"
      ],
      "metadata": {
        "colab": {
          "base_uri": "https://localhost:8080/"
        },
        "id": "cpJzae-4IEFm",
        "outputId": "9c815403-5c5f-4b49-8810-f56e8f5f4dbf"
      },
      "execution_count": 10,
      "outputs": [
        {
          "output_type": "stream",
          "name": "stdout",
          "text": [
            " 27  27 189 remove.ids\n"
          ]
        }
      ]
    },
    {
      "cell_type": "markdown",
      "source": [
        "Based on the `remove.ids` file, there are 27 sequences which should be removed from the main data."
      ],
      "metadata": {
        "id": "bnU7sqOTIFaI"
      }
    },
    {
      "cell_type": "code",
      "source": [
        "def filter_sequences(seq_file_path, ids_file_path, output_file_path):\n",
        "    \"\"\"\n",
        "    Filters sequences from a FASTA file based on a list of excluded sequence IDs and save them in a file.\n",
        "\n",
        "    Parameters:\n",
        "    - seq_file_path (str): The file path to the input FASTA file containing sequences to filter.\n",
        "    - ids_file_path (str): The file path to the input file containing a list of sequence IDs to exclude.\n",
        "    - output_file_path (str): The file path to save the filtered sequences.\n",
        "\n",
        "    Returns:\n",
        "    - None\n",
        "    \"\"\"\n",
        "    # Open the file containing excluded sequence IDs and create a set to store them\n",
        "    with open(ids_file_path, 'r') as file:\n",
        "        excluded_ids = {line.strip() for line in file}\n",
        "\n",
        "    # Open the input FASTA file and extract sequences\n",
        "    with open(seq_file_path, 'r') as file:\n",
        "        content = file.read().strip()\n",
        "        sequences = content.split('>')[1:]\n",
        "\n",
        "    # Open the output file for writing filtered sequences\n",
        "    with open(output_file_path, 'w') as outfile:\n",
        "        for sequence in sequences:\n",
        "            header = sequence.split('\\n', 1)[0]\n",
        "            seq_id = header.split('|')[1]\n",
        "\n",
        "            if seq_id not in excluded_ids:\n",
        "                outfile.write(f'>{sequence}\\n')\n"
      ],
      "metadata": {
        "id": "5nKvR4QdIOGg"
      },
      "execution_count": 11,
      "outputs": []
    },
    {
      "cell_type": "code",
      "source": [
        "filter_sequences('bpti_reviewd.fasta', 'remove.ids', 'pos_filtered.fasta')"
      ],
      "metadata": {
        "id": "krKplA0-Ilkx"
      },
      "execution_count": 12,
      "outputs": []
    },
    {
      "cell_type": "code",
      "source": [
        "!cat pos_filtered.fasta | grep \">\" | wc"
      ],
      "metadata": {
        "colab": {
          "base_uri": "https://localhost:8080/"
        },
        "id": "L2YuXFngIsQh",
        "outputId": "adf0112e-40ba-4e34-f539-7497992d6ae5"
      },
      "execution_count": 13,
      "outputs": [
        {
          "output_type": "stream",
          "name": "stdout",
          "text": [
            "    364    3628   37607\n"
          ]
        }
      ]
    },
    {
      "cell_type": "markdown",
      "source": [
        "We can see that now the number of the sequences are 364."
      ],
      "metadata": {
        "id": "tJvc1IyHIt5t"
      }
    },
    {
      "cell_type": "code",
      "source": [
        "!cat negative.fasta | grep \">\" | wc"
      ],
      "metadata": {
        "colab": {
          "base_uri": "https://localhost:8080/"
        },
        "id": "ewj7Fs3UIzB3",
        "outputId": "9975e506-8fc3-40b3-e69e-154ca7977a4b"
      },
      "execution_count": 14,
      "outputs": [
        {
          "output_type": "stream",
          "name": "stdout",
          "text": [
            " 570891 8385714 74362141\n"
          ]
        }
      ]
    },
    {
      "cell_type": "code",
      "source": [],
      "metadata": {
        "id": "BKgDJ3TMI7OA"
      },
      "execution_count": null,
      "outputs": []
    }
  ],
  "metadata": {
    "colab": {
      "provenance": []
    },
    "kernelspec": {
      "display_name": "Python 3",
      "name": "python3"
    },
    "language_info": {
      "name": "python"
    }
  },
  "nbformat": 4,
  "nbformat_minor": 0
}