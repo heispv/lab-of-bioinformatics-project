{
  "cells": [
    {
      "cell_type": "markdown",
      "source": [
        "# Installing dependecies"
      ],
      "metadata": {
        "id": "E5nojURKHf4O"
      }
    },
    {
      "cell_type": "code",
      "execution_count": null,
      "metadata": {
        "id": "Q3MIABPajQ8e",
        "collapsed": true
      },
      "outputs": [],
      "source": [
        "# install hmmer library\n",
        "!sudo apt-get install hmmer\n",
        "!sudo apt-get install hmmer-doc\n",
        "!sudo apt-get install ncbi-blast+"
      ]
    },
    {
      "cell_type": "code",
      "execution_count": 105,
      "metadata": {
        "id": "OlkE7gYYO4x9"
      },
      "outputs": [],
      "source": [
        "import pandas as pd\n",
        "import random\n",
        "import numpy as np\n",
        "import matplotlib.pyplot as plt\n",
        "import seaborn as sns"
      ]
    },
    {
      "cell_type": "markdown",
      "source": [
        "# Get the 3D structure\n",
        "CSV files of PF00014 domains are based on two different queries.\n",
        "\n",
        "```\n",
        "( Identifier = \"PF00014\" AND Annotation Type = \"Pfam\" ) AND Data Collection Resolution < 3 AND Polymer Entity Sequence Length = [ 50 - 80 ] AND Polymer Entity Mutation Count < 10\n",
        "```\n",
        "and\n",
        "```\n",
        " ( Identifier = \"PF00014\" AND Annotation Type = \"Pfam\" ) AND Data Collection Resolution < 2 AND Polymer Entity Sequence Length = [ 50 - 80 ] AND Polymer Entity Mutation Count < 2\n",
        " ```\n",
        " the difference are the `Resolution(3Å vs 2Å)`, `Polymer Entity Mutation Count(10 vs 2)` and at the end `grouping the polymer entities with different sequence identity(100% vs 50%)`.\n",
        "\n",
        " The stricter criteria, with a resolution of 2Å, a mutation count of less than 2, and a sequence identity of 100%, may lead to a smaller sample size but potentially higher quality data, while the less strict criteria, with a resolution of 3Å, a mutation count of less than 10, and a sequence identity of 50%, could yield a larger sample size but with a risk of including lower quality data. With the stricter rules, we have obtained 14 samples, whereas with the less strict rule, we have collected 28 samples. Additionally, we aim to assess which set of criteria—either the more stringent or the less restrictive—ultimately yields superior results in terms of sample quality and relevance to our research objectives."
      ],
      "metadata": {
        "id": "xvIignZ9RR3f"
      }
    },
    {
      "cell_type": "markdown",
      "source": [
        "Now we can download the tabular CSV files which contain `Entity ID`, `Sequence`, `Auth Asym ID`"
      ],
      "metadata": {
        "id": "Xya4qG2nZlix"
      }
    },
    {
      "cell_type": "code",
      "source": [
        "!wget -O strict_seq.csv \"https://github.com/heispv/bioinformatics/raw/master/lab-of-bioinformatics/project_files/strict.csv\"\n",
        "!wget -O not_strict_seq.csv \"https://github.com/heispv/bioinformatics/raw/master/lab-of-bioinformatics/project_files/not_strict.csv\""
      ],
      "metadata": {
        "id": "NWtEkVIDpPuB"
      },
      "execution_count": null,
      "outputs": []
    },
    {
      "cell_type": "markdown",
      "metadata": {
        "id": "_8uMuFACnusb"
      },
      "source": [
        "# Clean csv file"
      ]
    },
    {
      "cell_type": "code",
      "execution_count": 107,
      "metadata": {
        "id": "jiGaKijcO9Ry"
      },
      "outputs": [],
      "source": [
        "def clean_csv_file(path: str, output_file_name: str, string_or_file: str = 'f', save_format: str = 'f') -> str or None:\n",
        "    \"\"\"\n",
        "    Reads and cleans a CSV file, providing options to return the cleaned data as a string or save it into a file.\n",
        "\n",
        "    Parameters:\n",
        "        path (str): The path to the CSV file to be cleaned.\n",
        "        output_file_name (str): The name of the output file. Defaults to \"output_seq\".\n",
        "        string_or_file (str): Determines whether to return the cleaned data as a string ('s') or save it into a file ('f'). Defaults to 'f'.\n",
        "        save_format (str): Determines the format for saving the data into a file. For keys ('k') or Fasta format ('f'). Defaults to 'f'.\n",
        "\n",
        "    Returns:\n",
        "        str or None: If the user chooses to get the results as a variable ('s'),\n",
        "        the cleaned data is returned as a string. If the user chooses to save the\n",
        "        results into a file ('f'), the cleaned data is saved into a file.\n",
        "    \"\"\"\n",
        "    print('-' * 40)\n",
        "    print(f'Reading CSV file from {path}...')\n",
        "    df = pd.read_csv(path)\n",
        "    print(f'Initial number of records: {len(df)}')\n",
        "    print('-' * 40)\n",
        "\n",
        "    # Drop rows with missing 'Entity ID' and update 'Entity ID' format\n",
        "    df = df.dropna(subset=['Entity ID'])\n",
        "    print(f'Number of records after dropping missing Entity ID: {len(df)}')\n",
        "    df['Entity ID'] = df['Entity ID'].str.split('_').str[0] + ':' + df['Auth Asym ID']\n",
        "    df = df.drop(columns=['Auth Asym ID'])\n",
        "    df = df.reset_index(drop=True)\n",
        "\n",
        "    # Option to return the cleaned data as a string\n",
        "    if string_or_file == 's':\n",
        "        cleaned_data = '\\n'.join(df['Entity ID'].values)\n",
        "        print('-' * 40)\n",
        "        print('Returning cleaned data as a string.')\n",
        "        return cleaned_data\n",
        "\n",
        "    # Option to save the cleaned data to a file\n",
        "    elif string_or_file == 'f':\n",
        "        if save_format == 'f':\n",
        "            output_path = output_file_name + '.fasta'\n",
        "            with open(output_path, 'w') as file:\n",
        "                for idx, row in df.iterrows():\n",
        "                    file.write(f\"> {row['Entity ID']}\\n{row['Sequence']}\\n\")\n",
        "            print(f'Data saved to {output_path}')\n",
        "        elif save_format == 'k':\n",
        "            output_path = output_file_name + '.txt'\n",
        "            with open(output_path, 'w') as f:\n",
        "                f.write('\\n'.join(df['Entity ID'].values))\n",
        "            print(f'Data saved to {output_path}')\n",
        "        print('-' * 40)\n",
        "        return None\n"
      ]
    },
    {
      "cell_type": "markdown",
      "source": [
        "Clean the `strict_seq.csv` file."
      ],
      "metadata": {
        "id": "TZEU8HZvJ1ic"
      }
    },
    {
      "cell_type": "code",
      "execution_count": 108,
      "metadata": {
        "colab": {
          "base_uri": "https://localhost:8080/"
        },
        "id": "aGiuiX3TPBpD",
        "outputId": "689502ba-7923-4250-e65c-1768e3a50017"
      },
      "outputs": [
        {
          "output_type": "stream",
          "name": "stdout",
          "text": [
            "----------------------------------------\n",
            "Reading CSV file from strict_seq.csv...\n",
            "Initial number of records: 30\n",
            "----------------------------------------\n",
            "Number of records after dropping missing Entity ID: 15\n",
            "Data saved to strict_seqs.fasta\n",
            "----------------------------------------\n"
          ]
        }
      ],
      "source": [
        "clean_csv_file(\n",
        "    path='strict_seq.csv',\n",
        "    output_file_name='strict_seqs',\n",
        "    string_or_file='f',\n",
        "    save_format='f'\n",
        "    )"
      ]
    },
    {
      "cell_type": "markdown",
      "source": [
        "Clean the `not_strict_seq.csv` file."
      ],
      "metadata": {
        "id": "pETqklvrKGAc"
      }
    },
    {
      "cell_type": "code",
      "source": [
        "clean_csv_file(\n",
        "    path='not_strict_seq.csv',\n",
        "    output_file_name='not_strict_seqs',\n",
        "    string_or_file='f',\n",
        "    save_format='f'\n",
        "    )"
      ],
      "metadata": {
        "colab": {
          "base_uri": "https://localhost:8080/"
        },
        "id": "NDvXKTaErmsF",
        "outputId": "5317a3ad-4c10-40f0-e24b-c7e3809a20bc"
      },
      "execution_count": 109,
      "outputs": [
        {
          "output_type": "stream",
          "name": "stdout",
          "text": [
            "----------------------------------------\n",
            "Reading CSV file from not_strict_seq.csv...\n",
            "Initial number of records: 49\n",
            "----------------------------------------\n",
            "Number of records after dropping missing Entity ID: 28\n",
            "Data saved to not_strict_seqs.fasta\n",
            "----------------------------------------\n"
          ]
        }
      ]
    },
    {
      "cell_type": "markdown",
      "source": [
        "Check the data format."
      ],
      "metadata": {
        "id": "seqiH0ryKMNM"
      }
    },
    {
      "cell_type": "code",
      "execution_count": 110,
      "metadata": {
        "id": "HeHArpBRV69-",
        "colab": {
          "base_uri": "https://localhost:8080/"
        },
        "outputId": "acfd7253-6ba2-4b02-acd5-ec194c8dddf7"
      },
      "outputs": [
        {
          "output_type": "stream",
          "name": "stdout",
          "text": [
            "> 1AAP:A\n",
            "VREVCSEQAETGPCRAMISRWYFDVTEGKCAPFFYGGCGGNRNNFDTEEYCMAVCGSA\n",
            "> 1KTH:A\n",
            "ETDICKLPKDEGTCRDFILKWYYDPNTKSCARFWYGGCGGNENKFGSQKECEKVCAPV\n",
            "> 1ZR0:B\n",
            "PTGNNAEICLLPLDYGPCRALLLRYYYDRYTQSCRQFLYGGCEGNANNFYTWEACDDACWRIE\n",
            "> 3BYB:A\n",
            "KDRPDFCELPADTGPCRVRFPSFYYNPDEKKCLEFIYGGCEGNANNFITKEECESTCAA\n",
            "> 3M7Q:B\n",
            "EAEASICSEPKKVGRCKGYFPRFYFDSETGKCTPFIYGGCGGNGNNFETLHQCRAICRALG\n"
          ]
        }
      ],
      "source": [
        "!cat strict_seqs.fasta | head -n 10"
      ]
    },
    {
      "cell_type": "markdown",
      "source": [
        "We can use the same function which we used to clean the csv file, to only extract the ids of the sequences. These ids are going to be used as input files in the `PDBeFold` website to get `Multiple Seqence Alignment(MSA)` based on `Multiple Structure Alignemt`."
      ],
      "metadata": {
        "id": "d1Neq1LVtnjB"
      }
    },
    {
      "cell_type": "code",
      "source": [
        "# Get sequence ids as .txt file for the PDBeFold input\n",
        "clean_csv_file(\n",
        "    path='strict_seq.csv',\n",
        "    output_file_name='strict_ids',\n",
        "    string_or_file='f',\n",
        "    save_format='k'\n",
        "    )"
      ],
      "metadata": {
        "colab": {
          "base_uri": "https://localhost:8080/"
        },
        "id": "Chk8dXA7svwC",
        "outputId": "0b46739d-c785-40e1-eb76-633b8c335736"
      },
      "execution_count": 111,
      "outputs": [
        {
          "output_type": "stream",
          "name": "stdout",
          "text": [
            "----------------------------------------\n",
            "Reading CSV file from strict_seq.csv...\n",
            "Initial number of records: 30\n",
            "----------------------------------------\n",
            "Number of records after dropping missing Entity ID: 15\n",
            "Data saved to strict_ids.txt\n",
            "----------------------------------------\n"
          ]
        }
      ]
    },
    {
      "cell_type": "code",
      "source": [
        "# Get sequence ids as .txt file for the PDBeFold input\n",
        "clean_csv_file(\n",
        "    path='not_strict_seq.csv',\n",
        "    output_file_name='not_strict_ids',\n",
        "    string_or_file='f',\n",
        "    save_format='k'\n",
        "    )"
      ],
      "metadata": {
        "colab": {
          "base_uri": "https://localhost:8080/"
        },
        "id": "whvLS6YetVPS",
        "outputId": "aa360425-770e-4c9d-adba-193a59b9ac8e"
      },
      "execution_count": 112,
      "outputs": [
        {
          "output_type": "stream",
          "name": "stdout",
          "text": [
            "----------------------------------------\n",
            "Reading CSV file from not_strict_seq.csv...\n",
            "Initial number of records: 49\n",
            "----------------------------------------\n",
            "Number of records after dropping missing Entity ID: 28\n",
            "Data saved to not_strict_ids.txt\n",
            "----------------------------------------\n"
          ]
        }
      ]
    },
    {
      "cell_type": "markdown",
      "source": [
        "Files `strict_ids.txt` and `not_strict_ids.txt` are uploaded into the [PDBeFold](https://www.ebi.ac.uk/msd-srv/ssm/cgi-bin/ssmserver) and the results are saved in my Github repository."
      ],
      "metadata": {
        "id": "MKrKf9nqt8fi"
      }
    },
    {
      "cell_type": "code",
      "source": [
        "!rm not_strict_seq.csv strict_seq.csv"
      ],
      "metadata": {
        "id": "KozmCTcRr7i_"
      },
      "execution_count": 113,
      "outputs": []
    },
    {
      "cell_type": "markdown",
      "metadata": {
        "id": "p171a3jTnzjb"
      },
      "source": [
        "# Get MSA\n",
        "As mentioned we can download the PDBeFold results from my Github repo."
      ]
    },
    {
      "cell_type": "code",
      "execution_count": null,
      "metadata": {
        "id": "aQ6OxMmjgppZ",
        "collapsed": true
      },
      "outputs": [],
      "source": [
        "# Getting the multiple sequence alignment from github repo\n",
        "!wget -O strict_msa.txt \"https://github.com/heispv/bioinformatics/raw/master/lab-of-bioinformatics/project_files/strict_msa.txt\""
      ]
    },
    {
      "cell_type": "code",
      "source": [
        "!wget -O not_strict_msa.txt \"https://github.com/heispv/bioinformatics/raw/master/lab-of-bioinformatics/project_files/not_strict_msa.txt\""
      ],
      "metadata": {
        "collapsed": true,
        "id": "ytZUSAr8wn_o"
      },
      "execution_count": null,
      "outputs": []
    },
    {
      "cell_type": "code",
      "source": [
        "!rm strict_ids.txt not_strict_ids.txt"
      ],
      "metadata": {
        "id": "GN6awguTz5yq"
      },
      "execution_count": 116,
      "outputs": []
    },
    {
      "cell_type": "markdown",
      "metadata": {
        "id": "HDphtcV1n3c8"
      },
      "source": [
        "# Build HMM based on the raw MSA\n",
        "Because we selected two approaches to select our data, we should create two different HMMs based on each dataset."
      ]
    },
    {
      "cell_type": "code",
      "execution_count": 117,
      "metadata": {
        "id": "I2fV858OjkKf",
        "collapsed": true,
        "colab": {
          "base_uri": "https://localhost:8080/"
        },
        "outputId": "ac8f6438-7181-4202-9e71-b971d47a0e1b"
      },
      "outputs": [
        {
          "output_type": "stream",
          "name": "stdout",
          "text": [
            "# hmmbuild :: profile HMM construction from multiple sequence alignments\n",
            "# HMMER 3.3.2 (Nov 2020); http://hmmer.org/\n",
            "# Copyright (C) 2020 Howard Hughes Medical Institute.\n",
            "# Freely distributed under the BSD open source license.\n",
            "# - - - - - - - - - - - - - - - - - - - - - - - - - - - - - - - - - - - -\n",
            "# input alignment file:             strict_msa.txt\n",
            "# output HMM file:                  strict_msa_not_clean.hmm\n",
            "# - - - - - - - - - - - - - - - - - - - - - - - - - - - - - - - - - - - -\n",
            "\n",
            "# idx name                  nseq  alen  mlen eff_nseq re/pos description\n",
            "#---- -------------------- ----- ----- ----- -------- ------ -----------\n",
            "1     strict_msa              15    63    57     2.35  0.976 \n",
            "\n",
            "# CPU time: 0.05u 0.00s 00:00:00.05 Elapsed: 00:00:00.07\n"
          ]
        }
      ],
      "source": [
        "# Create an HMM model based on the strict_msa.txt file\n",
        "!hmmbuild strict_msa_not_clean.hmm strict_msa.txt"
      ]
    },
    {
      "cell_type": "code",
      "source": [
        "# Create an HMM model based on the not_strict_msa.txt file\n",
        "!hmmbuild not_strict_msa_not_clean.hmm not_strict_msa.txt"
      ],
      "metadata": {
        "collapsed": true,
        "id": "fW3sc21hxLFK",
        "colab": {
          "base_uri": "https://localhost:8080/"
        },
        "outputId": "5bf8d6fc-4373-455e-b8b5-631fc84a4b2b"
      },
      "execution_count": 118,
      "outputs": [
        {
          "output_type": "stream",
          "name": "stdout",
          "text": [
            "# hmmbuild :: profile HMM construction from multiple sequence alignments\n",
            "# HMMER 3.3.2 (Nov 2020); http://hmmer.org/\n",
            "# Copyright (C) 2020 Howard Hughes Medical Institute.\n",
            "# Freely distributed under the BSD open source license.\n",
            "# - - - - - - - - - - - - - - - - - - - - - - - - - - - - - - - - - - - -\n",
            "# input alignment file:             not_strict_msa.txt\n",
            "# output HMM file:                  not_strict_msa_not_clean.hmm\n",
            "# - - - - - - - - - - - - - - - - - - - - - - - - - - - - - - - - - - - -\n",
            "\n",
            "# idx name                  nseq  alen  mlen eff_nseq re/pos description\n",
            "#---- -------------------- ----- ----- ----- -------- ------ -----------\n",
            "1     not_strict_msa          28    80    59     3.28  0.945 \n",
            "\n",
            "# CPU time: 0.05u 0.00s 00:00:00.05 Elapsed: 00:00:00.07\n"
          ]
        }
      ]
    },
    {
      "cell_type": "code",
      "execution_count": 119,
      "metadata": {
        "id": "hbLbFy9Gk0r6",
        "colab": {
          "base_uri": "https://localhost:8080/"
        },
        "outputId": "c4d37990-cc0e-46db-93b2-7fd12f244061"
      },
      "outputs": [
        {
          "output_type": "stream",
          "name": "stdout",
          "text": [
            "HMMER3/f [3.3.2 | Nov 2020]\n",
            "NAME  strict_msa\n",
            "LENG  57\n",
            "ALPH  amino\n",
            "RF    no\n",
            "MM    no\n",
            "CONS  yes\n",
            "CS    no\n",
            "MAP   yes\n",
            "DATE  Sun May 19 16:16:10 2024\n",
            "NSEQ  15\n",
            "EFFN  2.354736\n",
            "CKSUM 1225978556\n",
            "STATS LOCAL MSV       -8.8676  0.71902\n",
            "STATS LOCAL VITERBI   -9.0620  0.71902\n",
            "STATS LOCAL FORWARD   -4.0485  0.71902\n",
            "HMM          A        C        D        E        F        G        H        I        K        L        M        N        P        Q        R        S        T        V        W        Y   \n",
            "            m->m     m->i     m->d     i->m     i->i     d->m     d->d\n",
            "  COMPO   2.60263  2.73612  3.07114  2.69296  2.83763  2.63193  3.88604  3.41319  2.66892  3.03622  4.07894  2.70680  3.44272  3.07560  2.87241  2.77771  2.91062  3.13755  4.62504  2.85507\n",
            "          2.68622  4.42249  2.77475  2.73061  3.46378  2.40519  3.72518  3.29307  2.67748  2.69379  4.24714  2.90341  2.73739  3.18170  2.89777  2.37911  2.77518  2.98542  4.58501  3.61527\n",
            "          0.72401  0.99536  1.92687  0.72737  0.66006  0.00000        *\n",
            "      1   2.79049  5.22316  3.04887  2.12469  4.55881  3.55397  3.72323  4.01726  2.19577  3.51194  4.27356  2.66965  2.92656  2.83034  1.74342  2.76327  3.01677  3.12779  5.65072  4.27566      5 r - - -\n"
          ]
        }
      ],
      "source": [
        "!cat strict_msa_not_clean.hmm | head -n 22"
      ]
    },
    {
      "cell_type": "code",
      "source": [
        "!cat not_strict_msa_not_clean.hmm | head -n 22"
      ],
      "metadata": {
        "colab": {
          "base_uri": "https://localhost:8080/"
        },
        "id": "w2JGZL3axfmS",
        "outputId": "2e53fb32-04e0-4c54-d37f-9de8505de50c"
      },
      "execution_count": 120,
      "outputs": [
        {
          "output_type": "stream",
          "name": "stdout",
          "text": [
            "HMMER3/f [3.3.2 | Nov 2020]\n",
            "NAME  not_strict_msa\n",
            "LENG  59\n",
            "ALPH  amino\n",
            "RF    no\n",
            "MM    no\n",
            "CONS  yes\n",
            "CS    no\n",
            "MAP   yes\n",
            "DATE  Sun May 19 16:16:10 2024\n",
            "NSEQ  28\n",
            "EFFN  3.284668\n",
            "CKSUM 1929399890\n",
            "STATS LOCAL MSV       -8.9836  0.71896\n",
            "STATS LOCAL VITERBI   -9.1716  0.71896\n",
            "STATS LOCAL FORWARD   -4.2058  0.71896\n",
            "HMM          A        C        D        E        F        G        H        I        K        L        M        N        P        Q        R        S        T        V        W        Y   \n",
            "            m->m     m->i     m->d     i->m     i->i     d->m     d->d\n",
            "  COMPO   2.66045  2.92817  3.06444  2.66755  2.75405  2.64152  3.84570  3.40036  2.59333  3.03034  4.07046  2.68786  3.42610  3.06466  2.78686  2.80020  2.93294  3.20393  4.59062  2.86329\n",
            "          2.68661  4.42268  2.77530  2.73007  3.46397  2.40541  3.72365  3.29271  2.67756  2.69368  4.24660  2.90390  2.73730  3.18114  2.89805  2.37919  2.77491  2.98562  4.58371  3.61546\n",
            "          1.18984  1.11301  1.00195  1.14078  0.38503  0.00000        *\n",
            "      1   2.54629  5.21851  2.35429  2.29839  4.55912  3.48998  3.67937  4.04122  2.16020  3.16993  4.26098  2.68158  3.23191  2.24746  2.44821  2.68367  2.95102  3.60688  5.65277  4.24542     20 k - - -\n"
          ]
        }
      ]
    },
    {
      "cell_type": "markdown",
      "metadata": {
        "id": "2teyVJNOljwu"
      },
      "source": [
        "Based on the files above, we can observe that the `hmmbuild` command, applied to the `strict_msa.txt` file, cuts the first `5` characters in the sequence while when using the `not_strict_msa.txt` it cuts the first `20` character. This action is taken because there are not enough amino acids to build the Hidden Markov Model (HMM) for that part of the sequence. Therefore, we will trim each sequence and then reapply the `hmmbuild` command."
      ]
    },
    {
      "cell_type": "markdown",
      "metadata": {
        "id": "_tV4yFT9n9Gb"
      },
      "source": [
        "# Clean raw MSA"
      ]
    },
    {
      "cell_type": "code",
      "execution_count": 121,
      "metadata": {
        "id": "3jwmyr4ShxgI"
      },
      "outputs": [],
      "source": [
        "def clean_msa(path: str, first_clipping_num: int, output_file_name: str) -> None:\n",
        "    \"\"\"\n",
        "    Clean MSA file by removing specified number of characters from the beginning of each sequence.\n",
        "\n",
        "    Args:\n",
        "        path (str): Path to the input MSA file.\n",
        "        first_clipping_num (int): Number of characters to remove from the beginning of each sequence.\n",
        "        output_file_name (str): Name of the output file.\n",
        "\n",
        "    Returns:\n",
        "        None\n",
        "\n",
        "    This function reads a MSA file, extracts the sequence IDs and sequences, removes the specified\n",
        "    number of characters from the beginning of each sequence, and writes the cleaned sequences to a new file.\n",
        "    \"\"\"\n",
        "    print('-' * 40)\n",
        "    print(f'Reading MSA file from {path}...')\n",
        "    with open(path) as f:\n",
        "        fastas = f.read().strip().split('\\n\\n')\n",
        "    print(f'Number of sequences found: {len(fastas)}')\n",
        "    print('-' * 40)\n",
        "\n",
        "    clean_list = []\n",
        "    for fasta in fastas:\n",
        "        id = fasta.split()[0]\n",
        "        sequence = ''.join(fasta.split('\\n')[1:])\n",
        "        clean_list.append((id, sequence))\n",
        "\n",
        "    print(f'Removing the first {first_clipping_num} characters from each sequence...')\n",
        "    with open(output_file_name + '.txt', 'w') as f:\n",
        "        for item in clean_list:\n",
        "            f.write(f\"{item[0]}\\n{item[1][first_clipping_num:]}\\n\")\n",
        "    print('-' * 40)\n",
        "\n",
        "    print(f'Output saved in {output_file_name}.txt')\n",
        "    print('-' * 40)\n"
      ]
    },
    {
      "cell_type": "code",
      "execution_count": 122,
      "metadata": {
        "id": "zIxZVxctiuub",
        "colab": {
          "base_uri": "https://localhost:8080/"
        },
        "outputId": "0f55dd64-b5f3-4fe8-d8f9-cce0b4b06819"
      },
      "outputs": [
        {
          "output_type": "stream",
          "name": "stdout",
          "text": [
            "----------------------------------------\n",
            "Reading MSA file from strict_msa.txt...\n",
            "Number of sequences found: 15\n",
            "----------------------------------------\n",
            "Removing the first 5 characters from each sequence...\n",
            "----------------------------------------\n",
            "Output saved in clean_strict_msa.txt\n",
            "----------------------------------------\n"
          ]
        }
      ],
      "source": [
        "# Clean the MSA of the strict dataset\n",
        "clean_msa(\n",
        "    path='strict_msa.txt',\n",
        "    first_clipping_num=5,\n",
        "    output_file_name='clean_strict_msa'\n",
        "    )"
      ]
    },
    {
      "cell_type": "code",
      "source": [
        "# Clean the MSA of the not strict dataset\n",
        "clean_msa(\n",
        "    path='not_strict_msa.txt',\n",
        "    first_clipping_num=20,\n",
        "    output_file_name='clean_not_strict_msa'\n",
        "    )"
      ],
      "metadata": {
        "colab": {
          "base_uri": "https://localhost:8080/"
        },
        "id": "82626ISayc_y",
        "outputId": "f6f6a67b-d5b5-4582-be2c-7937e71d721a"
      },
      "execution_count": 123,
      "outputs": [
        {
          "output_type": "stream",
          "name": "stdout",
          "text": [
            "----------------------------------------\n",
            "Reading MSA file from not_strict_msa.txt...\n",
            "Number of sequences found: 28\n",
            "----------------------------------------\n",
            "Removing the first 20 characters from each sequence...\n",
            "----------------------------------------\n",
            "Output saved in clean_not_strict_msa.txt\n",
            "----------------------------------------\n"
          ]
        }
      ]
    },
    {
      "cell_type": "code",
      "execution_count": 124,
      "metadata": {
        "id": "HbO7jn3njnD-",
        "colab": {
          "base_uri": "https://localhost:8080/"
        },
        "outputId": "0dc575c1-a3e1-4f0a-ae1c-f9e64a23b0c1"
      },
      "outputs": [
        {
          "output_type": "stream",
          "name": "stdout",
          "text": [
            ">PDB:1aap:A\n",
            "revcseqaetgpcrAMISRWYFDVTEGKCAPFFYGGCGGNRNNFDTEEYCMAVCg---\n",
            ">PDB:1kth:A\n",
            "tdicklpkdegtcrDFILKWYYDPNTKSCARFWYGGCGGNENKFGSQKECEKVCapv-\n",
            ">PDB:1zr0:B\n",
            "aeicllpldygpcrALLLRYYYDRYTQSCRQFLYGGCEGNANNFYTWEACDDACwrie\n",
            ">PDB:3byb:A\n",
            "pdfcelpadtgpcrVRFPSFYYNPDEKKCLEFIYGGCEGNANNFITKEECESTCa---\n",
            ">PDB:3m7q:B\n",
            "asicsepkkvgrckGYFPRFYFDSETGKCTPFIYGGCGGNGNNFETLHQCRAICralg\n"
          ]
        }
      ],
      "source": [
        "# Check the strict_msa.tx file\n",
        "!cat clean_strict_msa.txt | head -n 10"
      ]
    },
    {
      "cell_type": "code",
      "execution_count": 125,
      "metadata": {
        "id": "EBfaMw91i8Ev",
        "colab": {
          "base_uri": "https://localhost:8080/"
        },
        "outputId": "8a87024d-c37f-474e-a54b-975d80a6364d"
      },
      "outputs": [
        {
          "output_type": "stream",
          "name": "stdout",
          "text": [
            ">PDB:1aap:A\n",
            "vrevcseqaetgpcrAMISRWYFDVTEGKCAPFFYGGcGG-NRNNFDTEEYCMAVCg---\n",
            ">PDB:1bun:B\n",
            "rhpdcdkppdtkicqTVVRAFYYKPSAKRCVQFRYGG-CNgNGNHFKSDHLCRCECleyr\n",
            ">PDB:1dtx:A\n",
            "rrklcilhrnpgrcyDKIPAFYYNQKKKQCERFDWSGcGG-NSNRFKTIEECRRTCig--\n",
            ">PDB:1fak:I\n",
            "apdfcleppydgpcrALHLRYFYNAKAGLCQTFYYGGcLA-KRNNFESAEDCMRTC----\n",
            ">PDB:1g6x:A\n",
            "rpdfcleppyagacrARIIRYFYNAKAGLCQTFVYGGcRA-KRNNFKSAEDCLRTCgga-\n"
          ]
        }
      ],
      "source": [
        "# Check the not_strict_msa.tx file\n",
        "!cat clean_not_strict_msa.txt | head -n 10"
      ]
    },
    {
      "cell_type": "code",
      "source": [
        "!rm not_strict_msa.txt not_strict_msa_not_clean.hmm strict_msa.txt strict_msa_not_clean.hmm"
      ],
      "metadata": {
        "id": "kya1I8aE42Uy"
      },
      "execution_count": 126,
      "outputs": []
    },
    {
      "cell_type": "markdown",
      "metadata": {
        "id": "HYFlGEFMoA87"
      },
      "source": [
        "# Build HMM based on clean MSA\n",
        "After cleaning the MSA using data from the initial HMM, we developed a new HMM based on this updated MSA. Examination of the new HMM confirms its success; it now correctly initiates from the first character of each sequence in the MSA. This indicates that our strategy of trimming the initial characters from each MSA sequence, as guided by the original HMM, was effective."
      ]
    },
    {
      "cell_type": "code",
      "execution_count": 127,
      "metadata": {
        "id": "2VXkmCYDndvf",
        "collapsed": true,
        "colab": {
          "base_uri": "https://localhost:8080/"
        },
        "outputId": "3b002e1f-1be7-499a-b872-0415b692d4da"
      },
      "outputs": [
        {
          "output_type": "stream",
          "name": "stdout",
          "text": [
            "# hmmbuild :: profile HMM construction from multiple sequence alignments\n",
            "# HMMER 3.3.2 (Nov 2020); http://hmmer.org/\n",
            "# Copyright (C) 2020 Howard Hughes Medical Institute.\n",
            "# Freely distributed under the BSD open source license.\n",
            "# - - - - - - - - - - - - - - - - - - - - - - - - - - - - - - - - - - - -\n",
            "# input alignment file:             clean_strict_msa.txt\n",
            "# output HMM file:                  strict_msa.hmm\n",
            "# - - - - - - - - - - - - - - - - - - - - - - - - - - - - - - - - - - - -\n",
            "\n",
            "# idx name                  nseq  alen  mlen eff_nseq re/pos description\n",
            "#---- -------------------- ----- ----- ----- -------- ------ -----------\n",
            "1     clean_strict_msa        15    58    56     2.38  0.994 \n",
            "\n",
            "# CPU time: 0.05u 0.00s 00:00:00.05 Elapsed: 00:00:00.06\n"
          ]
        }
      ],
      "source": [
        "# Create an HMM model based on the clean_strict_msa.txt file\n",
        "!hmmbuild strict_msa.hmm clean_strict_msa.txt"
      ]
    },
    {
      "cell_type": "code",
      "source": [
        "# Create an HMM model based on the clean_not_strict_msa.txt file\n",
        "!hmmbuild not_strict_msa.hmm clean_not_strict_msa.txt"
      ],
      "metadata": {
        "collapsed": true,
        "id": "57XIiA5P5Jpi",
        "colab": {
          "base_uri": "https://localhost:8080/"
        },
        "outputId": "ace329cb-adb4-4920-cb67-40abbd87133f"
      },
      "execution_count": 128,
      "outputs": [
        {
          "output_type": "stream",
          "name": "stdout",
          "text": [
            "# hmmbuild :: profile HMM construction from multiple sequence alignments\n",
            "# HMMER 3.3.2 (Nov 2020); http://hmmer.org/\n",
            "# Copyright (C) 2020 Howard Hughes Medical Institute.\n",
            "# Freely distributed under the BSD open source license.\n",
            "# - - - - - - - - - - - - - - - - - - - - - - - - - - - - - - - - - - - -\n",
            "# input alignment file:             clean_not_strict_msa.txt\n",
            "# output HMM file:                  not_strict_msa.hmm\n",
            "# - - - - - - - - - - - - - - - - - - - - - - - - - - - - - - - - - - - -\n",
            "\n",
            "# idx name                  nseq  alen  mlen eff_nseq re/pos description\n",
            "#---- -------------------- ----- ----- ----- -------- ------ -----------\n",
            "1     clean_not_strict_msa    28    60    58     3.31  0.961 \n",
            "\n",
            "# CPU time: 0.05u 0.00s 00:00:00.05 Elapsed: 00:00:00.06\n"
          ]
        }
      ]
    },
    {
      "cell_type": "code",
      "execution_count": 129,
      "metadata": {
        "id": "L4sSoDTPk8JF",
        "colab": {
          "base_uri": "https://localhost:8080/"
        },
        "outputId": "6ec01bfd-07d9-4be8-981f-44b95c6955ce"
      },
      "outputs": [
        {
          "output_type": "stream",
          "name": "stdout",
          "text": [
            "HMMER3/f [3.3.2 | Nov 2020]\n",
            "NAME  clean_strict_msa\n",
            "LENG  56\n",
            "ALPH  amino\n",
            "RF    no\n",
            "MM    no\n",
            "CONS  yes\n",
            "CS    no\n",
            "MAP   yes\n",
            "DATE  Sun May 19 16:16:11 2024\n",
            "NSEQ  15\n",
            "EFFN  2.384033\n",
            "CKSUM 2703071005\n",
            "STATS LOCAL MSV       -8.8221  0.71901\n",
            "STATS LOCAL VITERBI   -9.0502  0.71901\n",
            "STATS LOCAL FORWARD   -4.0496  0.71901\n",
            "HMM          A        C        D        E        F        G        H        I        K        L        M        N        P        Q        R        S        T        V        W        Y   \n",
            "            m->m     m->i     m->d     i->m     i->i     d->m     d->d\n",
            "  COMPO   2.59850  2.70859  3.07791  2.70650  2.81735  2.62294  3.89445  3.41061  2.67810  3.03829  4.07877  2.70340  3.46464  3.08028  2.90361  2.78551  2.91215  3.14231  4.61766  2.83458\n",
            "          2.68618  4.42225  2.77519  2.73123  3.46354  2.40513  3.72494  3.29354  2.67741  2.69355  4.24690  2.90347  2.73739  3.18146  2.89801  2.37887  2.77519  2.98518  4.58477  3.61503\n",
            "          0.10417  4.75186  2.40473  0.61958  0.77255  0.00000        *\n",
            "      1   1.96157  4.93359  3.22395  2.69275  4.27031  3.57957  3.07490  3.68556  2.64164  3.28965  4.10709  3.18837  1.77260  3.02513  2.74856  2.82675  2.66477  3.34745  5.52693  4.20723      1 p - - -\n"
          ]
        }
      ],
      "source": [
        "!cat strict_msa.hmm | head -n 22"
      ]
    },
    {
      "cell_type": "code",
      "source": [
        "!cat not_strict_msa.hmm | head -n 22"
      ],
      "metadata": {
        "colab": {
          "base_uri": "https://localhost:8080/"
        },
        "id": "a-LHcJsS5WQh",
        "outputId": "8851d574-481b-4b3b-9dc9-b8cf6015e7ff"
      },
      "execution_count": 130,
      "outputs": [
        {
          "output_type": "stream",
          "name": "stdout",
          "text": [
            "HMMER3/f [3.3.2 | Nov 2020]\n",
            "NAME  clean_not_strict_msa\n",
            "LENG  58\n",
            "ALPH  amino\n",
            "RF    no\n",
            "MM    no\n",
            "CONS  yes\n",
            "CS    no\n",
            "MAP   yes\n",
            "DATE  Sun May 19 16:16:11 2024\n",
            "NSEQ  28\n",
            "EFFN  3.312012\n",
            "CKSUM 1133647359\n",
            "STATS LOCAL MSV       -8.9546  0.71898\n",
            "STATS LOCAL VITERBI   -9.1394  0.71898\n",
            "STATS LOCAL FORWARD   -4.2119  0.71898\n",
            "HMM          A        C        D        E        F        G        H        I        K        L        M        N        P        Q        R        S        T        V        W        Y   \n",
            "            m->m     m->i     m->d     i->m     i->i     d->m     d->d\n",
            "  COMPO   2.66190  2.90256  3.08226  2.67195  2.73539  2.63859  3.85121  3.39815  2.59820  3.03714  4.06723  2.68399  3.44414  3.07780  2.78809  2.81204  2.93638  3.20605  4.58366  2.84542\n",
            "          2.68618  4.42225  2.77519  2.73123  3.46354  2.40513  3.72494  3.29354  2.67741  2.69355  4.24690  2.90347  2.73739  3.18146  2.89801  2.37887  2.77519  2.98518  4.58477  3.61503\n",
            "          0.12720  5.00516  2.18269  0.61958  0.77255  0.00000        *\n",
            "      1   2.70081  5.26156  3.12664  2.27441  4.57378  3.62725  3.81500  4.03441  2.33418  3.55118  3.35474  2.82205  2.76859  2.92409  1.67611  2.82092  2.67473  3.33076  5.71322  4.32722      1 r - - -\n"
          ]
        }
      ]
    },
    {
      "cell_type": "markdown",
      "metadata": {
        "id": "L1AhdpqJlU1r"
      },
      "source": [
        "* In these new files, we can observe that the probabilities start from the first amino acid (AA), indicating that no cutting is performed by the `hmmbuild` command itself."
      ]
    },
    {
      "cell_type": "markdown",
      "metadata": {
        "id": "pt_2QpJumlhS"
      },
      "source": [
        "# Get the negative and postive data from NCBI"
      ]
    },
    {
      "cell_type": "code",
      "source": [
        "# Works only on my own Drive\n",
        "# !cp /content/drive/MyDrive/lab_of_bioinformatics/negative.fasta /content/negative.fasta"
      ],
      "metadata": {
        "id": "4jMMYjaRjY0l"
      },
      "execution_count": 131,
      "outputs": []
    },
    {
      "cell_type": "markdown",
      "source": [
        "The negative dataset consists of all reviewed proteins that do not contain a Kunitz domain."
      ],
      "metadata": {
        "id": "1GNIe2GjNGlo"
      }
    },
    {
      "cell_type": "code",
      "execution_count": null,
      "metadata": {
        "id": "tk_KQIkVoLVm"
      },
      "outputs": [],
      "source": [
        "!wget -O negative.fasta.gz \"https://rest.uniprot.org/uniprotkb/stream?compressed=true&format=fasta&query=%28%28reviewed%3Atrue%29+NOT+%28xref%3Apfam-PF00014%29%29\"\n",
        "!zcat -f negative.fasta.gz > negative.fasta\n",
        "!rm negative.fasta.gz"
      ]
    },
    {
      "cell_type": "markdown",
      "source": [
        "For the positive dataset, we include all reviewed proteins that contain a Kunitz domain, encompassing both human and non-human proteins."
      ],
      "metadata": {
        "id": "pAxkCQgqNWIk"
      }
    },
    {
      "cell_type": "code",
      "execution_count": null,
      "metadata": {
        "id": "jA0KSmhMoTsP"
      },
      "outputs": [],
      "source": [
        "!wget -O bpti_reviewd.fasta.gz \"https://rest.uniprot.org/uniprotkb/stream?compressed=true&format=fasta&query=%28%28xref%3Apfam-PF00014%29+AND+%28reviewed%3Atrue%29%29\"\n",
        "!zcat bpti_reviewd.fasta.gz > bpti_reviewd.fasta\n",
        "!rm bpti_reviewd.fasta.gz"
      ]
    },
    {
      "cell_type": "code",
      "execution_count": 133,
      "metadata": {
        "id": "351B7ev0qary",
        "colab": {
          "base_uri": "https://localhost:8080/"
        },
        "collapsed": true,
        "outputId": "050b8431-408d-42c7-8be2-3bc30ed6a2c3"
      },
      "outputs": [
        {
          "output_type": "stream",
          "name": "stdout",
          "text": [
            "\n",
            "\n",
            "Building a new DB, current time: 05/19/2024 16:16:18\n",
            "New DB name:   /content/strict_seqs.fasta\n",
            "New DB title:  strict_seqs.fasta\n",
            "Sequence type: Protein\n",
            "Deleted existing Protein BLAST database named /content/strict_seqs.fasta\n",
            "Keep MBits: T\n",
            "Maximum file size: 1000000000B\n",
            "Adding sequences from FASTA; added 15 sequences in 0.00322294 seconds.\n",
            "\n",
            "\n",
            "\n",
            "\n",
            "Building a new DB, current time: 05/19/2024 16:16:19\n",
            "New DB name:   /content/not_strict_seqs.fasta\n",
            "New DB title:  not_strict_seqs.fasta\n",
            "Sequence type: Protein\n",
            "Deleted existing Protein BLAST database named /content/not_strict_seqs.fasta\n",
            "Keep MBits: T\n",
            "Maximum file size: 1000000000B\n",
            "Adding sequences from FASTA; added 28 sequences in 0.00168681 seconds.\n",
            "\n",
            "\n"
          ]
        }
      ],
      "source": [
        "# Make blast dataset for the strict_seqs.fasta and not_strict_seqs.fasta\n",
        "!makeblastdb -in strict_seqs.fasta -dbtype prot\n",
        "!makeblastdb -in not_strict_seqs.fasta -dbtype prot"
      ]
    },
    {
      "cell_type": "markdown",
      "source": [
        "# Run blastp to find the matches"
      ],
      "metadata": {
        "id": "QMBKr5ttSDkb"
      }
    },
    {
      "cell_type": "code",
      "source": [
        "!blastp -query bpti_reviewd.fasta -db strict_seqs.fasta -out strict_bpti.blast -outfmt 7"
      ],
      "metadata": {
        "id": "k9tqYagPO9mm"
      },
      "execution_count": 134,
      "outputs": []
    },
    {
      "cell_type": "code",
      "source": [
        "!blastp -query bpti_reviewd.fasta -db not_strict_seqs.fasta -out not_strict_bpti.blast -outfmt 7"
      ],
      "metadata": {
        "id": "u8G7MsxSQqA5"
      },
      "execution_count": 135,
      "outputs": []
    },
    {
      "cell_type": "code",
      "source": [
        "!cat strict_bpti.blast | head -n 10"
      ],
      "metadata": {
        "colab": {
          "base_uri": "https://localhost:8080/"
        },
        "id": "sbBwrzuWQzfN",
        "outputId": "d7e56145-a194-4754-986e-e3f3401c93de"
      },
      "execution_count": 136,
      "outputs": [
        {
          "output_type": "stream",
          "name": "stdout",
          "text": [
            "# BLASTP 2.12.0+\n",
            "# Query: sp|A0A1Z0YU59|MAMB1_DENAN Mambaquaretin-1 OS=Dendroaspis angusticeps OX=8618 PE=1 SV=2\n",
            "# Database: strict_seqs.fasta\n",
            "# Fields: query acc.ver, subject acc.ver, % identity, alignment length, mismatches, gap opens, q. start, q. end, s. start, s. end, evalue, bit score\n",
            "# 15 hits found\n",
            "sp|A0A1Z0YU59|MAMB1_DENAN\t5M4V:A\t94.737\t57\t3\t0\t1\t57\t1\t57\t1.42e-39\t113\n",
            "sp|A0A1Z0YU59|MAMB1_DENAN\t3BYB:A\t52.632\t57\t27\t0\t1\t57\t3\t59\t5.11e-21\t66.2\n",
            "sp|A0A1Z0YU59|MAMB1_DENAN\t4DTG:K\t43.636\t55\t31\t0\t1\t55\t3\t57\t6.55e-19\t61.2\n",
            "sp|A0A1Z0YU59|MAMB1_DENAN\t1ZR0:B\t45.283\t53\t29\t0\t3\t55\t7\t59\t3.89e-17\t56.6\n",
            "sp|A0A1Z0YU59|MAMB1_DENAN\t5PTI:A\t42.105\t57\t33\t0\t1\t57\t1\t57\t7.87e-16\t53.1\n"
          ]
        }
      ]
    },
    {
      "cell_type": "markdown",
      "source": [
        "The command below processes two BLAST result files, `strict_bpti.blast` and `not_strict_bpti.blast`. It filters out comment lines (those starting with the # character), and extracts entries with sequence identities exceeding 98% and 80%. The unique identifiers of these entries are then saved into four separate files: `strict_remove_98.ids`, `strict_remove_80.ids`, `not_strict_remove_98.ids`, and `not_strict_remove_80.ids`."
      ],
      "metadata": {
        "id": "-buKcNfgGmDf"
      }
    },
    {
      "cell_type": "code",
      "source": [
        "!grep -v \"^#\" strict_bpti.blast | awk '{if ($3 > 98) {print $0}}' | cut -f 1 | sort -u > strict_remove_98.ids\n",
        "!grep -v \"^#\" not_strict_bpti.blast | awk '{if ($3 > 98) {print $0}}' | cut -f 1 | sort -u > not_strict_remove_98.ids"
      ],
      "metadata": {
        "id": "DxqE2HOEF-of"
      },
      "execution_count": 137,
      "outputs": []
    },
    {
      "cell_type": "code",
      "source": [
        "!grep -v \"^#\" strict_bpti.blast | awk '{if ($3 > 80) {print $0}}' | cut -f 1 | sort -u > strict_remove_80.ids\n",
        "!grep -v \"^#\" not_strict_bpti.blast | awk '{if ($3 > 80) {print $0}}' | cut -f 1 | sort -u > not_strict_remove_80.ids"
      ],
      "metadata": {
        "id": "Qdn1Y5Zqmr4S"
      },
      "execution_count": 138,
      "outputs": []
    },
    {
      "cell_type": "markdown",
      "source": [
        "Lets check how many sequences are in each file."
      ],
      "metadata": {
        "id": "a5nXDeFFU181"
      }
    },
    {
      "cell_type": "code",
      "source": [
        "!cat strict_remove_98.ids | wc\n",
        "!cat not_strict_remove_98.ids | wc"
      ],
      "metadata": {
        "colab": {
          "base_uri": "https://localhost:8080/"
        },
        "id": "6s-1lVuvk4yO",
        "outputId": "bc659179-167d-4496-ec72-0c0d638e36a4"
      },
      "execution_count": 139,
      "outputs": [
        {
          "output_type": "stream",
          "name": "stdout",
          "text": [
            "     21      21     424\n",
            "     28      28     577\n"
          ]
        }
      ]
    },
    {
      "cell_type": "code",
      "source": [
        "!cat strict_remove_80.ids | wc\n",
        "!cat not_strict_remove_80.ids | wc"
      ],
      "metadata": {
        "colab": {
          "base_uri": "https://localhost:8080/"
        },
        "id": "PjRY9sLjm3ce",
        "outputId": "93c0ef4d-2e5f-46e1-aaf6-5ddc120e9009"
      },
      "execution_count": 140,
      "outputs": [
        {
          "output_type": "stream",
          "name": "stdout",
          "text": [
            "     63      63    1346\n",
            "     72      72    1542\n"
          ]
        }
      ]
    },
    {
      "cell_type": "markdown",
      "source": [
        "Based on the `strict_remove_98.ids`, `strict_remove_80.ids`, `not_strict_remove_98.ids`, and `not_strict_remove_80.ids` files, there are `21`, `28`, `63`, `72` sequences, respectively, that need to be removed from the main dataset."
      ],
      "metadata": {
        "id": "bnU7sqOTIFaI"
      }
    },
    {
      "cell_type": "code",
      "source": [
        "!cat strict_remove_80.ids | head -n 5"
      ],
      "metadata": {
        "id": "yfzPq6auG6pA",
        "colab": {
          "base_uri": "https://localhost:8080/"
        },
        "outputId": "ee9626a2-61be-41dc-d3f6-db58e7ff69e4"
      },
      "execution_count": 141,
      "outputs": [
        {
          "output_type": "stream",
          "name": "stdout",
          "text": [
            "sp|A0A1Z0YU59|MAMB1_DENAN\n",
            "sp|A0A3G2FQK2|3DPD_HETMG\n",
            "sp|A0A6B7FA07|VKT2J_HETCR\n",
            "sp|A0A6B7FBD3|VKT2I_HETCR\n",
            "sp|A0A6B7FEJ3|VKT2K_HETCR\n"
          ]
        }
      ]
    },
    {
      "cell_type": "markdown",
      "source": [
        "Now we should write a function to remove these sequences from the main file."
      ],
      "metadata": {
        "id": "xrHwK99fVCGb"
      }
    },
    {
      "cell_type": "code",
      "source": [
        "def filter_sequences(seq_file_path, ids_file_path, output_file_path):\n",
        "    \"\"\"\n",
        "    Filters sequences from a FASTA file based on a list of excluded sequence IDs and saves them in a file.\n",
        "\n",
        "    Parameters:\n",
        "    - seq_file_path (str): The file path to the input FASTA file containing sequences to filter.\n",
        "    - ids_file_path (str): The file path to the input file containing a list of sequence IDs to exclude.\n",
        "    - output_file_path (str): The file path to save the filtered sequences.\n",
        "\n",
        "    Returns:\n",
        "    - None\n",
        "    \"\"\"\n",
        "    print('-' * 40)\n",
        "    print(f'Reading excluded sequence IDs from {ids_file_path}...')\n",
        "    # Open the file containing excluded sequence IDs and create a set to store them\n",
        "    with open(ids_file_path, 'r') as f:\n",
        "        excluded_ids = [line.strip().split('|')[1] for line in f]\n",
        "    print(f'Number of excluded IDs: {len(excluded_ids)}')\n",
        "    print('-' * 40)\n",
        "\n",
        "    print(f'Reading sequences from {seq_file_path}...')\n",
        "    # Open the input FASTA file and extract sequences\n",
        "    with open(seq_file_path, 'r') as f:\n",
        "        content = f.read().strip()\n",
        "        sequences = content.split('>')[1:]\n",
        "    print(f'Number of sequences found: {len(sequences)}')\n",
        "    print('-' * 40)\n",
        "\n",
        "    print(f'Filtering sequences and writing to {output_file_path}...')\n",
        "    # Open the output file for writing filtered sequences\n",
        "    with open(output_file_path, 'w') as outfile:\n",
        "        filtered_count = 0\n",
        "        for sequence in sequences:\n",
        "            header = sequence.split('\\n', 1)[0]\n",
        "            seq_id = header.split('|')[1]\n",
        "\n",
        "            if seq_id not in excluded_ids:\n",
        "                outfile.write(f'>{sequence}\\n')\n",
        "                filtered_count += 1\n",
        "    print(f'Number of sequences written to output: {filtered_count}')\n",
        "    print('-' * 40)\n",
        "    print('Filtering process completed.')\n"
      ],
      "metadata": {
        "id": "5nKvR4QdIOGg"
      },
      "execution_count": 142,
      "outputs": []
    },
    {
      "cell_type": "code",
      "source": [
        "filter_sequences('bpti_reviewd.fasta', 'strict_remove_98.ids', 'strict_pos_98.fasta')"
      ],
      "metadata": {
        "id": "krKplA0-Ilkx",
        "colab": {
          "base_uri": "https://localhost:8080/"
        },
        "outputId": "48d81f9c-357f-49c9-ed5a-6c8f440ab670"
      },
      "execution_count": 143,
      "outputs": [
        {
          "output_type": "stream",
          "name": "stdout",
          "text": [
            "----------------------------------------\n",
            "Reading excluded sequence IDs from strict_remove_98.ids...\n",
            "Number of excluded IDs: 21\n",
            "----------------------------------------\n",
            "Reading sequences from bpti_reviewd.fasta...\n",
            "Number of sequences found: 391\n",
            "----------------------------------------\n",
            "Filtering sequences and writing to strict_pos_98.fasta...\n",
            "Number of sequences written to output: 370\n",
            "----------------------------------------\n",
            "Filtering process completed.\n"
          ]
        }
      ]
    },
    {
      "cell_type": "code",
      "source": [
        "filter_sequences('bpti_reviewd.fasta', 'strict_remove_80.ids', 'strict_pos_80.fasta')"
      ],
      "metadata": {
        "colab": {
          "base_uri": "https://localhost:8080/"
        },
        "id": "9ANFFekNtSvV",
        "outputId": "6c38a55a-f118-4d59-ef00-594c1ca180e0"
      },
      "execution_count": 144,
      "outputs": [
        {
          "output_type": "stream",
          "name": "stdout",
          "text": [
            "----------------------------------------\n",
            "Reading excluded sequence IDs from strict_remove_80.ids...\n",
            "Number of excluded IDs: 63\n",
            "----------------------------------------\n",
            "Reading sequences from bpti_reviewd.fasta...\n",
            "Number of sequences found: 391\n",
            "----------------------------------------\n",
            "Filtering sequences and writing to strict_pos_80.fasta...\n",
            "Number of sequences written to output: 328\n",
            "----------------------------------------\n",
            "Filtering process completed.\n"
          ]
        }
      ]
    },
    {
      "cell_type": "code",
      "source": [
        "filter_sequences('bpti_reviewd.fasta', 'not_strict_remove_98.ids', 'not_strict_pos_98.fasta')"
      ],
      "metadata": {
        "colab": {
          "base_uri": "https://localhost:8080/"
        },
        "id": "Ty45pujRtUM6",
        "outputId": "2957494b-cb52-481d-bd95-65fd612b750f"
      },
      "execution_count": 145,
      "outputs": [
        {
          "output_type": "stream",
          "name": "stdout",
          "text": [
            "----------------------------------------\n",
            "Reading excluded sequence IDs from not_strict_remove_98.ids...\n",
            "Number of excluded IDs: 28\n",
            "----------------------------------------\n",
            "Reading sequences from bpti_reviewd.fasta...\n",
            "Number of sequences found: 391\n",
            "----------------------------------------\n",
            "Filtering sequences and writing to not_strict_pos_98.fasta...\n",
            "Number of sequences written to output: 363\n",
            "----------------------------------------\n",
            "Filtering process completed.\n"
          ]
        }
      ]
    },
    {
      "cell_type": "code",
      "source": [
        "filter_sequences('bpti_reviewd.fasta', 'not_strict_remove_80.ids', 'not_strict_pos_80.fasta')"
      ],
      "metadata": {
        "colab": {
          "base_uri": "https://localhost:8080/"
        },
        "id": "UiuQNgHTtV28",
        "outputId": "8bceaea4-200e-4ba7-9b03-095f695e4092"
      },
      "execution_count": 146,
      "outputs": [
        {
          "output_type": "stream",
          "name": "stdout",
          "text": [
            "----------------------------------------\n",
            "Reading excluded sequence IDs from not_strict_remove_80.ids...\n",
            "Number of excluded IDs: 72\n",
            "----------------------------------------\n",
            "Reading sequences from bpti_reviewd.fasta...\n",
            "Number of sequences found: 391\n",
            "----------------------------------------\n",
            "Filtering sequences and writing to not_strict_pos_80.fasta...\n",
            "Number of sequences written to output: 319\n",
            "----------------------------------------\n",
            "Filtering process completed.\n"
          ]
        }
      ]
    },
    {
      "cell_type": "code",
      "source": [
        "!cat strict_pos_98.fasta | head -n 5"
      ],
      "metadata": {
        "colab": {
          "base_uri": "https://localhost:8080/"
        },
        "id": "uY5WK2y7k2vs",
        "outputId": "d40f74c1-db98-437e-a0be-a6558233a737"
      },
      "execution_count": 147,
      "outputs": [
        {
          "output_type": "stream",
          "name": "stdout",
          "text": [
            ">sp|A0A1Z0YU59|MAMB1_DENAN Mambaquaretin-1 OS=Dendroaspis angusticeps OX=8618 PE=1 SV=2\n",
            "RPSFCNLPVKPGPCNGFFSAFYYSQKTNKCHSFTYGGCKGNANRFSTIEKCRRTCVG\n",
            "\n",
            ">sp|B2G331|VKT2B_HETCR TauPI-stichotoxin-Hcr2b OS=Heteractis crispa OX=175771 PE=1 SV=1\n",
            "MKGTFLICLILIAGFSFKSTQAGSICLEPKVVGPCTAYFRRFYFDSETGKCTVFIYGGCE\n"
          ]
        }
      ]
    },
    {
      "cell_type": "markdown",
      "source": [
        "We want to have a simplified version of these fasta files..."
      ],
      "metadata": {
        "id": "x1gvYJw1k8Fb"
      }
    },
    {
      "cell_type": "code",
      "source": [
        "def simplify_fasta(file_path):\n",
        "    # Read the input file\n",
        "    with open(file_path, 'r') as f:\n",
        "        data = f.read()\n",
        "\n",
        "    simplified = []\n",
        "    entries = [entry for entry in data.split('>sp') if entry.strip()]\n",
        "\n",
        "    for entry in entries:\n",
        "        lines = entry.split('\\n')\n",
        "        # Check if '|' is in the first line and if not, handle gracefully\n",
        "        identifier = lines[0].split('|')[1] if '|' in lines[0] else lines[0]\n",
        "\n",
        "        # Join all lines except the first to get the sequence, and remove new lines\n",
        "        sequence = ''.join(lines[1:]).replace('\\n', '')\n",
        "        simplified_entry = f'>{identifier}\\n{sequence}'\n",
        "        simplified.append(simplified_entry)\n",
        "\n",
        "    # Create the output content\n",
        "    output_content = '\\n\\n'.join(simplified)\n",
        "\n",
        "    # Create the output file name\n",
        "    output_file_path = file_path.rsplit('.', 1)[0] + '_simple.' + file_path.rsplit('.', 1)[1]\n",
        "\n",
        "    # Write the simplified content to the new file\n",
        "    with open(output_file_path, 'w') as output_file:\n",
        "        output_file.write(output_content)\n",
        "\n",
        "    print(f'File saved as {output_file_path}')\n",
        "    return output_file_path  # Return the output file path"
      ],
      "metadata": {
        "id": "zwZZ8HD0k7sc"
      },
      "execution_count": 148,
      "outputs": []
    },
    {
      "cell_type": "code",
      "source": [
        "simplify_fasta(\"strict_pos_80.fasta\")"
      ],
      "metadata": {
        "colab": {
          "base_uri": "https://localhost:8080/",
          "height": 53
        },
        "id": "7aaMFkHAlLBM",
        "outputId": "05c7877c-9405-4be5-948f-7dfe72c98ab7"
      },
      "execution_count": 149,
      "outputs": [
        {
          "output_type": "stream",
          "name": "stdout",
          "text": [
            "File saved as strict_pos_80_simple.fasta\n"
          ]
        },
        {
          "output_type": "execute_result",
          "data": {
            "text/plain": [
              "'strict_pos_80_simple.fasta'"
            ],
            "application/vnd.google.colaboratory.intrinsic+json": {
              "type": "string"
            }
          },
          "metadata": {},
          "execution_count": 149
        }
      ]
    },
    {
      "cell_type": "code",
      "source": [
        "def shuffle_fasta(data):\n",
        "    import random\n",
        "    # Split the data into entries using a marker that identifies new entries starting with '>'\n",
        "    # This time, we split directly on the '>' and preserve it in the next step\n",
        "    entries = data.strip().split('\\n>')\n",
        "\n",
        "    # Attach '>' back to each entry except the first one if it was removed\n",
        "    entries = [entry if entry.startswith('>') else '>' + entry for entry in entries]\n",
        "\n",
        "    # Shuffle the entries list randomly\n",
        "    random.shuffle(entries)\n",
        "\n",
        "    # Join all shuffled entries with a single newline between them, after ensuring each ends cleanly\n",
        "    return '\\n\\n'.join(entry.strip() for entry in entries)"
      ],
      "metadata": {
        "id": "ywwZRwB9nAp8"
      },
      "execution_count": 150,
      "outputs": []
    },
    {
      "cell_type": "code",
      "source": [
        "def process_fasta_files(positive_path, negative_path, training_portion):\n",
        "    # Simplify the data\n",
        "    print('-' * 40)\n",
        "    print(f'Simplifying the data for {positive_path} ...')\n",
        "    positive_simplified_path = simplify_fasta(positive_path)\n",
        "    print(f'Simplifying the data for {negative_path} ...')\n",
        "    negative_simplified_path = simplify_fasta(negative_path)\n",
        "    print('-' * 40)\n",
        "\n",
        "    # Read the simplified content\n",
        "    print(f'Reading simplified data from {positive_simplified_path} ...')\n",
        "    with open(positive_simplified_path, 'r') as file:\n",
        "        simplified_positive = file.read()\n",
        "    print(f'Reading simplified data from {negative_simplified_path} ...')\n",
        "    with open(negative_simplified_path, 'r') as file:\n",
        "        simplified_negative = file.read()\n",
        "    print('-' * 40)\n",
        "\n",
        "    # Shuffle the data\n",
        "    print('Shuffling the positive sequences ...')\n",
        "    shuffled_positive = shuffle_fasta(simplified_positive)\n",
        "    print('Shuffling the negative sequences ...')\n",
        "    shuffled_negative = shuffle_fasta(simplified_negative)\n",
        "    print('-' * 40)\n",
        "\n",
        "    # Split the data into entries\n",
        "    pos_entries = shuffled_positive.split('\\n\\n')\n",
        "    neg_entries = shuffled_negative.split('\\n\\n')\n",
        "\n",
        "    print(f'Number of positive sequences: {len(pos_entries)}')\n",
        "    print(f'Number of negative sequences: {len(neg_entries)}')\n",
        "    print('-' * 40)\n",
        "\n",
        "    # Determine the index for splitting based on the training_portion\n",
        "    split_index_pos = int(len(pos_entries) * training_portion)\n",
        "    split_index_neg = int(len(neg_entries) * training_portion)\n",
        "\n",
        "    print(f'Training portion: {training_portion * 100}%')\n",
        "    print(f'Number of positive sequences in training set: {split_index_pos}')\n",
        "    print(f'Number of positive sequences in test set: {len(pos_entries) - split_index_pos}')\n",
        "    print(f'Number of negative sequences in training set: {split_index_neg}')\n",
        "    print(f'Number of negative sequences in test set: {len(neg_entries) - split_index_neg}')\n",
        "    print('-' * 40)\n",
        "\n",
        "    # Create training and testing datasets\n",
        "    pos_train_data = pos_entries[:split_index_pos]\n",
        "    pos_test_data = pos_entries[split_index_pos:]\n",
        "    neg_train_data = neg_entries[:split_index_neg]\n",
        "    neg_test_data = neg_entries[split_index_neg:]\n",
        "\n",
        "    # Shuffle the datasets\n",
        "    random.shuffle(pos_train_data)\n",
        "    random.shuffle(pos_test_data)\n",
        "    random.shuffle(neg_train_data)\n",
        "    random.shuffle(neg_test_data)\n",
        "\n",
        "    # Extract the base name without extension from the positive path and remove '_pos' if it exists\n",
        "    base_name = positive_path.rsplit('.', 1)[0]\n",
        "    base_name = base_name.replace('_pos', '')\n",
        "\n",
        "    # Create file names\n",
        "    pos_train_file_name = f'{base_name}_pos_train.fasta'\n",
        "    pos_test_file_name = f'{base_name}_pos_test.fasta'\n",
        "    neg_train_file_name = f'{base_name}_neg_train.fasta'\n",
        "    neg_test_file_name = f'{base_name}_neg_test.fasta'\n",
        "\n",
        "    # Save the datasets to files\n",
        "    print(f'Saving positive training data to {pos_train_file_name}')\n",
        "    with open(pos_train_file_name, 'w') as file:\n",
        "        file.write('\\n\\n'.join(pos_train_data))\n",
        "    print(f'Saving positive test data to {pos_test_file_name}')\n",
        "    with open(pos_test_file_name, 'w') as file:\n",
        "        file.write('\\n\\n'.join(pos_test_data))\n",
        "    print(f'Saving negative training data to {neg_train_file_name}')\n",
        "    with open(neg_train_file_name, 'w') as file:\n",
        "        file.write('\\n\\n'.join(neg_train_data))\n",
        "    print(f'Saving negative test data to {neg_test_file_name}')\n",
        "    with open(neg_test_file_name, 'w') as file:\n",
        "        file.write('\\n\\n'.join(neg_test_data))\n",
        "\n",
        "    print('Training and testing datasets have been saved separately for positive and negative sequences.')\n",
        "    print('-' * 40)"
      ],
      "metadata": {
        "id": "d729SL8DnEgr"
      },
      "execution_count": 151,
      "outputs": []
    },
    {
      "cell_type": "code",
      "source": [
        "pos_list = ['strict_pos_98.fasta', 'strict_pos_80.fasta', 'not_strict_pos_98.fasta', 'not_strict_pos_80.fasta']"
      ],
      "metadata": {
        "id": "-habiDTKXW_9"
      },
      "execution_count": 152,
      "outputs": []
    },
    {
      "cell_type": "code",
      "source": [
        "for path in pos_list:\n",
        "    process_fasta_files(\n",
        "        positive_path=path,\n",
        "        negative_path=\"negative.fasta\",\n",
        "        training_portion=0.8\n",
        "    )\n",
        "    print('\\n\\n\\n')"
      ],
      "metadata": {
        "colab": {
          "base_uri": "https://localhost:8080/"
        },
        "id": "IhatK7wdspcg",
        "outputId": "56de1d76-d514-4f5c-ef29-b36cfbba8f19"
      },
      "execution_count": 153,
      "outputs": [
        {
          "output_type": "stream",
          "name": "stdout",
          "text": [
            "----------------------------------------\n",
            "Simplifying the data for strict_pos_98.fasta ...\n",
            "File saved as strict_pos_98_simple.fasta\n",
            "Simplifying the data for negative.fasta ...\n",
            "File saved as negative_simple.fasta\n",
            "----------------------------------------\n",
            "Reading simplified data from strict_pos_98_simple.fasta ...\n",
            "Reading simplified data from negative_simple.fasta ...\n",
            "----------------------------------------\n",
            "Shuffling the positive sequences ...\n",
            "Shuffling the negative sequences ...\n",
            "----------------------------------------\n",
            "Number of positive sequences: 370\n",
            "Number of negative sequences: 570891\n",
            "----------------------------------------\n",
            "Training portion: 80.0%\n",
            "Number of positive sequences in training set: 296\n",
            "Number of positive sequences in test set: 74\n",
            "Number of negative sequences in training set: 456712\n",
            "Number of negative sequences in test set: 114179\n",
            "----------------------------------------\n",
            "Saving positive training data to strict_98_pos_train.fasta\n",
            "Saving positive test data to strict_98_pos_test.fasta\n",
            "Saving negative training data to strict_98_neg_train.fasta\n",
            "Saving negative test data to strict_98_neg_test.fasta\n",
            "Training and testing datasets have been saved separately for positive and negative sequences.\n",
            "----------------------------------------\n",
            "\n",
            "\n",
            "\n",
            "\n",
            "----------------------------------------\n",
            "Simplifying the data for strict_pos_80.fasta ...\n",
            "File saved as strict_pos_80_simple.fasta\n",
            "Simplifying the data for negative.fasta ...\n",
            "File saved as negative_simple.fasta\n",
            "----------------------------------------\n",
            "Reading simplified data from strict_pos_80_simple.fasta ...\n",
            "Reading simplified data from negative_simple.fasta ...\n",
            "----------------------------------------\n",
            "Shuffling the positive sequences ...\n",
            "Shuffling the negative sequences ...\n",
            "----------------------------------------\n",
            "Number of positive sequences: 328\n",
            "Number of negative sequences: 570891\n",
            "----------------------------------------\n",
            "Training portion: 80.0%\n",
            "Number of positive sequences in training set: 262\n",
            "Number of positive sequences in test set: 66\n",
            "Number of negative sequences in training set: 456712\n",
            "Number of negative sequences in test set: 114179\n",
            "----------------------------------------\n",
            "Saving positive training data to strict_80_pos_train.fasta\n",
            "Saving positive test data to strict_80_pos_test.fasta\n",
            "Saving negative training data to strict_80_neg_train.fasta\n",
            "Saving negative test data to strict_80_neg_test.fasta\n",
            "Training and testing datasets have been saved separately for positive and negative sequences.\n",
            "----------------------------------------\n",
            "\n",
            "\n",
            "\n",
            "\n",
            "----------------------------------------\n",
            "Simplifying the data for not_strict_pos_98.fasta ...\n",
            "File saved as not_strict_pos_98_simple.fasta\n",
            "Simplifying the data for negative.fasta ...\n",
            "File saved as negative_simple.fasta\n",
            "----------------------------------------\n",
            "Reading simplified data from not_strict_pos_98_simple.fasta ...\n",
            "Reading simplified data from negative_simple.fasta ...\n",
            "----------------------------------------\n",
            "Shuffling the positive sequences ...\n",
            "Shuffling the negative sequences ...\n",
            "----------------------------------------\n",
            "Number of positive sequences: 363\n",
            "Number of negative sequences: 570891\n",
            "----------------------------------------\n",
            "Training portion: 80.0%\n",
            "Number of positive sequences in training set: 290\n",
            "Number of positive sequences in test set: 73\n",
            "Number of negative sequences in training set: 456712\n",
            "Number of negative sequences in test set: 114179\n",
            "----------------------------------------\n",
            "Saving positive training data to not_strict_98_pos_train.fasta\n",
            "Saving positive test data to not_strict_98_pos_test.fasta\n",
            "Saving negative training data to not_strict_98_neg_train.fasta\n",
            "Saving negative test data to not_strict_98_neg_test.fasta\n",
            "Training and testing datasets have been saved separately for positive and negative sequences.\n",
            "----------------------------------------\n",
            "\n",
            "\n",
            "\n",
            "\n",
            "----------------------------------------\n",
            "Simplifying the data for not_strict_pos_80.fasta ...\n",
            "File saved as not_strict_pos_80_simple.fasta\n",
            "Simplifying the data for negative.fasta ...\n",
            "File saved as negative_simple.fasta\n",
            "----------------------------------------\n",
            "Reading simplified data from not_strict_pos_80_simple.fasta ...\n",
            "Reading simplified data from negative_simple.fasta ...\n",
            "----------------------------------------\n",
            "Shuffling the positive sequences ...\n",
            "Shuffling the negative sequences ...\n",
            "----------------------------------------\n",
            "Number of positive sequences: 319\n",
            "Number of negative sequences: 570891\n",
            "----------------------------------------\n",
            "Training portion: 80.0%\n",
            "Number of positive sequences in training set: 255\n",
            "Number of positive sequences in test set: 64\n",
            "Number of negative sequences in training set: 456712\n",
            "Number of negative sequences in test set: 114179\n",
            "----------------------------------------\n",
            "Saving positive training data to not_strict_80_pos_train.fasta\n",
            "Saving positive test data to not_strict_80_pos_test.fasta\n",
            "Saving negative training data to not_strict_80_neg_train.fasta\n",
            "Saving negative test data to not_strict_80_neg_test.fasta\n",
            "Training and testing datasets have been saved separately for positive and negative sequences.\n",
            "----------------------------------------\n",
            "\n",
            "\n",
            "\n",
            "\n"
          ]
        }
      ]
    },
    {
      "cell_type": "code",
      "source": [
        "dataset_names = []\n",
        "extensions = [\n",
        "    '_pos_train.fasta',\n",
        "    '_pos_test.fasta',\n",
        "    '_neg_train.fasta',\n",
        "    '_neg_test.fasta'\n",
        "]\n",
        "for raw_name in pos_list:\n",
        "    for i, extension in enumerate(extensions):\n",
        "        dataset_names.append(raw_name.split('.')[0].replace('_pos', '') + extension)"
      ],
      "metadata": {
        "id": "e2QIuX-TxR-u"
      },
      "execution_count": 154,
      "outputs": []
    },
    {
      "cell_type": "code",
      "source": [
        "dataset_names"
      ],
      "metadata": {
        "colab": {
          "base_uri": "https://localhost:8080/"
        },
        "id": "5nxY5IeEyiPD",
        "outputId": "5725d73d-8db4-48ef-d016-d36aed0a0070"
      },
      "execution_count": 155,
      "outputs": [
        {
          "output_type": "execute_result",
          "data": {
            "text/plain": [
              "['strict_98_pos_train.fasta',\n",
              " 'strict_98_pos_test.fasta',\n",
              " 'strict_98_neg_train.fasta',\n",
              " 'strict_98_neg_test.fasta',\n",
              " 'strict_80_pos_train.fasta',\n",
              " 'strict_80_pos_test.fasta',\n",
              " 'strict_80_neg_train.fasta',\n",
              " 'strict_80_neg_test.fasta',\n",
              " 'not_strict_98_pos_train.fasta',\n",
              " 'not_strict_98_pos_test.fasta',\n",
              " 'not_strict_98_neg_train.fasta',\n",
              " 'not_strict_98_neg_test.fasta',\n",
              " 'not_strict_80_pos_train.fasta',\n",
              " 'not_strict_80_pos_test.fasta',\n",
              " 'not_strict_80_neg_train.fasta',\n",
              " 'not_strict_80_neg_test.fasta']"
            ]
          },
          "metadata": {},
          "execution_count": 155
        }
      ]
    },
    {
      "cell_type": "markdown",
      "source": [
        "# HMM Search"
      ],
      "metadata": {
        "id": "SVnGGH_zToMy"
      }
    },
    {
      "cell_type": "code",
      "source": [
        "!hmmsearch -Z 1 --domZ 1 --max --noali --tblout strict_98_pos_train.out strict_msa.hmm strict_98_pos_train.fasta > /dev/null 2>&1\n",
        "!hmmsearch -Z 1 --domZ 1 --max --noali --tblout strict_80_pos_train.out strict_msa.hmm strict_80_pos_train.fasta > /dev/null 2>&1\n",
        "!hmmsearch -Z 1 --domZ 1 --max --noali --tblout strict_98_pos_test.out strict_msa.hmm strict_98_pos_test.fasta > /dev/null 2>&1\n",
        "!hmmsearch -Z 1 --domZ 1 --max --noali --tblout strict_80_pos_test.out strict_msa.hmm strict_80_pos_test.fasta > /dev/null 2>&1\n",
        "\n",
        "!hmmsearch -Z 1 --domZ 1 --max --noali --tblout not_strict_98_pos_train.out not_strict_msa.hmm not_strict_98_pos_train.fasta > /dev/null 2>&1\n",
        "!hmmsearch -Z 1 --domZ 1 --max --noali --tblout not_strict_80_pos_train.out not_strict_msa.hmm not_strict_80_pos_train.fasta > /dev/null 2>&1\n",
        "!hmmsearch -Z 1 --domZ 1 --max --noali --tblout not_strict_98_pos_test.out not_strict_msa.hmm not_strict_98_pos_test.fasta > /dev/null 2>&1\n",
        "!hmmsearch -Z 1 --domZ 1 --max --noali --tblout not_strict_80_pos_test.out not_strict_msa.hmm not_strict_80_pos_test.fasta > /dev/null 2>&1"
      ],
      "metadata": {
        "id": "BKgDJ3TMI7OA"
      },
      "execution_count": 156,
      "outputs": []
    },
    {
      "cell_type": "code",
      "source": [
        "!hmmsearch -Z 1 --domZ 1 --max --noali --tblout strict_98_neg_train.out strict_msa.hmm strict_98_neg_train.fasta > /dev/null 2>&1\n",
        "!hmmsearch -Z 1 --domZ 1 --max --noali --tblout strict_80_neg_train.out strict_msa.hmm strict_80_neg_train.fasta > /dev/null 2>&1\n",
        "!hmmsearch -Z 1 --domZ 1 --max --noali --tblout strict_98_neg_test.out strict_msa.hmm strict_98_neg_test.fasta > /dev/null 2>&1\n",
        "!hmmsearch -Z 1 --domZ 1 --max --noali --tblout strict_80_neg_test.out strict_msa.hmm strict_80_neg_test.fasta > /dev/null 2>&1\n",
        "\n",
        "!hmmsearch -Z 1 --domZ 1 --max --noali --tblout not_strict_98_neg_train.out not_strict_msa.hmm not_strict_98_neg_train.fasta > /dev/null 2>&1\n",
        "!hmmsearch -Z 1 --domZ 1 --max --noali --tblout not_strict_80_neg_train.out not_strict_msa.hmm not_strict_80_neg_train.fasta > /dev/null 2>&1\n",
        "!hmmsearch -Z 1 --domZ 1 --max --noali --tblout not_strict_98_neg_test.out not_strict_msa.hmm not_strict_98_neg_test.fasta > /dev/null 2>&1\n",
        "!hmmsearch -Z 1 --domZ 1 --max --noali --tblout not_strict_80_neg_test.out not_strict_msa.hmm not_strict_80_neg_test.fasta > /dev/null 2>&1"
      ],
      "metadata": {
        "id": "TcmCWUsuYMv9"
      },
      "execution_count": null,
      "outputs": []
    },
    {
      "cell_type": "markdown",
      "source": [
        "The code below is only for my own Drive"
      ],
      "metadata": {
        "id": "9rYThp_MpVdS"
      }
    },
    {
      "cell_type": "code",
      "source": [
        "# !cp /content/drive/MyDrive/lab_of_bioinformatics/strict_98_neg_train.out strict_98_neg_train.out\n",
        "# !cp /content/drive/MyDrive/lab_of_bioinformatics/strict_80_neg_train.out strict_80_neg_train.out\n",
        "# !cp /content/drive/MyDrive/lab_of_bioinformatics/strict_98_neg_test.out strict_98_neg_test.out\n",
        "# !cp /content/drive/MyDrive/lab_of_bioinformatics/strict_80_neg_test.out strict_80_neg_test.out\n",
        "\n",
        "# !cp /content/drive/MyDrive/lab_of_bioinformatics/not_strict_98_neg_train.out not_strict_98_neg_train.out\n",
        "# !cp /content/drive/MyDrive/lab_of_bioinformatics/not_strict_80_neg_train.out not_strict_80_neg_train.out\n",
        "# !cp /content/drive/MyDrive/lab_of_bioinformatics/not_strict_98_neg_test.out not_strict_98_neg_test.out\n",
        "# !cp /content/drive/MyDrive/lab_of_bioinformatics/not_strict_80_neg_test.out not_strict_80_neg_test.out"
      ],
      "metadata": {
        "id": "Q1DuqbUq6QeX"
      },
      "execution_count": 54,
      "outputs": []
    },
    {
      "cell_type": "markdown",
      "source": [
        "Preprocess the data for the model by extracting the unique identifier and e-value, and by appending a binary classification label to the dataset."
      ],
      "metadata": {
        "id": "aaHalLnJbbpd"
      }
    },
    {
      "cell_type": "code",
      "source": [
        "!grep -v \"^#\" strict_98_pos_train.out | awk '{print $1\"\\t\"$8\"\\t1\" }' > strict_98_pos_train.data\n",
        "!grep -v \"^#\" strict_80_pos_train.out | awk '{print $1\"\\t\"$8\"\\t1\" }' > strict_80_pos_train.data\n",
        "!grep -v \"^#\" strict_98_pos_test.out | awk '{print $1\"\\t\"$8\"\\t1\" }' > strict_98_pos_test.data\n",
        "!grep -v \"^#\" strict_80_pos_test.out | awk '{print $1\"\\t\"$8\"\\t1\" }' > strict_80_pos_test.data\n",
        "\n",
        "!grep -v \"^#\" not_strict_98_pos_train.out | awk '{print $1\"\\t\"$8\"\\t1\" }' > not_strict_98_pos_train.data\n",
        "!grep -v \"^#\" not_strict_80_pos_train.out | awk '{print $1\"\\t\"$8\"\\t1\" }' > not_strict_80_pos_train.data\n",
        "!grep -v \"^#\" not_strict_98_pos_test.out | awk '{print $1\"\\t\"$8\"\\t1\" }' > not_strict_98_pos_test.data\n",
        "!grep -v \"^#\" not_strict_80_pos_test.out | awk '{print $1\"\\t\"$8\"\\t1\" }' > not_strict_80_pos_test.data"
      ],
      "metadata": {
        "id": "HMkKmqFd8b2t"
      },
      "execution_count": 88,
      "outputs": []
    },
    {
      "cell_type": "code",
      "source": [
        "!grep -v \"^#\" strict_98_neg_train.out | awk '{print $1\"\\t\"$8\"\\t0\" }' > tmp_strict_98_neg_train.data\n",
        "!grep -v \"^#\" strict_80_neg_train.out | awk '{print $1\"\\t\"$8\"\\t0\" }' > tmp_strict_80_neg_train.data\n",
        "!grep -v \"^#\" strict_98_neg_test.out | awk '{print $1\"\\t\"$8\"\\t0\" }' > tmp_strict_98_neg_test.data\n",
        "!grep -v \"^#\" strict_80_neg_test.out | awk '{print $1\"\\t\"$8\"\\t0\" }' > tmp_strict_80_neg_test.data\n",
        "\n",
        "!grep -v \"^#\" not_strict_98_neg_train.out | awk '{print $1\"\\t\"$8\"\\t0\" }' > tmp_not_strict_98_neg_train.data\n",
        "!grep -v \"^#\" not_strict_80_neg_train.out | awk '{print $1\"\\t\"$8\"\\t0\" }' > tmp_not_strict_80_neg_train.data\n",
        "!grep -v \"^#\" not_strict_98_neg_test.out | awk '{print $1\"\\t\"$8\"\\t0\" }' > tmp_not_strict_98_neg_test.data\n",
        "!grep -v \"^#\" not_strict_80_neg_test.out | awk '{print $1\"\\t\"$8\"\\t0\" }' > tmp_not_strict_80_neg_test.data"
      ],
      "metadata": {
        "id": "1nhRGYC961_k"
      },
      "execution_count": 89,
      "outputs": []
    },
    {
      "cell_type": "markdown",
      "source": [
        "We need to identify the missing negative data using the `comm` command and add them to the negative dataset, assigning a high e-value to these entries."
      ],
      "metadata": {
        "id": "grcVTg9Lb0CX"
      }
    },
    {
      "cell_type": "code",
      "source": [
        "!comm -23 <(cat strict_98_neg_train.fasta | grep -v \"^#\" | grep \">\" | sed 's/>//g' | sort) <(cut -f 1 tmp_strict_98_neg_train.data | sort) | awk '{print $1\"\\t10\\t0\"}' >> tmp_strict_98_neg_train.data\n",
        "!comm -23 <(cat strict_80_neg_train.fasta | grep -v \"^#\" | grep \">\" | sed 's/>//g' | sort) <(cut -f 1 tmp_strict_80_neg_train.data | sort) | awk '{print $1\"\\t10\\t0\"}' >> tmp_strict_80_neg_train.data\n",
        "\n",
        "!comm -23 <(cat strict_98_neg_test.fasta | grep -v \"^#\" | grep \">\" | sed 's/>//g' | sort) <(cut -f 1 tmp_strict_98_neg_test.data | sort) | awk '{print $1\"\\t10\\t0\"}' >> tmp_strict_98_neg_test.data\n",
        "!comm -23 <(cat strict_80_neg_test.fasta | grep -v \"^#\" | grep \">\" | sed 's/>//g' | sort) <(cut -f 1 tmp_strict_80_neg_test.data | sort) | awk '{print $1\"\\t10\\t0\"}' >> tmp_strict_80_neg_test.data"
      ],
      "metadata": {
        "id": "0peplNYbYST2"
      },
      "execution_count": 90,
      "outputs": []
    },
    {
      "cell_type": "code",
      "source": [
        "!comm -23 <(cat not_strict_98_neg_train.fasta | grep -v \"^#\" | grep \">\" | sed 's/>//g' | sort) <(cut -f 1 tmp_not_strict_98_neg_train.data | sort) | awk '{print $1\"\\t10\\t0\"}' >> tmp_not_strict_98_neg_train.data\n",
        "!comm -23 <(cat not_strict_80_neg_train.fasta | grep -v \"^#\" | grep \">\" | sed 's/>//g' | sort) <(cut -f 1 tmp_not_strict_80_neg_train.data | sort) | awk '{print $1\"\\t10\\t0\"}' >> tmp_not_strict_80_neg_train.data\n",
        "\n",
        "!comm -23 <(cat not_strict_98_neg_test.fasta | grep -v \"^#\" | grep \">\" | sed 's/>//g' | sort) <(cut -f 1 tmp_not_strict_98_neg_test.data | sort) | awk '{print $1\"\\t10\\t0\"}' >> tmp_not_strict_98_neg_test.data\n",
        "!comm -23 <(cat not_strict_80_neg_test.fasta | grep -v \"^#\" | grep \">\" | sed 's/>//g' | sort) <(cut -f 1 tmp_not_strict_80_neg_test.data | sort) | awk '{print $1\"\\t10\\t0\"}' >> tmp_not_strict_80_neg_test.data"
      ],
      "metadata": {
        "id": "0q4QKSDi72uR"
      },
      "execution_count": 91,
      "outputs": []
    },
    {
      "cell_type": "markdown",
      "source": [
        "We concatenate the positive and negative files to create a single unified file."
      ],
      "metadata": {
        "id": "IMzReehhcEBl"
      }
    },
    {
      "cell_type": "code",
      "source": [
        "!cat tmp_strict_98_neg_train.data >> strict_98_pos_train.data && mv strict_98_pos_train.data strict_98_train.data\n",
        "!cat tmp_strict_80_neg_train.data >> strict_80_pos_train.data && mv strict_80_pos_train.data strict_80_train.data\n",
        "\n",
        "!cat tmp_not_strict_98_neg_train.data >> not_strict_98_pos_train.data && mv not_strict_98_pos_train.data not_strict_98_train.data\n",
        "!cat tmp_not_strict_80_neg_train.data >> not_strict_80_pos_train.data && mv not_strict_80_pos_train.data not_strict_80_train.data"
      ],
      "metadata": {
        "id": "mkFBjSS16nbh"
      },
      "execution_count": 92,
      "outputs": []
    },
    {
      "cell_type": "code",
      "source": [
        "!cat tmp_strict_98_neg_test.data >> strict_98_pos_test.data && mv strict_98_pos_test.data strict_98_test.data\n",
        "!cat tmp_strict_80_neg_test.data >> strict_80_pos_test.data && mv strict_80_pos_test.data strict_80_test.data\n",
        "\n",
        "!cat tmp_not_strict_98_neg_test.data >> not_strict_98_pos_test.data && mv not_strict_98_pos_test.data not_strict_98_test.data\n",
        "!cat tmp_not_strict_80_neg_test.data >> not_strict_80_pos_test.data && mv not_strict_80_pos_test.data not_strict_80_test.data"
      ],
      "metadata": {
        "id": "Z7gzv-4rKkDF"
      },
      "execution_count": 93,
      "outputs": []
    },
    {
      "cell_type": "code",
      "source": [
        "def evaluate_thresholds(predfile, threshold):\n",
        "    def compute_cm(preds, th):\n",
        "        cm = np.zeros((2, 2))\n",
        "        fn_ids = []\n",
        "        fp_ids = []\n",
        "        for pred in preds:\n",
        "            seq_id, e_value, label = pred\n",
        "            p = 0 if e_value > th else 1\n",
        "            cm[p][label] += 1\n",
        "            if p == 0 and label == 1:\n",
        "                fn_ids.append(seq_id)\n",
        "            elif p == 1 and label == 0:\n",
        "                fp_ids.append(seq_id)\n",
        "        return cm, fn_ids, fp_ids\n",
        "\n",
        "    def get_metrics(cm):\n",
        "        tp, tn = cm[1][1], cm[0][0]\n",
        "        fn, fp = cm[0][1], cm[1][0]\n",
        "        accuracy = (tn + tp) / np.sum(cm)\n",
        "        mcc = (tp * tn - fp * fn) / np.sqrt((tp + fp) * (tp + fn) * (tn + fp) * (tn + fn)) if (tp + fp) * (tp + fn) * (tn + fp) * (tn + fn) > 0 else 0\n",
        "        tpr = tp / (tp + fn) if (tp + fn) > 0 else 0\n",
        "        ppv = tp / (tp + fp) if (tp + fp) > 0 else 0\n",
        "        f1 = 2 * ppv * tpr / (ppv + tpr) if (ppv + tpr) > 0 else 0\n",
        "        return accuracy, mcc, tpr, ppv, f1\n",
        "\n",
        "    print(\"Reading data from file...\")\n",
        "    preds = []\n",
        "    with open(predfile, \"r\") as f:\n",
        "        for line in f:\n",
        "            seq_id, e_value, label = line.rstrip().split()\n",
        "            preds.append((seq_id, float(e_value), int(label)))\n",
        "    print(\"Data reading completed.\")\n",
        "\n",
        "    print(\"\\nComputing final metrics with the threshold...\")\n",
        "    cm, fn_ids, fp_ids = compute_cm(preds, threshold)\n",
        "    accuracy, mcc, tpr, ppv, f1 = get_metrics(cm)\n",
        "\n",
        "    print(\"\\nFinal results:\")\n",
        "    print(f\"Threshold: {threshold}\")\n",
        "    print(f\"Accuracy: {accuracy:.4f}\")\n",
        "    print(f\"MCC: {mcc:.4f}\")\n",
        "    print(f\"TPR (Recall): {tpr:.4f}\")\n",
        "    print(f\"PPV (Precision): {ppv:.4f}\")\n",
        "    print(f\"F1 Score: {f1:.4f}\")\n",
        "    print(\"\\nIDs of False Negatives:\", ', '.join(fn_ids))\n",
        "    print(\"IDs of False Positives:\", ', '.join(fp_ids))\n",
        "\n",
        "    print(\"\\nPlotting the confusion matrix...\")\n",
        "    sns.set(style=\"whitegrid\")\n",
        "    plt.figure(figsize=(6, 5))\n",
        "    sns.heatmap(cm, annot=True, fmt=\".1f\", cmap=\"Blues\", xticklabels=['Negative', 'Positive'], yticklabels=['Negative', 'Positive'])\n",
        "    plt.xlabel('Actual')\n",
        "    plt.ylabel('Predicted')\n",
        "    plt.title(f'Confusion Matrix (Threshold: {threshold})')\n",
        "    plt.show()\n"
      ],
      "metadata": {
        "id": "P949Dz_idk_H"
      },
      "execution_count": 94,
      "outputs": []
    },
    {
      "cell_type": "code",
      "source": [
        "def find_optimal_threshold(predfile, initial_range=(1e-10, 1.0), tol=1e-10, max_iter=100):\n",
        "    preds = []\n",
        "    with open(predfile, \"r\") as f:\n",
        "        for line in f:\n",
        "            seq_id, e_value, label = line.rstrip().split()\n",
        "            preds.append((seq_id, float(e_value), int(label)))\n",
        "\n",
        "    def compute_cm(preds, th):\n",
        "        cm = np.zeros((2, 2))\n",
        "        for pred in preds:\n",
        "            seq_id, e_value, label = pred\n",
        "            p = 0 if e_value > th else 1\n",
        "            cm[p][label] += 1\n",
        "        return cm\n",
        "\n",
        "    def get_f1_score(cm):\n",
        "        tp, tn = cm[1][1], cm[0][0]\n",
        "        fn, fp = cm[0][1], cm[1][0]\n",
        "        ppv = tp / (tp + fp) if (tp + fp) > 0 else 0\n",
        "        tpr = tp / (tp + fn) if (tp + fn) > 0 else 0\n",
        "        return 2 * ppv * tpr / (ppv + tpr) if (ppv + tpr) > 0 else 0\n",
        "\n",
        "    low, high = initial_range\n",
        "    best_th, best_f1 = low, 0\n",
        "\n",
        "    for _ in range(max_iter):\n",
        "        mid = (low + high) / 2\n",
        "        cm = compute_cm(preds, mid)\n",
        "        f1 = get_f1_score(cm)\n",
        "\n",
        "        print(f\"Threshold {mid}: F1 Score = {f1:.4f}\")\n",
        "\n",
        "        if f1 > best_f1:\n",
        "            best_f1 = f1\n",
        "            best_th = mid\n",
        "\n",
        "        if high - low < tol:\n",
        "            break\n",
        "\n",
        "        if f1 > best_f1:\n",
        "            low = mid\n",
        "        else:\n",
        "            high = mid\n",
        "\n",
        "    print(f\"Optimal threshold found: {best_th} with F1 Score = {best_f1:.4f}\")\n",
        "    return best_th\n"
      ],
      "metadata": {
        "id": "TcYKcQ25_bD-"
      },
      "execution_count": 95,
      "outputs": []
    },
    {
      "cell_type": "code",
      "source": [
        "strict_train_98 = 'strict_98_train.data'\n",
        "strict_opt_th_98 = find_optimal_threshold(strict_train_98)\n",
        "evaluate_thresholds(strict_train_98, strict_opt_th_98)"
      ],
      "metadata": {
        "colab": {
          "base_uri": "https://localhost:8080/",
          "height": 1000
        },
        "id": "3GHnGRViKa7M",
        "outputId": "ffe1c4a0-42b9-4af4-9a3a-fd87cc2ad1f3"
      },
      "execution_count": 96,
      "outputs": [
        {
          "output_type": "stream",
          "name": "stdout",
          "text": [
            "Threshold 0.50000000005: F1 Score = 0.0074\n",
            "Threshold 0.250000000075: F1 Score = 0.0133\n",
            "Threshold 0.1250000000875: F1 Score = 0.0256\n",
            "Threshold 0.06250000009375001: F1 Score = 0.0490\n",
            "Threshold 0.031250000096875: F1 Score = 0.0942\n",
            "Threshold 0.0156250000984375: F1 Score = 0.1794\n",
            "Threshold 0.007812500099218751: F1 Score = 0.3074\n",
            "Threshold 0.0039062500996093754: F1 Score = 0.4884\n",
            "Threshold 0.0019531250998046875: F1 Score = 0.6549\n",
            "Threshold 0.0009765625999023438: F1 Score = 0.7883\n",
            "Threshold 0.0004882813499511719: F1 Score = 0.8783\n",
            "Threshold 0.00024414072497558597: F1 Score = 0.9136\n",
            "Threshold 0.00012207041248779297: F1 Score = 0.9323\n",
            "Threshold 6.103525624389649e-05: F1 Score = 0.9487\n",
            "Threshold 3.051767812194824e-05: F1 Score = 0.9548\n",
            "Threshold 1.525888906097412e-05: F1 Score = 0.9642\n",
            "Threshold 7.62949453048706e-06: F1 Score = 0.9721\n",
            "Threshold 3.8147972652435305e-06: F1 Score = 0.9834\n",
            "Threshold 1.9074486326217653e-06: F1 Score = 0.9833\n",
            "Threshold 9.537743163108826e-07: F1 Score = 0.9883\n",
            "Threshold 4.769371581554413e-07: F1 Score = 0.9899\n",
            "Threshold 2.3851857907772065e-07: F1 Score = 0.9882\n",
            "Threshold 1.1930928953886033e-07: F1 Score = 0.9899\n",
            "Threshold 5.970464476943017e-08: F1 Score = 0.9915\n",
            "Threshold 2.990232238471508e-08: F1 Score = 0.9932\n",
            "Threshold 1.500116119235754e-08: F1 Score = 0.9949\n",
            "Threshold 7.550580596178771e-09: F1 Score = 0.9949\n",
            "Threshold 3.825290298089385e-09: F1 Score = 0.9949\n",
            "Threshold 1.9626451490446926e-09: F1 Score = 0.9932\n",
            "Threshold 1.0313225745223463e-09: F1 Score = 0.9932\n",
            "Threshold 5.656612872611732e-10: F1 Score = 0.9932\n",
            "Threshold 3.328306436305866e-10: F1 Score = 0.9932\n",
            "Threshold 2.164153218152933e-10: F1 Score = 0.9932\n",
            "Threshold 1.5820766090764666e-10: F1 Score = 0.9932\n",
            "Threshold 1.2910383045382334e-10: F1 Score = 0.9932\n",
            "Optimal threshold found: 1.500116119235754e-08 with F1 Score = 0.9949\n",
            "Reading data from file...\n",
            "Data reading completed.\n",
            "\n",
            "Computing final metrics with the threshold...\n",
            "\n",
            "Final results:\n",
            "Threshold: 1.500116119235754e-08\n",
            "Accuracy: 1.0000\n",
            "MCC: 0.9949\n",
            "TPR (Recall): 0.9899\n",
            "PPV (Precision): 1.0000\n",
            "F1 Score: 0.9949\n",
            "\n",
            "IDs of False Negatives: Q8WPG5, O62247, D3GGZ8\n",
            "IDs of False Positives: \n",
            "\n",
            "Plotting the confusion matrix...\n"
          ]
        },
        {
          "output_type": "display_data",
          "data": {
            "text/plain": [
              "<Figure size 600x500 with 2 Axes>"
            ],
            "image/png": "[encoded data removed]"
          },
          "metadata": {}
        }
      ]
    },
    {
      "cell_type": "code",
      "source": [
        "strict_test_98 = 'strict_98_test.data'\n",
        "evaluate_thresholds(strict_test_98, strict_opt_th_98)"
      ],
      "metadata": {
        "colab": {
          "base_uri": "https://localhost:8080/",
          "height": 791
        },
        "id": "nUufYIVzLQ0X",
        "outputId": "a166b5d4-34c0-45d0-fb25-a0891a6e79cc"
      },
      "execution_count": 97,
      "outputs": [
        {
          "output_type": "stream",
          "name": "stdout",
          "text": [
            "Reading data from file...\n",
            "Data reading completed.\n",
            "\n",
            "Computing final metrics with the threshold...\n",
            "\n",
            "Final results:\n",
            "Threshold: 1.500116119235754e-08\n",
            "Accuracy: 1.0000\n",
            "MCC: 0.9933\n",
            "TPR (Recall): 1.0000\n",
            "PPV (Precision): 0.9867\n",
            "F1 Score: 0.9933\n",
            "\n",
            "IDs of False Negatives: \n",
            "IDs of False Positives: P84555\n",
            "\n",
            "Plotting the confusion matrix...\n"
          ]
        },
        {
          "output_type": "display_data",
          "data": {
            "text/plain": [
              "<Figure size 600x500 with 2 Axes>"
            ],
            "image/png": "[encoded data removed]"
          },
          "metadata": {}
        }
      ]
    },
    {
      "cell_type": "code",
      "source": [
        "strict_train_80 = 'strict_80_train.data'\n",
        "strict_opt_th_80 = find_optimal_threshold(strict_train_80)\n",
        "evaluate_thresholds(strict_train_80, strict_opt_th_80)"
      ],
      "metadata": {
        "colab": {
          "base_uri": "https://localhost:8080/",
          "height": 1000
        },
        "id": "mNiUyv86LtIg",
        "outputId": "248b5e31-c949-454a-ae68-0e5bf11ece17"
      },
      "execution_count": 98,
      "outputs": [
        {
          "output_type": "stream",
          "name": "stdout",
          "text": [
            "Threshold 0.50000000005: F1 Score = 0.0066\n",
            "Threshold 0.250000000075: F1 Score = 0.0118\n",
            "Threshold 0.1250000000875: F1 Score = 0.0227\n",
            "Threshold 0.06250000009375001: F1 Score = 0.0435\n",
            "Threshold 0.031250000096875: F1 Score = 0.0843\n",
            "Threshold 0.0156250000984375: F1 Score = 0.1621\n",
            "Threshold 0.007812500099218751: F1 Score = 0.2798\n",
            "Threshold 0.0039062500996093754: F1 Score = 0.4596\n",
            "Threshold 0.0019531250998046875: F1 Score = 0.6321\n",
            "Threshold 0.0009765625999023438: F1 Score = 0.7706\n",
            "Threshold 0.0004882813499511719: F1 Score = 0.8618\n",
            "Threshold 0.00024414072497558597: F1 Score = 0.9003\n",
            "Threshold 0.00012207041248779297: F1 Score = 0.9193\n",
            "Threshold 6.103525624389649e-05: F1 Score = 0.9408\n",
            "Threshold 3.051767812194824e-05: F1 Score = 0.9510\n",
            "Threshold 1.525888906097412e-05: F1 Score = 0.9597\n",
            "Threshold 7.62949453048706e-06: F1 Score = 0.9686\n",
            "Threshold 3.8147972652435305e-06: F1 Score = 0.9813\n",
            "Threshold 1.9074486326217653e-06: F1 Score = 0.9849\n",
            "Threshold 9.537743163108826e-07: F1 Score = 0.9868\n",
            "Threshold 4.769371581554413e-07: F1 Score = 0.9868\n",
            "Threshold 2.3851857907772065e-07: F1 Score = 0.9867\n",
            "Threshold 1.1930928953886033e-07: F1 Score = 0.9886\n",
            "Threshold 5.970464476943017e-08: F1 Score = 0.9905\n",
            "Threshold 2.990232238471508e-08: F1 Score = 0.9924\n",
            "Threshold 1.500116119235754e-08: F1 Score = 0.9943\n",
            "Threshold 7.550580596178771e-09: F1 Score = 0.9943\n",
            "Threshold 3.825290298089385e-09: F1 Score = 0.9943\n",
            "Threshold 1.9626451490446926e-09: F1 Score = 0.9962\n",
            "Threshold 1.0313225745223463e-09: F1 Score = 0.9962\n",
            "Threshold 5.656612872611732e-10: F1 Score = 0.9962\n",
            "Threshold 3.328306436305866e-10: F1 Score = 0.9942\n",
            "Threshold 2.164153218152933e-10: F1 Score = 0.9942\n",
            "Threshold 1.5820766090764666e-10: F1 Score = 0.9942\n",
            "Threshold 1.2910383045382334e-10: F1 Score = 0.9942\n",
            "Optimal threshold found: 1.9626451490446926e-09 with F1 Score = 0.9962\n",
            "Reading data from file...\n",
            "Data reading completed.\n",
            "\n",
            "Computing final metrics with the threshold...\n",
            "\n",
            "Final results:\n",
            "Threshold: 1.9626451490446926e-09\n",
            "Accuracy: 1.0000\n",
            "MCC: 0.9962\n",
            "TPR (Recall): 0.9924\n",
            "PPV (Precision): 1.0000\n",
            "F1 Score: 0.9962\n",
            "\n",
            "IDs of False Negatives: Q8WPG5, D3GGZ8\n",
            "IDs of False Positives: \n",
            "\n",
            "Plotting the confusion matrix...\n"
          ]
        },
        {
          "output_type": "display_data",
          "data": {
            "text/plain": [
              "<Figure size 600x500 with 2 Axes>"
            ],
            "image/png": "[encoded data removed]"
          },
          "metadata": {}
        }
      ]
    },
    {
      "cell_type": "code",
      "source": [
        "strict_test_80 = 'strict_80_test.data'\n",
        "evaluate_thresholds(strict_test_80, strict_opt_th_80)"
      ],
      "metadata": {
        "colab": {
          "base_uri": "https://localhost:8080/",
          "height": 791
        },
        "id": "IMdkrSVENZNE",
        "outputId": "7ef985c5-bd78-4bf4-84ee-c88d52fea137"
      },
      "execution_count": 99,
      "outputs": [
        {
          "output_type": "stream",
          "name": "stdout",
          "text": [
            "Reading data from file...\n",
            "Data reading completed.\n",
            "\n",
            "Computing final metrics with the threshold...\n",
            "\n",
            "Final results:\n",
            "Threshold: 1.9626451490446926e-09\n",
            "Accuracy: 1.0000\n",
            "MCC: 0.9924\n",
            "TPR (Recall): 0.9848\n",
            "PPV (Precision): 1.0000\n",
            "F1 Score: 0.9924\n",
            "\n",
            "IDs of False Negatives: P86963\n",
            "IDs of False Positives: \n",
            "\n",
            "Plotting the confusion matrix...\n"
          ]
        },
        {
          "output_type": "display_data",
          "data": {
            "text/plain": [
              "<Figure size 600x500 with 2 Axes>"
            ],
            "image/png": "[encoded data removed]"
          },
          "metadata": {}
        }
      ]
    },
    {
      "cell_type": "code",
      "source": [
        "not_strict_train_98 = 'not_strict_98_train.data'\n",
        "not_strict_opt_th_98 = find_optimal_threshold(not_strict_train_98)\n",
        "evaluate_thresholds(not_strict_train_98, not_strict_opt_th_98)"
      ],
      "metadata": {
        "id": "mVoRqBHgNgvT",
        "colab": {
          "base_uri": "https://localhost:8080/",
          "height": 1000
        },
        "outputId": "a21178ca-9f01-442f-be74-75bbfe6cd8ee"
      },
      "execution_count": 100,
      "outputs": [
        {
          "output_type": "stream",
          "name": "stdout",
          "text": [
            "Threshold 0.50000000005: F1 Score = 0.0069\n",
            "Threshold 0.250000000075: F1 Score = 0.0118\n",
            "Threshold 0.1250000000875: F1 Score = 0.0221\n",
            "Threshold 0.06250000009375001: F1 Score = 0.0428\n",
            "Threshold 0.031250000096875: F1 Score = 0.0859\n",
            "Threshold 0.0156250000984375: F1 Score = 0.1642\n",
            "Threshold 0.007812500099218751: F1 Score = 0.2778\n",
            "Threshold 0.0039062500996093754: F1 Score = 0.4465\n",
            "Threshold 0.0019531250998046875: F1 Score = 0.6332\n",
            "Threshold 0.0009765625999023438: F1 Score = 0.7692\n",
            "Threshold 0.0004882813499511719: F1 Score = 0.8369\n",
            "Threshold 0.00024414072497558597: F1 Score = 0.9034\n",
            "Threshold 0.00012207041248779297: F1 Score = 0.9310\n",
            "Threshold 6.103525624389649e-05: F1 Score = 0.9493\n",
            "Threshold 3.051767812194824e-05: F1 Score = 0.9571\n",
            "Threshold 1.525888906097412e-05: F1 Score = 0.9715\n",
            "Threshold 7.62949453048706e-06: F1 Score = 0.9731\n",
            "Threshold 3.8147972652435305e-06: F1 Score = 0.9813\n",
            "Threshold 1.9074486326217653e-06: F1 Score = 0.9829\n",
            "Threshold 9.537743163108826e-07: F1 Score = 0.9846\n",
            "Threshold 4.769371581554413e-07: F1 Score = 0.9863\n",
            "Threshold 2.3851857907772065e-07: F1 Score = 0.9914\n",
            "Threshold 1.1930928953886033e-07: F1 Score = 0.9931\n",
            "Threshold 5.970464476943017e-08: F1 Score = 0.9931\n",
            "Threshold 2.990232238471508e-08: F1 Score = 0.9948\n",
            "Threshold 1.500116119235754e-08: F1 Score = 0.9948\n",
            "Threshold 7.550580596178771e-09: F1 Score = 0.9948\n",
            "Threshold 3.825290298089385e-09: F1 Score = 0.9948\n",
            "Threshold 1.9626451490446926e-09: F1 Score = 0.9965\n",
            "Threshold 1.0313225745223463e-09: F1 Score = 0.9965\n",
            "Threshold 5.656612872611732e-10: F1 Score = 0.9965\n",
            "Threshold 3.328306436305866e-10: F1 Score = 0.9965\n",
            "Threshold 2.164153218152933e-10: F1 Score = 0.9948\n",
            "Threshold 1.5820766090764666e-10: F1 Score = 0.9948\n",
            "Threshold 1.2910383045382334e-10: F1 Score = 0.9948\n",
            "Optimal threshold found: 1.9626451490446926e-09 with F1 Score = 0.9965\n",
            "Reading data from file...\n",
            "Data reading completed.\n",
            "\n",
            "Computing final metrics with the threshold...\n",
            "\n",
            "Final results:\n",
            "Threshold: 1.9626451490446926e-09\n",
            "Accuracy: 1.0000\n",
            "MCC: 0.9965\n",
            "TPR (Recall): 0.9931\n",
            "PPV (Precision): 1.0000\n",
            "F1 Score: 0.9965\n",
            "\n",
            "IDs of False Negatives: Q8WPG5, D3GGZ8\n",
            "IDs of False Positives: \n",
            "\n",
            "Plotting the confusion matrix...\n"
          ]
        },
        {
          "output_type": "display_data",
          "data": {
            "text/plain": [
              "<Figure size 600x500 with 2 Axes>"
            ],
            "image/png": "[encoded data removed]"
          },
          "metadata": {}
        }
      ]
    },
    {
      "cell_type": "code",
      "source": [
        "not_strict_test_98 = 'not_strict_98_test.data'\n",
        "evaluate_thresholds(not_strict_test_98, not_strict_opt_th_98)"
      ],
      "metadata": {
        "colab": {
          "base_uri": "https://localhost:8080/",
          "height": 791
        },
        "id": "nAOmDiAeggQ-",
        "outputId": "1ba637ae-42bd-4b18-d67d-9e56990eb08d"
      },
      "execution_count": 101,
      "outputs": [
        {
          "output_type": "stream",
          "name": "stdout",
          "text": [
            "Reading data from file...\n",
            "Data reading completed.\n",
            "\n",
            "Computing final metrics with the threshold...\n",
            "\n",
            "Final results:\n",
            "Threshold: 1.9626451490446926e-09\n",
            "Accuracy: 1.0000\n",
            "MCC: 0.9931\n",
            "TPR (Recall): 0.9863\n",
            "PPV (Precision): 1.0000\n",
            "F1 Score: 0.9931\n",
            "\n",
            "IDs of False Negatives: O62247\n",
            "IDs of False Positives: \n",
            "\n",
            "Plotting the confusion matrix...\n"
          ]
        },
        {
          "output_type": "display_data",
          "data": {
            "text/plain": [
              "<Figure size 600x500 with 2 Axes>"
            ],
            "image/png": "[encoded data removed]"
          },
          "metadata": {}
        }
      ]
    },
    {
      "cell_type": "code",
      "source": [
        "not_strict_train_80 = 'not_strict_80_train.data'\n",
        "not_strict_opt_th_80 = find_optimal_threshold(not_strict_train_80)\n",
        "evaluate_thresholds(not_strict_train_80, not_strict_opt_th_80)"
      ],
      "metadata": {
        "colab": {
          "base_uri": "https://localhost:8080/",
          "height": 1000
        },
        "id": "ISQzZZNqgv_h",
        "outputId": "c439dab8-372c-4fc2-e17e-5c4c05536139"
      },
      "execution_count": 102,
      "outputs": [
        {
          "output_type": "stream",
          "name": "stdout",
          "text": [
            "Threshold 0.50000000005: F1 Score = 0.0061\n",
            "Threshold 0.250000000075: F1 Score = 0.0104\n",
            "Threshold 0.1250000000875: F1 Score = 0.0196\n",
            "Threshold 0.06250000009375001: F1 Score = 0.0377\n",
            "Threshold 0.031250000096875: F1 Score = 0.0757\n",
            "Threshold 0.0156250000984375: F1 Score = 0.1457\n",
            "Threshold 0.007812500099218751: F1 Score = 0.2495\n",
            "Threshold 0.0039062500996093754: F1 Score = 0.4170\n",
            "Threshold 0.0019531250998046875: F1 Score = 0.6036\n",
            "Threshold 0.0009765625999023438: F1 Score = 0.7578\n",
            "Threshold 0.0004882813499511719: F1 Score = 0.8239\n",
            "Threshold 0.00024414072497558597: F1 Score = 0.8947\n",
            "Threshold 0.00012207041248779297: F1 Score = 0.9239\n",
            "Threshold 6.103525624389649e-05: F1 Score = 0.9444\n",
            "Threshold 3.051767812194824e-05: F1 Score = 0.9533\n",
            "Threshold 1.525888906097412e-05: F1 Score = 0.9714\n",
            "Threshold 7.62949453048706e-06: F1 Score = 0.9713\n",
            "Threshold 3.8147972652435305e-06: F1 Score = 0.9845\n",
            "Threshold 1.9074486326217653e-06: F1 Score = 0.9883\n",
            "Threshold 9.537743163108826e-07: F1 Score = 0.9903\n",
            "Threshold 4.769371581554413e-07: F1 Score = 0.9902\n",
            "Threshold 2.3851857907772065e-07: F1 Score = 0.9961\n",
            "Threshold 1.1930928953886033e-07: F1 Score = 0.9961\n",
            "Threshold 5.970464476943017e-08: F1 Score = 0.9961\n",
            "Threshold 2.990232238471508e-08: F1 Score = 0.9961\n",
            "Threshold 1.500116119235754e-08: F1 Score = 0.9961\n",
            "Threshold 7.550580596178771e-09: F1 Score = 0.9961\n",
            "Threshold 3.825290298089385e-09: F1 Score = 0.9961\n",
            "Threshold 1.9626451490446926e-09: F1 Score = 0.9961\n",
            "Threshold 1.0313225745223463e-09: F1 Score = 0.9941\n",
            "Threshold 5.656612872611732e-10: F1 Score = 0.9941\n",
            "Threshold 3.328306436305866e-10: F1 Score = 0.9941\n",
            "Threshold 2.164153218152933e-10: F1 Score = 0.9921\n",
            "Threshold 1.5820766090764666e-10: F1 Score = 0.9921\n",
            "Threshold 1.2910383045382334e-10: F1 Score = 0.9921\n",
            "Optimal threshold found: 2.3851857907772065e-07 with F1 Score = 0.9961\n",
            "Reading data from file...\n",
            "Data reading completed.\n",
            "\n",
            "Computing final metrics with the threshold...\n",
            "\n",
            "Final results:\n",
            "Threshold: 2.3851857907772065e-07\n",
            "Accuracy: 1.0000\n",
            "MCC: 0.9961\n",
            "TPR (Recall): 0.9922\n",
            "PPV (Precision): 1.0000\n",
            "F1 Score: 0.9961\n",
            "\n",
            "IDs of False Negatives: O62247, D3GGZ8\n",
            "IDs of False Positives: \n",
            "\n",
            "Plotting the confusion matrix...\n"
          ]
        },
        {
          "output_type": "display_data",
          "data": {
            "text/plain": [
              "<Figure size 600x500 with 2 Axes>"
            ],
            "image/png": "[encoded data removed]"
          },
          "metadata": {}
        }
      ]
    },
    {
      "cell_type": "code",
      "source": [
        "not_strict_test_80 = 'not_strict_80_test.data'\n",
        "evaluate_thresholds(not_strict_test_80, not_strict_opt_th_80)"
      ],
      "metadata": {
        "colab": {
          "base_uri": "https://localhost:8080/",
          "height": 791
        },
        "id": "_7SnrF5Ag1uF",
        "outputId": "55f3c7eb-7753-4196-cae3-b421d6136c88"
      },
      "execution_count": 103,
      "outputs": [
        {
          "output_type": "stream",
          "name": "stdout",
          "text": [
            "Reading data from file...\n",
            "Data reading completed.\n",
            "\n",
            "Computing final metrics with the threshold...\n",
            "\n",
            "Final results:\n",
            "Threshold: 2.3851857907772065e-07\n",
            "Accuracy: 1.0000\n",
            "MCC: 0.9693\n",
            "TPR (Recall): 0.9844\n",
            "PPV (Precision): 0.9545\n",
            "F1 Score: 0.9692\n",
            "\n",
            "IDs of False Negatives: Q8WPG5\n",
            "IDs of False Positives: P84555, P0DJ63, P83605\n",
            "\n",
            "Plotting the confusion matrix...\n"
          ]
        },
        {
          "output_type": "display_data",
          "data": {
            "text/plain": [
              "<Figure size 600x500 with 2 Axes>"
            ],
            "image/png": "[encoded data removed]"
          },
          "metadata": {}
        }
      ]
    },
    {
      "cell_type": "markdown",
      "source": [
        "# Discussion"
      ],
      "metadata": {
        "id": "qZ0sNL70wZYP"
      }
    },
    {
      "cell_type": "markdown",
      "source": [
        "Upon reviewing the UniProt IDs for false positives (FPs) and false negatives (FNs), it was noted that all had an annotation score below 4, except for one from the less strict dataset, which had a score of 5. This particular ID seems to be the only genuinely erroneous data that also boasts a high annotation score. This observation suggests that implementing stricter criteria for selecting proteins with Kunitz domains for structural and sequence alignment could enhance our final results. The analysis reveals that the less strict dataset with a threshold of 80 was the least effective for training our model, likely due to the inclusion of numerous low-quality proteins, which degraded model performance. In contrast, the other three datasets—strict_98, strict_80, and less strict_98—showed similar performances. The noteworthy difference was that in the less strict_98 dataset, the misclassified protein was O62247, which had a high annotation score of 5, whereas in the strict_98 and strict_80 datasets, the misclassifications involved proteins with low annotation scores. This pattern reinforces the benefit of stricter selection criteria for protein datasets, potentially resulting in fewer proteins but significantly better performance overall."
      ],
      "metadata": {
        "id": "KZmmFnr_g45W"
      }
    }
  ],
  "metadata": {
    "colab": {
      "provenance": [],
      "gpuType": "T4",
      "toc_visible": true
    },
    "kernelspec": {
      "display_name": "Python 3",
      "name": "python3"
    },
    "language_info": {
      "name": "python"
    },
    "accelerator": "GPU"
  },
  "nbformat": 4,
  "nbformat_minor": 0
}